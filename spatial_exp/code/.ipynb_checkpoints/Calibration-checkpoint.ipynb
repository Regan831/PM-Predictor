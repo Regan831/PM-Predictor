{
 "cells": [
  {
   "cell_type": "markdown",
   "metadata": {},
   "source": [
    "# Sensor Calibration"
   ]
  },
  {
   "cell_type": "markdown",
   "metadata": {},
   "source": [
    "### Calibration of six stationary and two mobile sensors during a period of colocation"
   ]
  },
  {
   "cell_type": "code",
   "execution_count": 1,
   "metadata": {},
   "outputs": [],
   "source": [
    "##Adapted from Andrew Bates' code at https://github.com/specknet/airspeck-comparison/blob/master/6%20Airspeck%20S.ipynb\n",
    "import os\n",
    "from data_download import DataDownloader\n",
    "\n",
    "import numpy as np\n",
    "import matplotlib.pyplot as plt\n",
    "import matplotlib\n",
    "import pandas as pd\n",
    "\n",
    "from datetime import datetime\n",
    "import time\n",
    "\n",
    "from bokeh.io import show, output_notebook, output_file, reset_output\n",
    "from bokeh.plotting import figure\n",
    "\n",
    "from bokeh.models import DatetimeTickFormatter"
   ]
  },
  {
   "cell_type": "code",
   "execution_count": 2,
   "metadata": {},
   "outputs": [],
   "source": [
    "start_date = 20180601\n",
    "end_date = 20180615\n",
    "\n",
    "uuids = [\"02E5F77764B873DA\",\n",
    "        \"200A7CED9D597407\",\n",
    "        \"E5FD8C55EAA37555\",\n",
    "        \"AA0E63CF5118F98F\",\n",
    "        \"B61241EF668DBC2C\",\n",
    "        \"E786F1568F65C296\" ]\n",
    "\n",
    "sids = ['XXG161', 'XXG162']\n",
    "\n",
    "factors = [[1.0 ,        1.0 ,       1.0 , 1.    ,     1.            ],\n",
    " [2.0100042 , 1.54961648 ,1.5126218 , 1.00494929, 1.00478554],\n",
    " [1.59078671, 1.21618292, 1.19189916, 1.01233884, 0.9918236],\n",
    " [2.93987177 ,2.3760729 , 2.31180713, 0.98098509, 1.03301718],\n",
    " [2.75341775 ,2.34367823, 2.21772871, 0.98226178, 1.01829024],\n",
    " [8.11136564, 7.08428589, 7.04657879, 0.96830023, 1.03546691],\n",
    " [5.05004303, 4.86456945, 4.72626118, 1.16005363, 0.74392267],\n",
    " [5.09431241, 4.90857996, 4.6303786, 1.18617219, 0.7362692  ]]\n",
    "\n",
    "def toTimestamp(date):\n",
    "    date = datetime.strptime(date.split(\".\")[0], \"%Y-%m-%d %H:%M:%S\")\n",
    "    return date\n",
    "\n",
    "data_dir = \"/Users/zoepetard/Google Drive/Edinburgh/MscProj/FillingTheGaps/data/\"+str(start_date)+\"-\"+str(end_date)+\"/\"\n",
    "\n",
    "if not os.path.exists(data_dir):\n",
    "    os.makedirs(data_dir)"
   ]
  },
  {
   "cell_type": "markdown",
   "metadata": {},
   "source": [
    "## Download Data"
   ]
  },
  {
   "cell_type": "code",
   "execution_count": null,
   "metadata": {},
   "outputs": [],
   "source": [
    "#Download data\n",
    "dataDownloader = DataDownloader()\n",
    "#dataDownloader.loadAirSpeckS(start_date, end_date, data_dir)\n",
    "#Once this data is downloaded, it can be retrieved from: data_dir + \"/\" + str(uuid) + '.csv'\n",
    "\n",
    "#dataDownloader.loadAirSpeckP(start_date, end_date, sids, data_dir)\n",
    "#Once this data is downloaded, it can be retrieved from: data_dir + \"/\" + str(sid) + '_' + str(date) + '.csv'\n"
   ]
  },
  {
   "cell_type": "markdown",
   "metadata": {},
   "source": [
    "## Read Static CSV"
   ]
  },
  {
   "cell_type": "code",
   "execution_count": 3,
   "metadata": {},
   "outputs": [],
   "source": [
    "sdata = []\n",
    "#sdates = []\n",
    "for i in range(len(uuids)):\n",
    "    sdata.append(pd.read_csv(data_dir + uuids[i]+\".csv\"))\n",
    "    absoluteTime = []\n",
    "    for j in range(len(sdata[i])):\n",
    "        absoluteTime.append(toTimestamp(sdata[i][\"Timestamp\"].values[j]))\n",
    "    sdata[i][\"absoluteTime\"] = absoluteTime"
   ]
  },
  {
   "cell_type": "markdown",
   "metadata": {},
   "source": [
    "## Read Mobile CSV"
   ]
  },
  {
   "cell_type": "code",
   "execution_count": 4,
   "metadata": {},
   "outputs": [],
   "source": [
    "pdata = []\n",
    "for i in range(len(sids)):\n",
    "    pdata_by_day = []\n",
    "    for j in range(20180605, 20180607): \n",
    "        #Only plot these two days because they cover the colocation period\n",
    "        pdata_by_day.append(pd.read_csv(data_dir + \"/\" + str(sids[i]) + '_' + str(j) + '.csv'))\n",
    "        \n",
    "    pdata_by_sid = pd.concat(pdata_by_day)\n",
    "    pdata.append(pdata_by_sid)\n",
    "\n",
    "    absoluteTime = []\n",
    "    for k in range(len(pdata[i])):\n",
    "        absoluteTime.append(toTimestamp(pdata[i][\"Timestamp\"].values[k]))\n",
    "    pdata[i][\"absoluteTime\"] = absoluteTime\n"
   ]
  },
  {
   "cell_type": "markdown",
   "metadata": {},
   "source": [
    "## Plot Calibrated Data"
   ]
  },
  {
   "cell_type": "code",
   "execution_count": 6,
   "metadata": {},
   "outputs": [],
   "source": [
    "plot_names = [\"PM1\",\"PM2.5\", \"PM10\", \"temperature\", \"humidity\"]\n",
    "CB_color_cycle = ['#377eb8', '#ff7f00', '#4daf4a', '#f781bf', '#a65628', '#984ea3', '#999999', '#e41a1c', '#dede00']\n",
    "\n",
    "for pidx, plot_name in enumerate(plot_names):\n",
    "    reset_output()\n",
    "    output_file(data_dir + \"/{}.html\".format(\"ave_\" + plot_name + \"_\" + str(start_date)))\n",
    "\n",
    "    fig = figure(plot_width=1200, plot_height=600,x_axis_type=\"datetime\", title=\"Average \" + plot_name + \" (\" + str(start_date) + \")\")    \n",
    "\n",
    "    for i in range(len(sids)):\n",
    "        # Plot uncalibrated data \n",
    "        #fig.line(pdata[i][\"absoluteTime\"].values, pdata[i][plot_name].values, legend='Personal: ' + sids[i], color=CB_color_cycle[len(uuids) + i])\n",
    "        \n",
    "        #Plot calibrated data\n",
    "        fig.line(pdata[i][\"absoluteTime\"].values, pdata[i][plot_name].values / factors[i + len(uuids)][pidx], legend='Personal: ' + sids[i], color=CB_color_cycle[len(uuids) + i])\n",
    "\n",
    "    for i in range(len(uuids)):\n",
    "        # Plot uncalibrated data\n",
    "        #fig.line(sdata[i][\"absoluteTime\"].values, sdata[i][plot_name].values, legend='Static: ' + uuids[i], color=CB_color_cycle[i])\n",
    "        \n",
    "        #Plot calibrated data\n",
    "        fig.line(sdata[i][\"absoluteTime\"].values, sdata[i][plot_name].values / factors[i][pidx], legend='Static: ' + uuids[i], color=CB_color_cycle[i])\n",
    "\n",
    "            \n",
    "    fig.legend.location = \"top_left\"\n",
    "    show(fig)"
   ]
  },
  {
   "cell_type": "markdown",
   "metadata": {},
   "source": [
    "## Calibration calculations"
   ]
  },
  {
   "cell_type": "code",
   "execution_count": 8,
   "metadata": {},
   "outputs": [
    {
     "ename": "TypeError",
     "evalue": "invalid type comparison",
     "output_type": "error",
     "traceback": [
      "\u001b[0;31m---------------------------------------------------------------------------\u001b[0m",
      "\u001b[0;31mTypeError\u001b[0m                                 Traceback (most recent call last)",
      "\u001b[0;32m<ipython-input-8-137fe5fa14d1>\u001b[0m in \u001b[0;36m<module>\u001b[0;34m()\u001b[0m\n\u001b[1;32m     18\u001b[0m     \u001b[0;32mreturn\u001b[0m \u001b[0mcalibrationData\u001b[0m\u001b[0;34m\u001b[0m\u001b[0m\n\u001b[1;32m     19\u001b[0m \u001b[0;34m\u001b[0m\u001b[0m\n\u001b[0;32m---> 20\u001b[0;31m \u001b[0msCalibrationData\u001b[0m \u001b[0;34m=\u001b[0m \u001b[0mgetColocatedSlice\u001b[0m\u001b[0;34m(\u001b[0m\u001b[0msdata\u001b[0m\u001b[0;34m,\u001b[0m \u001b[0muuids\u001b[0m\u001b[0;34m)\u001b[0m\u001b[0;34m\u001b[0m\u001b[0m\n\u001b[0m\u001b[1;32m     21\u001b[0m \u001b[0;31m#print(sCalibrationData[0])\u001b[0m\u001b[0;34m\u001b[0m\u001b[0;34m\u001b[0m\u001b[0m\n\u001b[1;32m     22\u001b[0m \u001b[0mpCalibrationData\u001b[0m \u001b[0;34m=\u001b[0m \u001b[0mgetColocatedSlice\u001b[0m\u001b[0;34m(\u001b[0m\u001b[0mpdata\u001b[0m\u001b[0;34m,\u001b[0m \u001b[0msids\u001b[0m\u001b[0;34m)\u001b[0m\u001b[0;34m\u001b[0m\u001b[0m\n",
      "\u001b[0;32m<ipython-input-8-137fe5fa14d1>\u001b[0m in \u001b[0;36mgetColocatedSlice\u001b[0;34m(data, ids)\u001b[0m\n\u001b[1;32m      9\u001b[0m     \u001b[0;32mfor\u001b[0m \u001b[0mi\u001b[0m \u001b[0;32min\u001b[0m \u001b[0mrange\u001b[0m\u001b[0;34m(\u001b[0m\u001b[0mlen\u001b[0m\u001b[0;34m(\u001b[0m\u001b[0mids\u001b[0m\u001b[0;34m)\u001b[0m\u001b[0;34m)\u001b[0m\u001b[0;34m:\u001b[0m\u001b[0;34m\u001b[0m\u001b[0m\n\u001b[1;32m     10\u001b[0m         \u001b[0;31m#print(data[i].shape)\u001b[0m\u001b[0;34m\u001b[0m\u001b[0;34m\u001b[0m\u001b[0m\n\u001b[0;32m---> 11\u001b[0;31m         \u001b[0mcondition1\u001b[0m \u001b[0;34m=\u001b[0m \u001b[0mdata\u001b[0m\u001b[0;34m[\u001b[0m\u001b[0mi\u001b[0m\u001b[0;34m]\u001b[0m\u001b[0;34m[\u001b[0m\u001b[0;34m\"absoluteTime\"\u001b[0m\u001b[0;34m]\u001b[0m \u001b[0;34m>\u001b[0m \u001b[0;36m1528202100.0\u001b[0m\u001b[0;34m\u001b[0m\u001b[0m\n\u001b[0m\u001b[1;32m     12\u001b[0m         \u001b[0mcondition2\u001b[0m \u001b[0;34m=\u001b[0m \u001b[0mdata\u001b[0m\u001b[0;34m[\u001b[0m\u001b[0mi\u001b[0m\u001b[0;34m]\u001b[0m\u001b[0;34m[\u001b[0m\u001b[0;34m\"absoluteTime\"\u001b[0m\u001b[0;34m]\u001b[0m \u001b[0;34m<\u001b[0m \u001b[0;36m1528275000.0\u001b[0m\u001b[0;34m\u001b[0m\u001b[0m\n\u001b[1;32m     13\u001b[0m         \u001b[0mcondition\u001b[0m \u001b[0;34m=\u001b[0m \u001b[0mcondition1\u001b[0m \u001b[0;34m&\u001b[0m \u001b[0mcondition2\u001b[0m\u001b[0;34m\u001b[0m\u001b[0m\n",
      "\u001b[0;32m~/miniconda3/envs/msc/lib/python3.6/site-packages/pandas/core/ops.py\u001b[0m in \u001b[0;36mwrapper\u001b[0;34m(self, other, axis)\u001b[0m\n\u001b[1;32m    877\u001b[0m \u001b[0;34m\u001b[0m\u001b[0m\n\u001b[1;32m    878\u001b[0m             \u001b[0;32mwith\u001b[0m \u001b[0mnp\u001b[0m\u001b[0;34m.\u001b[0m\u001b[0merrstate\u001b[0m\u001b[0;34m(\u001b[0m\u001b[0mall\u001b[0m\u001b[0;34m=\u001b[0m\u001b[0;34m'ignore'\u001b[0m\u001b[0;34m)\u001b[0m\u001b[0;34m:\u001b[0m\u001b[0;34m\u001b[0m\u001b[0m\n\u001b[0;32m--> 879\u001b[0;31m                 \u001b[0mres\u001b[0m \u001b[0;34m=\u001b[0m \u001b[0mna_op\u001b[0m\u001b[0;34m(\u001b[0m\u001b[0mvalues\u001b[0m\u001b[0;34m,\u001b[0m \u001b[0mother\u001b[0m\u001b[0;34m)\u001b[0m\u001b[0;34m\u001b[0m\u001b[0m\n\u001b[0m\u001b[1;32m    880\u001b[0m             \u001b[0;32mif\u001b[0m \u001b[0mis_scalar\u001b[0m\u001b[0;34m(\u001b[0m\u001b[0mres\u001b[0m\u001b[0;34m)\u001b[0m\u001b[0;34m:\u001b[0m\u001b[0;34m\u001b[0m\u001b[0m\n\u001b[1;32m    881\u001b[0m                 raise TypeError('Could not compare {typ} type with Series'\n",
      "\u001b[0;32m~/miniconda3/envs/msc/lib/python3.6/site-packages/pandas/core/ops.py\u001b[0m in \u001b[0;36mna_op\u001b[0;34m(x, y)\u001b[0m\n\u001b[1;32m    790\u001b[0m             \u001b[0;31m# integer comparisons\u001b[0m\u001b[0;34m\u001b[0m\u001b[0;34m\u001b[0m\u001b[0m\n\u001b[1;32m    791\u001b[0m             \u001b[0;32mif\u001b[0m \u001b[0mis_datetimelike_v_numeric\u001b[0m\u001b[0;34m(\u001b[0m\u001b[0mx\u001b[0m\u001b[0;34m,\u001b[0m \u001b[0my\u001b[0m\u001b[0;34m)\u001b[0m\u001b[0;34m:\u001b[0m\u001b[0;34m\u001b[0m\u001b[0m\n\u001b[0;32m--> 792\u001b[0;31m                 \u001b[0;32mraise\u001b[0m \u001b[0mTypeError\u001b[0m\u001b[0;34m(\u001b[0m\u001b[0;34m\"invalid type comparison\"\u001b[0m\u001b[0;34m)\u001b[0m\u001b[0;34m\u001b[0m\u001b[0m\n\u001b[0m\u001b[1;32m    793\u001b[0m \u001b[0;34m\u001b[0m\u001b[0m\n\u001b[1;32m    794\u001b[0m             \u001b[0;31m# numpy does not like comparisons vs None\u001b[0m\u001b[0;34m\u001b[0m\u001b[0;34m\u001b[0m\u001b[0m\n",
      "\u001b[0;31mTypeError\u001b[0m: invalid type comparison"
     ]
    }
   ],
   "source": [
    "#From  1528202000.0\n",
    "#To    1528275000.0\n",
    "# They were all happily colocated\n",
    "\n",
    "def getColocatedSlice(data, ids):\n",
    "    calibrationData = []\n",
    "    for i in range(len(ids)):\n",
    "        #print(data[i].shape)\n",
    "        condition1 = data[i][\"absoluteTime\"] > 1528202100.0 \n",
    "        condition2 = data[i][\"absoluteTime\"] < 1528275000.0\n",
    "        condition = condition1 & condition2\n",
    "        calibrationData.append(data[i][condition])\n",
    "        print(calibrationData[i].shape)\n",
    "        \n",
    "    return calibrationData\n",
    "\n",
    "sCalibrationData = getColocatedSlice(sdata, uuids)\n",
    "pCalibrationData = getColocatedSlice(pdata, sids)\n",
    "print(sCalibrationData[0].head(5))\n",
    "print(sCalibrationData[0].tail(5))\n"
   ]
  },
  {
   "cell_type": "code",
   "execution_count": null,
   "metadata": {},
   "outputs": [],
   "source": [
    "#Downsample pdata to every 5 mins\n",
    "pDownsampledData = []\n",
    "pCalibrationCopy = pCalibrationData\n",
    "\n",
    "for i in range(len(sids)):\n",
    "    newP = pCalibrationCopy[i].set_index([\"Timestamp\"])\n",
    "    newP.index = pd.to_datetime(newP.index)\n",
    "    #NOTE THIS IS DELETING LATITUDE IN PDATA[0] POSSIBLY BECAUSE OF A NAN\n",
    "    pDownsampledData.append(newP.resample('5Min').mean())"
   ]
  },
  {
   "cell_type": "code",
   "execution_count": null,
   "metadata": {},
   "outputs": [],
   "source": [
    "PM_strs = [\"PM1\",\"PM2.5\", \"PM10\", \"temperature\", \"humidity\"]\n",
    "factors = np.empty((8,5))\n",
    "for i in range(len(uuids)):\n",
    "    for indx, PM_str in enumerate(PM_strs):\n",
    "        data = sCalibrationData\n",
    "        reference = sCalibrationData[0][PM_str].values\n",
    "        reference = reference[~np.isnan(reference)]\n",
    "        current = sCalibrationData[i][PM_str].values\n",
    "        current = current[~np.isnan(current)]\n",
    "        factor_array = current / reference\n",
    "        factor = factor_array.mean()\n",
    "        print(\"Sensor ID \" + uuids[i] + \" \" + PM_str + \" factor: \" + str(factor))\n",
    "        sCalibrationData[i][PM_str] /= factor\n",
    "        factors[i][indx] = factor\n",
    "\n",
    "for i in range(len(sids)):\n",
    "    for indx, PM_str in enumerate(PM_strs):\n",
    "        data = sCalibrationData\n",
    "        reference = sCalibrationData[0][PM_str].values\n",
    "        reference = reference[~np.isnan(reference)]\n",
    "        current = pDownsampledData[i][PM_str].values\n",
    "        current = current[~np.isnan(current)]\n",
    "        factor_array = current / reference\n",
    "        factor = factor_array.mean()\n",
    "        print(\"Sensor ID \" + sids[i] + \" \" + PM_str + \" factor: \" + str(factor))\n",
    "        pDownsampledData[i][PM_str] /= factor\n",
    "        factors[len(uuids) + i][indx] = factor\n"
   ]
  }
 ],
 "metadata": {
  "kernelspec": {
   "display_name": "Python 3",
   "language": "python",
   "name": "python3"
  },
  "language_info": {
   "codemirror_mode": {
    "name": "ipython",
    "version": 3
   },
   "file_extension": ".py",
   "mimetype": "text/x-python",
   "name": "python",
   "nbconvert_exporter": "python",
   "pygments_lexer": "ipython3",
   "version": "3.6.5"
  }
 },
 "nbformat": 4,
 "nbformat_minor": 2
}
