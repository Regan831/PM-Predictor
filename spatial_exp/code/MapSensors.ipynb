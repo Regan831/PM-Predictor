{
 "cells": [
  {
   "cell_type": "markdown",
   "metadata": {},
   "source": [
    "## Map Stationary and Mobile Sensor Data"
   ]
  },
  {
   "cell_type": "code",
   "execution_count": 1,
   "metadata": {},
   "outputs": [],
   "source": [
    "import folium\n",
    "import numpy as np\n",
    "from constants import Constants\n",
    "from data_download import DataDownloader\n",
    "from osm_reader import OSMReader\n",
    "\n",
    "constants = Constants()\n",
    "map_dir = './'"
   ]
  },
  {
   "cell_type": "code",
   "execution_count": 2,
   "metadata": {},
   "outputs": [
    {
     "ename": "NameError",
     "evalue": "name 'mapStationarySensors' is not defined",
     "output_type": "error",
     "traceback": [
      "\u001b[0;31m---------------------------------------------------------------------------\u001b[0m",
      "\u001b[0;31mNameError\u001b[0m                                 Traceback (most recent call last)",
      "\u001b[0;32m<ipython-input-2-f4f27322aacc>\u001b[0m in \u001b[0;36m<module>\u001b[0;34m\u001b[0m\n\u001b[1;32m      1\u001b[0m \u001b[0;31m##Map the stationary sensors\u001b[0m\u001b[0;34m\u001b[0m\u001b[0;34m\u001b[0m\u001b[0;34m\u001b[0m\u001b[0m\n\u001b[1;32m      2\u001b[0m \u001b[0mstationary_map\u001b[0m \u001b[0;34m=\u001b[0m \u001b[0mfolium\u001b[0m\u001b[0;34m.\u001b[0m\u001b[0mMap\u001b[0m\u001b[0;34m(\u001b[0m\u001b[0mlocation\u001b[0m\u001b[0;34m=\u001b[0m\u001b[0;34m[\u001b[0m\u001b[0;36m55.943\u001b[0m\u001b[0;34m,\u001b[0m \u001b[0;34m-\u001b[0m\u001b[0;36m3.19\u001b[0m\u001b[0;34m]\u001b[0m\u001b[0;34m,\u001b[0m \u001b[0mzoom_start\u001b[0m\u001b[0;34m=\u001b[0m\u001b[0;36m15\u001b[0m\u001b[0;34m,\u001b[0m\u001b[0mtiles\u001b[0m\u001b[0;34m=\u001b[0m\u001b[0;34m\"OpenStreetMap\"\u001b[0m\u001b[0;34m)\u001b[0m\u001b[0;34m\u001b[0m\u001b[0;34m\u001b[0m\u001b[0m\n\u001b[0;32m----> 3\u001b[0;31m \u001b[0mmapStationarySensors\u001b[0m\u001b[0;34m(\u001b[0m\u001b[0mstationary_map\u001b[0m\u001b[0;34m)\u001b[0m\u001b[0;34m\u001b[0m\u001b[0;34m\u001b[0m\u001b[0m\n\u001b[0m\u001b[1;32m      4\u001b[0m \u001b[0;34m\u001b[0m\u001b[0m\n\u001b[1;32m      5\u001b[0m \u001b[0mstationary_map\u001b[0m\u001b[0;34m.\u001b[0m\u001b[0msave\u001b[0m\u001b[0;34m(\u001b[0m\u001b[0mmap_dir\u001b[0m \u001b[0;34m+\u001b[0m \u001b[0;34m\"stationarySensors.html\"\u001b[0m\u001b[0;34m)\u001b[0m\u001b[0;34m\u001b[0m\u001b[0;34m\u001b[0m\u001b[0m\n",
      "\u001b[0;31mNameError\u001b[0m: name 'mapStationarySensors' is not defined"
     ]
    }
   ],
   "source": [
    "##Map the stationary sensors\n",
    "stationary_map = folium.Map(location=[55.943, -3.19], zoom_start=15,tiles=\"OpenStreetMap\")\n",
    "mapStationarySensors(stationary_map)\n",
    "\n",
    "stationary_map.save(map_dir + \"stationarySensors.html\")"
   ]
  },
  {
   "cell_type": "code",
   "execution_count": null,
   "metadata": {},
   "outputs": [],
   "source": [
    "## Map a data pollution collection walk\n",
    "start_date = 20190718\n",
    "mobile_map = folium.Map(location=[55.943, -3.19], zoom_start=15,tiles=\"Stamen Toner\")\n",
    "sid = 'XXE103' #or 'XXM007'. ID of the pollution belt that data was collected with\n",
    "mapPollutionWalk(mobile_map, start_date, sid)\n",
    "\n",
    "mobile_map.save(map_dir + str(start_date) + \"_\" + str(sid) + \".html\")"
   ]
  },
  {
   "cell_type": "code",
   "execution_count": 3,
   "metadata": {},
   "outputs": [],
   "source": [
    "def mapStationarySensors(map_obj):\n",
    "    staticCoords = constants.getStaticCoords()\n",
    "    for i in range(staticCoords.shape[0]):\n",
    "        folium.CircleMarker((staticCoords[i][0], staticCoords[i][1]),\n",
    "                   radius=8,\n",
    "                    color='#000000',\n",
    "                    weight=1.0,\n",
    "                    fill_color='#000000',\n",
    "                    fill=True,\n",
    "                    fill_opacity=1,\n",
    "                   ).add_to(map_obj)\n",
    "\n",
    "def mapPollutionWalk(mapObj, start_date, sid):\n",
    "    end_date = getEndDate(start_date)\n",
    "    data_dir = \"/Users/ryanegan/Documents/diss/projectZoe/data/raw/personal/\"+str(start_date)+\"-\"+str(end_date)+\"/\"\n",
    "#     sids = ['XXM007', 'XXM008']\n",
    "    sids = ['XXE101', 'XXE102', 'XXE103', 'XXE104']\n",
    "    data_downloader = DataDownloader()\n",
    "    osm_reader = OSMReader()\n",
    "    osm_reader.init()\n",
    "    pdata = data_downloader.readAirSpeckPCSV(start_date, end_date, data_dir)\n",
    "    belt_index = sids.index(sid)\n",
    "    \n",
    "    maxPM = np.max(pdata[belt_index][\"PM2.5\"])\n",
    "    minPM = np.min(pdata[belt_index][\"PM2.5\"])\n",
    "            \n",
    "    ##Add validation walk\n",
    "    for j in range(len(pdata[belt_index])):\n",
    "        folium.CircleMarker((pdata[belt_index][\"latitude\"][j], pdata[belt_index][\"longitude\"][j]),\n",
    "                    radius=5,\n",
    "                    color='#000000',\n",
    "                    weight=1.0,\n",
    "                    fill_color=osm_reader.assignColor(pdata[belt_index][\"PM2.5\"][j], maxPM, minPM),\n",
    "                    fill=True,\n",
    "                    fill_opacity=1.0,\n",
    "                   ).add_to(mapObj)\n",
    "\n",
    "def getEndDate(start_date):\n",
    "    return start_date + 1"
   ]
  },
  {
   "cell_type": "code",
   "execution_count": null,
   "metadata": {},
   "outputs": [],
   "source": []
  }
 ],
 "metadata": {
  "kernelspec": {
   "display_name": "Python 3",
   "language": "python",
   "name": "python3"
  },
  "language_info": {
   "codemirror_mode": {
    "name": "ipython",
    "version": 3
   },
   "file_extension": ".py",
   "mimetype": "text/x-python",
   "name": "python",
   "nbconvert_exporter": "python",
   "pygments_lexer": "ipython3",
   "version": "3.6.8"
  }
 },
 "nbformat": 4,
 "nbformat_minor": 2
}
