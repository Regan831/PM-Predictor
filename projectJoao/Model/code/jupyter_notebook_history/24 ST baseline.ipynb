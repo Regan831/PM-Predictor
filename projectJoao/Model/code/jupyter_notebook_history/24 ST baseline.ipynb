{
 "cells": [
  {
   "cell_type": "code",
   "execution_count": 1,
   "metadata": {},
   "outputs": [],
   "source": [
    "import pandas as pd\n",
    "from datetime import datetime\n",
    "from datetime import timedelta\n",
    "import numpy as np\n",
    "import pykrige.kriging_tools as kt\n",
    "from pykrige.ok import OrdinaryKriging\n",
    "import matplotlib.pyplot as plt\n",
    "import matplotlib.animation as animation\n",
    "from sklearn.linear_model import PassiveAggressiveRegressor\n",
    "from sklearn.metrics import mean_squared_error, mean_absolute_error\n",
    "from math import hypot\n",
    "\n",
    "import constants\n",
    "import functions5 as functions\n",
    "\n",
    "%matplotlib inline"
   ]
  },
  {
   "cell_type": "code",
   "execution_count": 2,
   "metadata": {},
   "outputs": [],
   "source": [
    "all_static_data = functions.load_static_sensors_calibrated()\n",
    "all_static_data = functions.transform_to_grid_coordinates(all_static_data)\n",
    "mobile_sensor_data = functions.load_mobile_sensors()\n",
    "mobile_sensor_data = functions.transform_to_grid_coordinates(mobile_sensor_data)"
   ]
  },
  {
   "cell_type": "code",
   "execution_count": null,
   "metadata": {},
   "outputs": [],
   "source": []
  },
  {
   "cell_type": "code",
   "execution_count": 3,
   "metadata": {},
   "outputs": [],
   "source": [
    "closest_grid=[[-1 for j in range(20)] for i in range(20)]\n",
    "\n",
    "for i in range(20):\n",
    "    for j in range(20):\n",
    "        distance = 400\n",
    "        for sensor, coords in constants.gridStaticCoords.items():\n",
    "            distance1 = hypot(i-coords[0], j-coords[1])\n",
    "            if distance1 < distance:\n",
    "                closest_grid[i][j] = coords\n",
    "                distance = distance1"
   ]
  },
  {
   "cell_type": "code",
   "execution_count": 13,
   "metadata": {},
   "outputs": [
    {
     "name": "stdout",
     "output_type": "stream",
     "text": [
      "2.8127296848059404\n",
      "14.975724728920813\n"
     ]
    }
   ],
   "source": [
    "start_time = '2018-07-03 00:00:00'\n",
    "end_time = '2018-07-07 00:00:00'\n",
    "window = 15\n",
    "\n",
    "start_window = start_time\n",
    "end_window = (datetime.strptime(start_window, '%Y-%m-%d %H:%M:%S') + timedelta(minutes=window)).strftime(\"%Y-%m-%d %H:%M:%S\")\n",
    "\n",
    "all_to_test_list = []\n",
    "while end_window <= end_time:\n",
    "    to_test = mobile_sensor_data[(mobile_sensor_data['Timestamp'] > start_window) & (mobile_sensor_data['Timestamp'] < end_window)]\n",
    "    to_test = to_test.groupby(['lat_grid','long_grid']).mean()\n",
    "    to_test['Timestamp'] = start_window\n",
    "    to_test.reset_index(level=to_test.index.names, inplace=True)\n",
    "    all_to_test_list.append(to_test)\n",
    "\n",
    "\n",
    "    start_window = (datetime.strptime(start_window, '%Y-%m-%d %H:%M:%S') + timedelta(minutes=window)).strftime(\"%Y-%m-%d %H:%M:%S\")\n",
    "    end_window = (datetime.strptime(end_window, '%Y-%m-%d %H:%M:%S') + timedelta(minutes=window)).strftime(\"%Y-%m-%d %H:%M:%S\")\n",
    "\n",
    "all_to_test = pd.concat(all_to_test_list, axis = 0, ignore_index = False)\n",
    "\n",
    "for index, row in all_to_test.iterrows():\n",
    "    end_window_static = row['Timestamp']\n",
    "    start_window_static = (datetime.strptime(row['Timestamp'], '%Y-%m-%d %H:%M:%S') - timedelta(minutes=window)).strftime(\"%Y-%m-%d %H:%M:%S\")\n",
    "    \n",
    "    # get the value\n",
    "    stationary_sensor_coords = closest_grid[int(row['lat_grid'])][int(row['long_grid'])]\n",
    "    stationary_sensor_readings= all_static_data[(all_static_data['Timestamp'] < end_window_static)&(all_static_data['Timestamp'] > start_window_static)&(all_static_data['lat_grid'] == stationary_sensor_coords[0])&(all_static_data['long_grid'] == stationary_sensor_coords[1])]\n",
    "    all_to_test['baseline_pred'] = stationary_sensor_readings['PM2.5'].mean()    \n",
    "    \n",
    "# calculate mae e mse dos erros\n",
    "print (mean_absolute_error(all_to_test['PM2.5'], all_to_test['baseline_pred']))\n",
    "print (mean_squared_error(all_to_test['PM2.5'], all_to_test['baseline_pred']))"
   ]
  },
  {
   "cell_type": "code",
   "execution_count": null,
   "metadata": {},
   "outputs": [],
   "source": []
  }
 ],
 "metadata": {
  "kernelspec": {
   "display_name": "Python 3",
   "language": "python",
   "name": "python3"
  },
  "language_info": {
   "codemirror_mode": {
    "name": "ipython",
    "version": 3
   },
   "file_extension": ".py",
   "mimetype": "text/x-python",
   "name": "python",
   "nbconvert_exporter": "python",
   "pygments_lexer": "ipython3",
   "version": "3.6.5"
  }
 },
 "nbformat": 4,
 "nbformat_minor": 2
}
