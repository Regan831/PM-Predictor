{
 "cells": [
  {
   "cell_type": "markdown",
   "metadata": {},
   "source": [
    "**Import statements**\n"
   ]
  },
  {
   "cell_type": "code",
   "execution_count": 1,
   "metadata": {},
   "outputs": [],
   "source": [
    "import pandas as pd\n",
    "from datetime import datetime\n",
    "from datetime import timedelta\n",
    "import numpy as np\n",
    "import pykrige.kriging_tools as kt\n",
    "from pykrige.ok import OrdinaryKriging\n",
    "import matplotlib.pyplot as plt\n",
    "import matplotlib.animation as animation\n",
    "from sklearn.linear_model import PassiveAggressiveRegressor\n",
    "from sklearn.metrics import mean_squared_error, mean_absolute_error\n",
    "\n",
    "import constants\n",
    "import functions\n",
    "\n",
    "%matplotlib inline"
   ]
  },
  {
   "cell_type": "markdown",
   "metadata": {},
   "source": [
    "**Load Data**"
   ]
  },
  {
   "cell_type": "code",
   "execution_count": 2,
   "metadata": {},
   "outputs": [],
   "source": [
    "all_static_data = functions.load_static_sensors_calibrated_2()\n",
    "all_static_data = functions.transform_to_grid_coordinates(all_static_data)\n",
    "mobile_sensor_data = functions.load_mobile_sensors()\n",
    "mobile_sensor_data = functions.transform_to_grid_coordinates(mobile_sensor_data)"
   ]
  },
  {
   "cell_type": "markdown",
   "metadata": {},
   "source": [
    "**Compute predictions for stationary sensors**"
   ]
  },
  {
   "cell_type": "code",
   "execution_count": null,
   "metadata": {},
   "outputs": [],
   "source": []
  },
  {
   "cell_type": "code",
   "execution_count": 3,
   "metadata": {},
   "outputs": [],
   "source": [
    "mae = []\n",
    "mse = []\n",
    "squares = []\n",
    "pred=[]\n",
    "\n",
    "start_time = '2018-07-23 00:00:00'\n",
    "start_window = '2018-07-25 12:00:00'\n",
    "end_window = '2018-07-25 12:15:00'\n",
    "offset_timeint = 1\n",
    "\n",
    "number_of_windows = 100\n",
    "window = 15\n",
    "par_grid = functions.create_par(c=0.00002, epsilon=0.001)\n",
    "timeint_on_first_window = 0\n",
    "\n",
    "for i in range(1, number_of_windows+1):\n",
    "    end_time = start_window\n",
    "    # treinar sem dados moveis\n",
    "    # testar em dados fixos em vez de móveis\n",
    "    timeint, par_grid = functions.train(all_static_data, None, start_time, end_time, par_grid, window, timeint_on_first_window)\n",
    "    to_test = functions.test_mobile(par_grid, timeint, all_static_data, start_window, end_window, 1)\n",
    "    squares.append(to_test.shape[0])\n",
    "    mae.append(mean_absolute_error(to_test['PM2.5'], to_test['pred_PM2.5']))\n",
    "    mse.append(mean_squared_error(to_test['PM2.5'], to_test['pred_PM2.5']))\n",
    "    pred.append(to_test['pred_PM2.5'].values[0])\n",
    "\n",
    "    start_time = end_time\n",
    "    start_window = (datetime.strptime(start_window, '%Y-%m-%d %H:%M:%S') + timedelta(minutes=15)).strftime(\"%Y-%m-%d %H:%M:%S\")\n",
    "    end_window = (datetime.strptime(end_window, '%Y-%m-%d %H:%M:%S') + timedelta(minutes=15)).strftime(\"%Y-%m-%d %H:%M:%S\")\n",
    "    timeint_on_first_window = timeint+1\n",
    "    "
   ]
  },
  {
   "cell_type": "code",
   "execution_count": 4,
   "metadata": {},
   "outputs": [],
   "source": [
    "# mae"
   ]
  },
  {
   "cell_type": "code",
   "execution_count": null,
   "metadata": {},
   "outputs": [],
   "source": []
  },
  {
   "cell_type": "code",
   "execution_count": null,
   "metadata": {},
   "outputs": [],
   "source": []
  },
  {
   "cell_type": "code",
   "execution_count": 5,
   "metadata": {},
   "outputs": [],
   "source": [
    "mae_no_online = []\n",
    "mse_no_online = []\n",
    "squares_no_online = []\n",
    "pred_no_online=[]\n",
    "values_read=[]\n",
    "\n",
    "\n",
    "window = 15\n",
    "start_window = '2018-07-25 12:00:00'\n",
    "end_window = '2018-07-25 12:15:00'\n",
    "offset_timeint = 1\n",
    "number_of_windows = 100\n",
    "par_grid = functions.create_par(c=0.00002, epsilon=0.001)\n",
    "start_time = '2018-07-23 00:00:00'\n",
    "end_time = start_window\n",
    "timeint, par_grid = functions.train(all_static_data, None, start_time, end_time, par_grid, window)\n",
    "\n",
    "\n",
    "for i in range(1, number_of_windows+1):\n",
    "    to_test = functions.test_mobile(par_grid, timeint, all_static_data, start_window, end_window, i)\n",
    "    squares_no_online.append(to_test.shape[0])\n",
    "    mae_no_online.append(mean_absolute_error(to_test['PM2.5'], to_test['pred_PM2.5']))\n",
    "    mse_no_online.append(mean_squared_error(to_test['PM2.5'], to_test['pred_PM2.5']))\n",
    "    pred_no_online.append(to_test['pred_PM2.5'].values[0])\n",
    "    values_read.append(to_test['PM2.5'].values[0])\n",
    "    start_window = (datetime.strptime(start_window, '%Y-%m-%d %H:%M:%S') + timedelta(minutes=15)).strftime(\"%Y-%m-%d %H:%M:%S\")\n",
    "    end_window = (datetime.strptime(end_window, '%Y-%m-%d %H:%M:%S') + timedelta(minutes=15)).strftime(\"%Y-%m-%d %H:%M:%S\")"
   ]
  },
  {
   "cell_type": "code",
   "execution_count": 6,
   "metadata": {},
   "outputs": [],
   "source": [
    "# mae_no_online"
   ]
  },
  {
   "cell_type": "code",
   "execution_count": null,
   "metadata": {},
   "outputs": [],
   "source": []
  },
  {
   "cell_type": "code",
   "execution_count": 7,
   "metadata": {},
   "outputs": [
    {
     "data": {
      "image/png": "[encoded data removed]",
      "text/plain": [
       "<Figure size 432x288 with 1 Axes>"
      ]
     },
     "metadata": {
      "needs_background": "light"
     },
     "output_type": "display_data"
    }
   ],
   "source": [
    "plt.plot(mae[:24], label=\"mae\")\n",
    "plt.plot(mae_no_online[:24], label=\"mae_no_online\")\n",
    "plt.legend(loc='best')\n",
    "plt.show()\n"
   ]
  },
  {
   "cell_type": "code",
   "execution_count": 8,
   "metadata": {},
   "outputs": [
    {
     "name": "stdout",
     "output_type": "stream",
     "text": [
      "Mean Absolute Error\n",
      "0.07477956212798573\n",
      "Mean Squared Error\n",
      "0.0240989007797187\n"
     ]
    }
   ],
   "source": [
    "print(\"Mean Absolute Error\")\n",
    "print(np.mean(mae))\n",
    "print(\"Mean Squared Error\")\n",
    "print(np.mean(mse))"
   ]
  },
  {
   "cell_type": "code",
   "execution_count": 9,
   "metadata": {},
   "outputs": [],
   "source": [
    "# np.mean(mae_no_online)"
   ]
  },
  {
   "cell_type": "code",
   "execution_count": null,
   "metadata": {},
   "outputs": [],
   "source": []
  },
  {
   "cell_type": "code",
   "execution_count": 10,
   "metadata": {},
   "outputs": [
    {
     "name": "stdout",
     "output_type": "stream",
     "text": [
      "[-0.00307257]\n",
      "[0.56804264]\n",
      "12\n"
     ]
    }
   ],
   "source": [
    "pred_offline=[]\n",
    "par = PassiveAggressiveRegressor(max_iter=100, random_state=0,tol=1e-3)\n",
    "start_window = '2018-07-23 00:00:00'\n",
    "end_window = (datetime.strptime(start_window, '%Y-%m-%d %H:%M:%S') + timedelta(minutes=window)).strftime(\"%Y-%m-%d %H:%M:%S\")\n",
    "window = 15\n",
    "number_of_windows =100\n",
    "list_ = []\n",
    "timeint = 0\n",
    "while end_window <= '2018-07-25 12:00:00':\n",
    "    temp_sensor_data = all_static_data[(all_static_data['Timestamp'] > start_window) & (all_static_data['Timestamp'] < end_window) & (all_static_data['lat_grid'] == 4) & (all_static_data['long_grid'] == 6)]\n",
    "    start_window = (datetime.strptime(start_window, '%Y-%m-%d %H:%M:%S') + timedelta(minutes=window)).strftime(\"%Y-%m-%d %H:%M:%S\")\n",
    "    end_window = (datetime.strptime(end_window, '%Y-%m-%d %H:%M:%S') + timedelta(minutes=window)).strftime(\"%Y-%m-%d %H:%M:%S\")\n",
    "    temp_sensor_data = temp_sensor_data.groupby(['lat_grid','long_grid']).mean()\n",
    "    temp_sensor_data.reset_index(level=temp_sensor_data.index.names, inplace=True)\n",
    "    temp_sensor_data['timeint'] = timeint\n",
    "    list_.append(temp_sensor_data)\n",
    "    timeint += 1\n",
    "that_sensor_data = pd.concat(list_, axis = 0, ignore_index = False)\n",
    "#print(that_sensor_data)\n",
    "par.fit(that_sensor_data['timeint'].values.reshape(-1,1), that_sensor_data['PM2.5'])\n",
    "print(par.coef_)\n",
    "print(par.intercept_)\n",
    "print(par.n_iter_)\n",
    "for i in range(number_of_windows):\n",
    "    pred_offline.append(par.predict([[timeint+i]])[0])"
   ]
  },
  {
   "cell_type": "code",
   "execution_count": 11,
   "metadata": {},
   "outputs": [],
   "source": [
    "# that_sensor_data"
   ]
  },
  {
   "cell_type": "code",
   "execution_count": null,
   "metadata": {},
   "outputs": [],
   "source": []
  },
  {
   "cell_type": "code",
   "execution_count": 12,
   "metadata": {},
   "outputs": [],
   "source": [
    "pred_baseline=[]\n",
    "# Here make sure to include one more interval para ir buscar o valor inicial da previsao(ultimo do \"treino\")\n",
    "start_window = '2018-07-25 11:45:00'\n",
    "window = 15\n",
    "end_window = (datetime.strptime(start_window, '%Y-%m-%d %H:%M:%S') + timedelta(minutes=window)).strftime(\"%Y-%m-%d %H:%M:%S\")\n",
    "number_of_windows =100\n",
    "for i in range(number_of_windows):\n",
    "    temp_sensor_data = all_static_data[(all_static_data['Timestamp'] > start_window) & (all_static_data['Timestamp'] < end_window) & (all_static_data['lat_grid'] == 9) & (all_static_data['long_grid'] == 13)]\n",
    "    start_window = (datetime.strptime(start_window, '%Y-%m-%d %H:%M:%S') + timedelta(minutes=window)).strftime(\"%Y-%m-%d %H:%M:%S\")\n",
    "    end_window = (datetime.strptime(end_window, '%Y-%m-%d %H:%M:%S') + timedelta(minutes=window)).strftime(\"%Y-%m-%d %H:%M:%S\")\n",
    "    temp_sensor_data = temp_sensor_data.groupby(['lat_grid','long_grid']).mean()\n",
    "    temp_sensor_data.reset_index(level=temp_sensor_data.index.names, inplace=True)\n",
    "    pred_baseline.append(temp_sensor_data['PM2.5'].values[0])\n"
   ]
  },
  {
   "cell_type": "code",
   "execution_count": 13,
   "metadata": {},
   "outputs": [],
   "source": [
    "pred_baseline_60min=[]\n",
    "# Here make sure to include one more interval para ir buscar o valor inicial da previsao(ultimo do \"treino\")\n",
    "start_window = '2018-07-25 11:00:00'\n",
    "window = 15\n",
    "end_window = (datetime.strptime(start_window, '%Y-%m-%d %H:%M:%S') + timedelta(minutes=window)).strftime(\"%Y-%m-%d %H:%M:%S\")\n",
    "number_of_windows =100\n",
    "for i in range(number_of_windows):\n",
    "    temp_sensor_data = all_static_data[(all_static_data['Timestamp'] > start_window) & (all_static_data['Timestamp'] < end_window) & (all_static_data['lat_grid'] == 17) & (all_static_data['long_grid'] == 6)]\n",
    "    start_window = (datetime.strptime(start_window, '%Y-%m-%d %H:%M:%S') + timedelta(minutes=window)).strftime(\"%Y-%m-%d %H:%M:%S\")\n",
    "    end_window = (datetime.strptime(end_window, '%Y-%m-%d %H:%M:%S') + timedelta(minutes=window)).strftime(\"%Y-%m-%d %H:%M:%S\")\n",
    "    temp_sensor_data = temp_sensor_data.groupby(['lat_grid','long_grid']).mean()\n",
    "    temp_sensor_data.reset_index(level=temp_sensor_data.index.names, inplace=True)\n",
    "    pred_baseline_60min.append(temp_sensor_data['PM2.5'].values[0])"
   ]
  },
  {
   "cell_type": "code",
   "execution_count": 14,
   "metadata": {},
   "outputs": [],
   "source": [
    "pred_baseline_24h=[]\n",
    "# Here make sure to include one more interval para ir buscar o valor inicial da previsao(ultimo do \"treino\")\n",
    "start_window = '2018-07-24 12:00:00'\n",
    "window = 15\n",
    "end_window = (datetime.strptime(start_window, '%Y-%m-%d %H:%M:%S') + timedelta(minutes=window)).strftime(\"%Y-%m-%d %H:%M:%S\")\n",
    "number_of_windows =100\n",
    "for i in range(number_of_windows):\n",
    "    temp_sensor_data = all_static_data[(all_static_data['Timestamp'] > start_window) & (all_static_data['Timestamp'] < end_window) & (all_static_data['lat_grid'] == 4) & (all_static_data['long_grid'] == 6)]\n",
    "    start_window = (datetime.strptime(start_window, '%Y-%m-%d %H:%M:%S') + timedelta(minutes=window)).strftime(\"%Y-%m-%d %H:%M:%S\")\n",
    "    end_window = (datetime.strptime(end_window, '%Y-%m-%d %H:%M:%S') + timedelta(minutes=window)).strftime(\"%Y-%m-%d %H:%M:%S\")\n",
    "    temp_sensor_data = temp_sensor_data.groupby(['lat_grid','long_grid']).mean()\n",
    "    temp_sensor_data.reset_index(level=temp_sensor_data.index.names, inplace=True)\n",
    "    pred_baseline_24h.append(temp_sensor_data['PM2.5'].values[0])\n",
    "    "
   ]
  },
  {
   "cell_type": "code",
   "execution_count": 15,
   "metadata": {},
   "outputs": [],
   "source": [
    "# pred_baseline"
   ]
  },
  {
   "cell_type": "code",
   "execution_count": 16,
   "metadata": {},
   "outputs": [],
   "source": [
    "# pred_offline\n",
    "# pred_baseline"
   ]
  },
  {
   "cell_type": "code",
   "execution_count": 17,
   "metadata": {},
   "outputs": [
    {
     "data": {
      "image/png": "[encoded data removed]",
      "text/plain": [
       "<Figure size 432x288 with 1 Axes>"
      ]
     },
     "metadata": {
      "needs_background": "light"
     },
     "output_type": "display_data"
    }
   ],
   "source": [
    "plt.plot(pred_no_online, label=\"pred_no_online\")\n",
    "plt.plot(pred, label=\"pred\")\n",
    "plt.plot(values_read, label=\"values_read\")\n",
    "#plt.plot(pred_offline, label=\"pred_offline\")\n",
    "#plt.plot(pred_baseline, label=\"pred_baseline\")\n",
    "plt.legend(loc='best')\n",
    "plt.show()"
   ]
  },
  {
   "cell_type": "code",
   "execution_count": 18,
   "metadata": {},
   "outputs": [
    {
     "name": "stdout",
     "output_type": "stream",
     "text": [
      "Baseline MAE:\n",
      "0.19704809040685148\n",
      "Baseline MSE:\n",
      "0.05778774957113168\n",
      "Baseline 60 mins MAE:\n",
      "0.9134350820055317\n",
      "Baseline 60 mins MSE:\n",
      "16.19984635906869\n",
      "Baseline 24 hours MAE:\n",
      "0.29826740210052627\n",
      "Baseline 24 hours MSE:\n",
      "2.1354850997051815\n"
     ]
    }
   ],
   "source": [
    "print(\"Baseline MAE:\")\n",
    "print (mean_absolute_error(values_read, pred_baseline))\n",
    "print(\"Baseline MSE:\")\n",
    "print (mean_squared_error(values_read, pred_baseline))\n",
    "\n",
    "print(\"Baseline 60 mins MAE:\")\n",
    "print (mean_absolute_error(values_read, pred_baseline_60min))\n",
    "print(\"Baseline 60 mins MSE:\")\n",
    "print (mean_squared_error(values_read, pred_baseline_60min))\n",
    "\n",
    "print(\"Baseline 24 hours MAE:\")\n",
    "print (mean_absolute_error(values_read, pred_baseline_24h))\n",
    "print(\"Baseline 24 hours MSE:\")\n",
    "print (mean_squared_error(values_read, pred_baseline_24h))"
   ]
  },
  {
   "cell_type": "code",
   "execution_count": 19,
   "metadata": {},
   "outputs": [],
   "source": [
    "# par_grid[9][5].coef_"
   ]
  },
  {
   "cell_type": "code",
   "execution_count": 20,
   "metadata": {},
   "outputs": [],
   "source": [
    "# par_grid[9][5].intercept_"
   ]
  },
  {
   "cell_type": "code",
   "execution_count": 21,
   "metadata": {},
   "outputs": [
    {
     "data": {
      "text/plain": [
       "0.07477956212798573"
      ]
     },
     "execution_count": 21,
     "metadata": {},
     "output_type": "execute_result"
    }
   ],
   "source": [
    "mean_absolute_error(values_read, pred)"
   ]
  },
  {
   "cell_type": "code",
   "execution_count": 22,
   "metadata": {},
   "outputs": [],
   "source": [
    "# plt.plot(np.abs(np.subtract(values_read, pred_no_online)))\n",
    "# plt.plot(np.abs(np.subtract(values_read, pred)))"
   ]
  },
  {
   "cell_type": "code",
   "execution_count": null,
   "metadata": {},
   "outputs": [],
   "source": []
  },
  {
   "cell_type": "code",
   "execution_count": 23,
   "metadata": {},
   "outputs": [
    {
     "data": {
      "text/plain": [
       "[<matplotlib.lines.Line2D at 0x1165e5400>]"
      ]
     },
     "execution_count": 23,
     "metadata": {},
     "output_type": "execute_result"
    },
    {
     "data": {
      "image/png": "[encoded data removed]",
      "text/plain": [
       "<Figure size 432x288 with 1 Axes>"
      ]
     },
     "metadata": {
      "needs_background": "light"
     },
     "output_type": "display_data"
    }
   ],
   "source": [
    "plt.plot(that_sensor_data['timeint'], that_sensor_data['PM2.5'])\n",
    "x = np.linspace(0, 300, 300)\n",
    "plt.plot(x, par.coef_[0]*x + par.intercept_[0])"
   ]
  },
  {
   "cell_type": "code",
   "execution_count": null,
   "metadata": {},
   "outputs": [],
   "source": []
  },
  {
   "cell_type": "code",
   "execution_count": null,
   "metadata": {},
   "outputs": [],
   "source": []
  }
 ],
 "metadata": {
  "kernelspec": {
   "display_name": "Python 3",
   "language": "python",
   "name": "python3"
  },
  "language_info": {
   "codemirror_mode": {
    "name": "ipython",
    "version": 3
   },
   "file_extension": ".py",
   "mimetype": "text/x-python",
   "name": "python",
   "nbconvert_exporter": "python",
   "pygments_lexer": "ipython3",
   "version": "3.6.5"
  }
 },
 "nbformat": 4,
 "nbformat_minor": 2
}
