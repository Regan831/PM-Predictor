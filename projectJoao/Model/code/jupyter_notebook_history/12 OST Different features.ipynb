{
 "cells": [
  {
   "cell_type": "markdown",
   "metadata": {},
   "source": [
    "**Import statements**\n"
   ]
  },
  {
   "cell_type": "code",
   "execution_count": 1,
   "metadata": {},
   "outputs": [],
   "source": [
    "import pandas as pd\n",
    "from datetime import datetime\n",
    "from datetime import timedelta\n",
    "import numpy as np\n",
    "import pykrige.kriging_tools as kt\n",
    "from pykrige.ok import OrdinaryKriging\n",
    "import matplotlib.pyplot as plt\n",
    "import matplotlib.animation as animation\n",
    "from sklearn.linear_model import PassiveAggressiveRegressor\n",
    "from sklearn.metrics import mean_squared_error, mean_absolute_error\n",
    "\n",
    "import constants\n",
    "import functions2 as functions\n",
    "\n",
    "%matplotlib inline"
   ]
  },
  {
   "cell_type": "markdown",
   "metadata": {},
   "source": [
    "**Load Data**"
   ]
  },
  {
   "cell_type": "code",
   "execution_count": 2,
   "metadata": {},
   "outputs": [],
   "source": [
    "all_static_data = functions.load_static_sensors_calibrated()\n",
    "all_static_data = functions.transform_to_grid_coordinates(all_static_data)\n",
    "mobile_sensor_data = functions.load_mobile_sensors()\n",
    "mobile_sensor_data = functions.transform_to_grid_coordinates(mobile_sensor_data)"
   ]
  },
  {
   "cell_type": "markdown",
   "metadata": {},
   "source": [
    "**Compute predictions for stationary sensors**"
   ]
  },
  {
   "cell_type": "code",
   "execution_count": null,
   "metadata": {},
   "outputs": [],
   "source": []
  },
  {
   "cell_type": "code",
   "execution_count": 3,
   "metadata": {},
   "outputs": [],
   "source": [
    "mae = []\n",
    "mse = []\n",
    "squares = []\n",
    "pred=[]\n",
    "values_read=[]\n",
    "\n",
    "\n",
    "start_time = '2018-07-03 00:00:00'\n",
    "start_window = '2018-07-05 12:00:00'\n",
    "end_window = '2018-07-05 12:15:00'\n",
    "offset_timeint = 1\n",
    "\n",
    "number_of_windows = 100\n",
    "window = 15\n",
    "par_grid = functions.create_par()\n",
    "timeint_on_first_window = 0\n",
    "\n",
    "for i in range(1, number_of_windows+1):\n",
    "    end_time = start_window\n",
    "    # treinar sem dados moveis\n",
    "    # testar em dados fixos em vez de móveis\n",
    "    timeint, par_grid = functions.train(all_static_data, None, start_time, end_time, par_grid, window, timeint_on_first_window)\n",
    "    \n",
    "    to_test = functions.test_mobile(par_grid, timeint, all_static_data, start_window, end_window, window)\n",
    "    squares.append(to_test.shape[0])\n",
    "    mae.append(mean_absolute_error(to_test['PM2.5'], to_test['pred_PM2.5']))\n",
    "    mse.append(mean_squared_error(to_test['PM2.5'], to_test['pred_PM2.5']))\n",
    "    pred.append(to_test['pred_PM2.5'].values[0])\n",
    "    values_read.append(to_test['PM2.5'].values[0])\n",
    "\n",
    "\n",
    "    start_time = end_time\n",
    "    start_window = (datetime.strptime(start_window, '%Y-%m-%d %H:%M:%S') + timedelta(minutes=window)).strftime(\"%Y-%m-%d %H:%M:%S\")\n",
    "    end_window = (datetime.strptime(end_window, '%Y-%m-%d %H:%M:%S') + timedelta(minutes=window)).strftime(\"%Y-%m-%d %H:%M:%S\")\n",
    "    timeint_on_first_window = timeint+1\n",
    "    "
   ]
  },
  {
   "cell_type": "code",
   "execution_count": 4,
   "metadata": {},
   "outputs": [],
   "source": [
    "# mae"
   ]
  },
  {
   "cell_type": "code",
   "execution_count": null,
   "metadata": {},
   "outputs": [],
   "source": [
    "plt.plot(pred, label=\"pred\")\n",
    "plt.plot(values_read, label=\"values_read\")\n",
    "plt.plot(mae, label=\"error\")\n",
    "\n",
    "plt.legend(loc='best')\n",
    "plt.show()"
   ]
  }
 ],
 "metadata": {
  "kernelspec": {
   "display_name": "Python 3",
   "language": "python",
   "name": "python3"
  },
  "language_info": {
   "codemirror_mode": {
    "name": "ipython",
    "version": 3
   },
   "file_extension": ".py",
   "mimetype": "text/x-python",
   "name": "python",
   "nbconvert_exporter": "python",
   "pygments_lexer": "ipython3",
   "version": "3.6.5"
  }
 },
 "nbformat": 4,
 "nbformat_minor": 2
}
