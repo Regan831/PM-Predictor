{
 "cells": [
  {
   "cell_type": "markdown",
   "metadata": {},
   "source": [
    "**Import statements**\n"
   ]
  },
  {
   "cell_type": "code",
   "execution_count": 95,
   "metadata": {},
   "outputs": [],
   "source": [
    "import pandas as pd\n",
    "from datetime import datetime\n",
    "from datetime import timedelta\n",
    "import numpy as np\n",
    "import pykrige.kriging_tools as kt\n",
    "from pykrige.ok import OrdinaryKriging\n",
    "import matplotlib.pyplot as plt\n",
    "import matplotlib.animation as animation\n",
    "from sklearn.linear_model import PassiveAggressiveRegressor, LinearRegression\n",
    "from sklearn.metrics import mean_squared_error, mean_absolute_error\n",
    "import pickle\n",
    "from statsmodels.tsa.arima_model import ARMA\n",
    "\n",
    "\n",
    "import constants\n",
    "import functions5 as functions\n",
    "\n",
    "flatten = lambda l: [item for sublist in l for item in sublist]\n",
    "\n",
    "\n",
    "%matplotlib inline"
   ]
  },
  {
   "cell_type": "markdown",
   "metadata": {},
   "source": [
    "**Load Data**"
   ]
  },
  {
   "cell_type": "code",
   "execution_count": 96,
   "metadata": {},
   "outputs": [],
   "source": [
    "all_static_data = functions.load_static_sensors_calibrated_2()\n",
    "all_static_data = functions.transform_to_grid_coordinates(all_static_data)\n",
    "mobile_sensor_data = functions.load_mobile_sensors_2()\n",
    "mobile_sensor_data = functions.transform_to_grid_coordinates(mobile_sensor_data)"
   ]
  },
  {
   "cell_type": "markdown",
   "metadata": {},
   "source": [
    "**Compute predictions for stationary sensors**"
   ]
  },
  {
   "cell_type": "code",
   "execution_count": 97,
   "metadata": {},
   "outputs": [],
   "source": [
    "# Fazer filtro de 1 hora ou assim\n",
    "def within_minutes(x, time, limite=60):\n",
    "    #return datetime.strptime(time, '%Y-%m-%d %H:%M:%S') - timedelta(minutes=limite) < datetime.strptime(x, '%Y-%m-%d %H:%M:%S')\n",
    "     return True\n",
    "    \n",
    "def correct(pred_value, error_dict, time=None):\n",
    "    error_dict = [y for x,y in error_dict if within_minutes(x, time, limite=60)]\n",
    "    if len(error_dict) < 1 :\n",
    "        return pred_value\n",
    "    new_value = pred_value + np.mean(error_dict)\n",
    "    # new_value = pred_value + max(error_dict, key=lambda item:item[0])[1]\n",
    "    return max(0.0, new_value)"
   ]
  },
  {
   "cell_type": "code",
   "execution_count": 101,
   "metadata": {},
   "outputs": [],
   "source": [
    "# Correct with ML version\n",
    "def correct(pred_value, error_dict, time=None):\n",
    "    errors = [y for x,y in error_dict if within_minutes(x, time, limite=60)]\n",
    "    dates = [datetime.strptime(x, '%Y-%m-%d %H:%M:%S') for x,y in error_dict if within_minutes(x, time, limite=60)]\n",
    "    \n",
    "    if len(errors) < 3 :\n",
    "        return pred_value\n",
    "    \n",
    "    step_zero = min(dates)\n",
    "    int_dates= [int((x-step_zero).seconds/60/15) for x in dates]\n",
    "    int_time = int((datetime.strptime(time, '%Y-%m-%d %H:%M:%S')-step_zero).seconds/60/15) \n",
    "    \n",
    "    regr = LinearRegression()\n",
    "    # regr = PassiveAggressiveRegressor(max_iter=100, random_state=0, tol=1e-3)\n",
    "    regr.fit(np.array(int_dates).reshape(-1, 1),errors)\n",
    "    correction = regr.predict([[int_time]])\n",
    "    \n",
    "    new_value = pred_value + correction\n",
    "    # new_value = pred_value + max(error_dict, key=lambda item:item[0])[1]\n",
    "    return max(0.0, new_value)"
   ]
  },
  {
   "cell_type": "code",
   "execution_count": 102,
   "metadata": {},
   "outputs": [],
   "source": [
    "def find_neighbors(mat, i, j, dist=1):\n",
    "    neighbors = []\n",
    "    i_min = max(0, i-dist)\n",
    "    i_max = i+dist+1\n",
    "    j_min = max(0, j-dist)\n",
    "    j_max = j+dist+1\n",
    "    for row in mat[i_min:i_max]:\n",
    "        neighbors.append(row[j_min:j_max])\n",
    "    return neighbors"
   ]
  },
  {
   "cell_type": "code",
   "execution_count": 116,
   "metadata": {},
   "outputs": [],
   "source": [
    "mae = []\n",
    "mse = []\n",
    "squares = []\n",
    "\n",
    "start_time = '2018-07-23 00:00:00'\n",
    "start_window = '2018-07-26 13:45:00'\n",
    "end_window = '2018-07-26 14:00:00'\n",
    "\n",
    "number_of_windows = 3\n",
    "window = 15\n",
    "par_grid = functions.create_par(c=0.00002, epsilon=0.001)\n",
    "\n",
    "# Load the 1st dataset pickle file\n",
    "grid_of_errors = pickle.load( open( \"tmp_error_grid/grid_of_errors.p\", \"rb\" ) )\n",
    "# Empty error grid\n",
    "#grid_of_errors = [[[] for x in range(20)] for y in range(20)]\n",
    "\n",
    "timeint_on_first_window = 0\n",
    "tmp_to_test_filename = 'tmp_to_test/with_mobile_data_{}_{}.csv'.format(start_window, number_of_windows)\n",
    "\n",
    "for i in range(1, number_of_windows+1):\n",
    "    end_time = start_window\n",
    "    # treinar sem dados moveis\n",
    "    # testar em dados fixos em vez de móveis\n",
    "    #print(start_window)\n",
    "    #print(end_window)\n",
    "    timeint, par_grid, grid_of_errors = functions.train(all_static_data, mobile_sensor_data, start_time, end_time, par_grid, window, grid_of_errors, timeint_on_first_window)\n",
    "    to_test = functions.test_mobile(par_grid, timeint, mobile_sensor_data, start_window, end_window, 1)\n",
    "    #print(to_test)\n",
    "    \n",
    "    # Calcular o erro numa das colunas do to_test\n",
    "    to_test['error_PM2.5'] = to_test['PM2.5'] - to_test['pred_PM2.5']\n",
    "    to_test['start_window'] = start_window\n",
    "    \n",
    "    # Guardar os erros raw numa coluna pq depois vou descontar os bias na pred_PM2.5\n",
    "    to_test['pred_PM2.5_raw'] = to_test['pred_PM2.5']\n",
    "    \n",
    "    # Guardar o tempo em que aconteceu\n",
    "    to_test['Timestamp'] = start_window\n",
    "    \n",
    "    # Corrigir as previsões com os erros\n",
    "    for index, row in to_test.iterrows():\n",
    "        # aplicar a função correct que aplica a função mean\n",
    "        # Fazer aqui o alargamento dos erros.\n",
    "        errors = flatten(flatten(find_neighbors(grid_of_errors, row['lat_grid'], row['long_grid'])))\n",
    "        to_test.at[index, 'pred_PM2.5'] = correct(row['pred_PM2.5'], errors, time=start_window)\n",
    "        \n",
    "    # Meter os erros na grid\n",
    "    for index, row in to_test.iterrows():\n",
    "        #O uso de index deve ser mudado para o timestamp\n",
    "        grid_of_errors[int(row['lat_grid'])][int(row['long_grid'])].append((row['start_window'], row['error_PM2.5']))\n",
    "        if len(grid_of_errors[int(row['lat_grid'])][int(row['long_grid'])]) > 10:\n",
    "            grid_of_errors[int(row['lat_grid'])][int(row['long_grid'])].pop(0)\n",
    "    \n",
    "    \n",
    "    squares.append(to_test.shape[0])\n",
    "    mae.append(mean_absolute_error(to_test['PM2.5'], to_test['pred_PM2.5']))\n",
    "    mse.append(mean_squared_error(to_test['PM2.5'], to_test['pred_PM2.5']))\n",
    "\n",
    "    start_time = end_time\n",
    "    start_window = (datetime.strptime(start_window, '%Y-%m-%d %H:%M:%S') + timedelta(minutes=15)).strftime(\"%Y-%m-%d %H:%M:%S\")\n",
    "    end_window = (datetime.strptime(end_window, '%Y-%m-%d %H:%M:%S') + timedelta(minutes=15)).strftime(\"%Y-%m-%d %H:%M:%S\")\n",
    "    timeint_on_first_window = timeint+1\n",
    "    "
   ]
  },
  {
   "cell_type": "code",
   "execution_count": 117,
   "metadata": {},
   "outputs": [],
   "source": [
    "#grid_of_errors[5][12]\n"
   ]
  },
  {
   "cell_type": "code",
   "execution_count": 118,
   "metadata": {},
   "outputs": [
    {
     "name": "stdout",
     "output_type": "stream",
     "text": [
      "[2.395831210560869, 1.9728488503274193, 1.13831175662127]\n",
      "[10, 44, 5]\n"
     ]
    }
   ],
   "source": [
    "print(mae)\n",
    "print(squares)"
   ]
  },
  {
   "cell_type": "code",
   "execution_count": 119,
   "metadata": {
    "scrolled": true
   },
   "outputs": [
    {
     "name": "stdout",
     "output_type": "stream",
     "text": [
      "-----------\n",
      "i: 0\n",
      "j: 7\n",
      "max: 2 \n",
      "-----------\n",
      "-----------\n",
      "i: 0\n",
      "j: 11\n",
      "max: 5 \n",
      "-----------\n",
      "-----------\n",
      "i: 1\n",
      "j: 10\n",
      "max: 8 \n",
      "-----------\n",
      "-----------\n",
      "i: 2\n",
      "j: 9\n",
      "max: 9 \n",
      "-----------\n",
      "-----------\n",
      "i: 3\n",
      "j: 7\n",
      "max: 10 \n",
      "-----------\n",
      "-----------\n",
      "i: 4\n",
      "j: 11\n",
      "max: 10 \n",
      "-----------\n",
      "-----------\n",
      "i: 4\n",
      "j: 12\n",
      "max: 13 \n",
      "-----------\n",
      "-----------\n",
      "i: 5\n",
      "j: 12\n",
      "max: 16 \n",
      "-----------\n"
     ]
    }
   ],
   "source": [
    "lens=[]\n",
    "maxi = 1\n",
    "max_i = 0\n",
    "max_j = 0\n",
    "for i in range(20):\n",
    "    for j in range(20):\n",
    "        lens.append(len(grid_of_errors[i][j]))\n",
    "        if maxi <= len(grid_of_errors[i][j]):\n",
    "            max_i = i\n",
    "            max_j = j\n",
    "            maxi = len(grid_of_errors[i][j])\n",
    "            print(\"-----------\")\n",
    "            print (\"i: {}\\nj: {}\\nmax: {} \".format(max_i,max_j, maxi))\n",
    "            print(\"-----------\")"
   ]
  },
  {
   "cell_type": "code",
   "execution_count": 123,
   "metadata": {},
   "outputs": [
    {
     "data": {
      "image/png": "[encoded data removed]",
      "text/plain": [
       "<Figure size 432x288 with 1 Axes>"
      ]
     },
     "metadata": {
      "needs_background": "light"
     },
     "output_type": "display_data"
    }
   ],
   "source": [
    "bins = range(18)\n",
    "plt.hist(lens, align='mid', bins = bins)\n",
    "def bins_labels(bins, **kwargs):\n",
    "    bin_w = (max(bins) - min(bins)) / (len(bins) - 1)\n",
    "    plt.xticks(np.arange(min(bins)+bin_w/2, max(bins), bin_w), bins, **kwargs)\n",
    "    plt.xlim(bins[0], bins[-1])\n",
    "bins_labels(bins, fontsize=12)\n",
    "plt.xlabel(\"Number of 15 min. windows with mobile values\")\n",
    "plt.ylabel(\"Number of grid cells\")\n",
    "plt.show()"
   ]
  },
  {
   "cell_type": "markdown",
   "metadata": {},
   "source": [
    "Previsao\n",
    "\n",
    "tiro lhe a media do erro\n",
    "\n",
    "essa e a minha real previsao\n",
    "\n",
    "guardar na estrutura o erro obtido ANTES da subtração da media do erro\n",
    "\n",
    "\n",
    "\n",
    "ver a noçao de locality\n",
    "\n",
    "olhar para a previsao de celulas adjacentes e erro de celulas adjacentes"
   ]
  },
  {
   "cell_type": "code",
   "execution_count": null,
   "metadata": {},
   "outputs": [],
   "source": []
  },
  {
   "cell_type": "code",
   "execution_count": null,
   "metadata": {},
   "outputs": [],
   "source": []
  },
  {
   "cell_type": "code",
   "execution_count": null,
   "metadata": {},
   "outputs": [],
   "source": []
  }
 ],
 "metadata": {
  "kernelspec": {
   "display_name": "Python 3",
   "language": "python",
   "name": "python3"
  },
  "language_info": {
   "codemirror_mode": {
    "name": "ipython",
    "version": 3
   },
   "file_extension": ".py",
   "mimetype": "text/x-python",
   "name": "python",
   "nbconvert_exporter": "python",
   "pygments_lexer": "ipython3",
   "version": "3.6.5"
  }
 },
 "nbformat": 4,
 "nbformat_minor": 2
}
