{
 "cells": [
  {
   "cell_type": "markdown",
   "metadata": {},
   "source": [
    "**Import statements**\n"
   ]
  },
  {
   "cell_type": "code",
   "execution_count": 1,
   "metadata": {},
   "outputs": [],
   "source": [
    "import pandas as pd\n",
    "from datetime import datetime\n",
    "from datetime import timedelta\n",
    "import numpy as np\n",
    "import pykrige.kriging_tools as kt\n",
    "from pykrige.ok import OrdinaryKriging\n",
    "import matplotlib.pyplot as plt\n",
    "import matplotlib.animation as animation\n",
    "from sklearn.linear_model import PassiveAggressiveRegressor\n",
    "from sklearn.metrics import mean_squared_error, mean_absolute_error\n",
    "\n",
    "import constants\n",
    "import functions\n",
    "\n",
    "%matplotlib inline"
   ]
  },
  {
   "cell_type": "markdown",
   "metadata": {},
   "source": [
    "**Load Data**"
   ]
  },
  {
   "cell_type": "code",
   "execution_count": 2,
   "metadata": {},
   "outputs": [],
   "source": [
    "all_static_data = functions.load_static_sensors()\n",
    "all_static_data = functions.transform_to_grid_coordinates(all_static_data)\n",
    "mobile_sensor_data = functions.load_mobile_sensors()\n",
    "mobile_sensor_data = functions.transform_to_grid_coordinates(mobile_sensor_data)"
   ]
  },
  {
   "cell_type": "markdown",
   "metadata": {},
   "source": [
    "**Compute predictions for stationary sensors**"
   ]
  },
  {
   "cell_type": "code",
   "execution_count": 3,
   "metadata": {},
   "outputs": [
    {
     "name": "stdout",
     "output_type": "stream",
     "text": [
      "54\n"
     ]
    }
   ],
   "source": [
    "par_grid = functions.create_par()\n",
    "start_time = '2018-07-03 00:00:00'\n",
    "end_time = '2018-07-03 13:45:00'\n",
    "window = 15\n",
    "timeint, par_grid = functions.train(all_static_data, mobile_sensor_data, start_time, end_time, par_grid, window)\n",
    "print (timeint)"
   ]
  },
  {
   "cell_type": "code",
   "execution_count": 4,
   "metadata": {},
   "outputs": [
    {
     "name": "stdout",
     "output_type": "stream",
     "text": [
      "Inside while loop with timeint = 0\n",
      "start_window = 2018-07-03 00:00:00\n",
      "end_window = 2018-07-03 00:15:00\n",
      "Inside while loop with timeint = 1\n",
      "start_window = 2018-07-03 00:15:00\n",
      "end_window = 2018-07-03 00:30:00\n",
      "Inside while loop with timeint = 2\n",
      "start_window = 2018-07-03 00:30:00\n",
      "end_window = 2018-07-03 00:45:00\n",
      "Inside while loop with timeint = 3\n",
      "start_window = 2018-07-03 00:45:00\n",
      "end_window = 2018-07-03 01:00:00\n",
      "Inside while loop with timeint = 4\n",
      "start_window = 2018-07-03 01:00:00\n",
      "end_window = 2018-07-03 01:15:00\n",
      "Inside while loop with timeint = 5\n",
      "start_window = 2018-07-03 01:15:00\n",
      "end_window = 2018-07-03 01:30:00\n",
      "Inside while loop with timeint = 6\n",
      "start_window = 2018-07-03 01:30:00\n",
      "end_window = 2018-07-03 01:45:00\n",
      "Inside while loop with timeint = 7\n",
      "start_window = 2018-07-03 01:45:00\n",
      "end_window = 2018-07-03 02:00:00\n",
      "Inside while loop with timeint = 8\n",
      "start_window = 2018-07-03 02:00:00\n",
      "end_window = 2018-07-03 02:15:00\n",
      "Inside while loop with timeint = 9\n",
      "start_window = 2018-07-03 02:15:00\n",
      "end_window = 2018-07-03 02:30:00\n",
      "Inside while loop with timeint = 10\n",
      "start_window = 2018-07-03 02:30:00\n",
      "end_window = 2018-07-03 02:45:00\n",
      "Inside while loop with timeint = 11\n",
      "start_window = 2018-07-03 02:45:00\n",
      "end_window = 2018-07-03 03:00:00\n",
      "Inside while loop with timeint = 12\n",
      "start_window = 2018-07-03 03:00:00\n",
      "end_window = 2018-07-03 03:15:00\n",
      "Inside while loop with timeint = 13\n",
      "start_window = 2018-07-03 03:15:00\n",
      "end_window = 2018-07-03 03:30:00\n",
      "Inside while loop with timeint = 14\n",
      "start_window = 2018-07-03 03:30:00\n",
      "end_window = 2018-07-03 03:45:00\n",
      "Inside while loop with timeint = 15\n",
      "start_window = 2018-07-03 03:45:00\n",
      "end_window = 2018-07-03 04:00:00\n",
      "Inside while loop with timeint = 16\n",
      "start_window = 2018-07-03 04:00:00\n",
      "end_window = 2018-07-03 04:15:00\n",
      "Inside while loop with timeint = 17\n",
      "start_window = 2018-07-03 04:15:00\n",
      "end_window = 2018-07-03 04:30:00\n",
      "Inside while loop with timeint = 18\n",
      "start_window = 2018-07-03 04:30:00\n",
      "end_window = 2018-07-03 04:45:00\n",
      "Inside while loop with timeint = 19\n",
      "start_window = 2018-07-03 04:45:00\n",
      "end_window = 2018-07-03 05:00:00\n",
      "Inside while loop with timeint = 20\n",
      "start_window = 2018-07-03 05:00:00\n",
      "end_window = 2018-07-03 05:15:00\n",
      "Inside while loop with timeint = 21\n",
      "start_window = 2018-07-03 05:15:00\n",
      "end_window = 2018-07-03 05:30:00\n",
      "Inside while loop with timeint = 22\n",
      "start_window = 2018-07-03 05:30:00\n",
      "end_window = 2018-07-03 05:45:00\n",
      "Inside while loop with timeint = 23\n",
      "start_window = 2018-07-03 05:45:00\n",
      "end_window = 2018-07-03 06:00:00\n",
      "Inside while loop with timeint = 24\n",
      "start_window = 2018-07-03 06:00:00\n",
      "end_window = 2018-07-03 06:15:00\n",
      "Inside while loop with timeint = 25\n",
      "start_window = 2018-07-03 06:15:00\n",
      "end_window = 2018-07-03 06:30:00\n",
      "Inside while loop with timeint = 26\n",
      "start_window = 2018-07-03 06:30:00\n",
      "end_window = 2018-07-03 06:45:00\n",
      "Inside while loop with timeint = 27\n",
      "start_window = 2018-07-03 06:45:00\n",
      "end_window = 2018-07-03 07:00:00\n",
      "Inside while loop with timeint = 28\n",
      "start_window = 2018-07-03 07:00:00\n",
      "end_window = 2018-07-03 07:15:00\n",
      "Inside while loop with timeint = 29\n",
      "start_window = 2018-07-03 07:15:00\n",
      "end_window = 2018-07-03 07:30:00\n",
      "Inside while loop with timeint = 30\n",
      "start_window = 2018-07-03 07:30:00\n",
      "end_window = 2018-07-03 07:45:00\n",
      "Inside while loop with timeint = 31\n",
      "start_window = 2018-07-03 07:45:00\n",
      "end_window = 2018-07-03 08:00:00\n",
      "Inside while loop with timeint = 32\n",
      "start_window = 2018-07-03 08:00:00\n",
      "end_window = 2018-07-03 08:15:00\n",
      "Inside while loop with timeint = 33\n",
      "start_window = 2018-07-03 08:15:00\n",
      "end_window = 2018-07-03 08:30:00\n",
      "Inside while loop with timeint = 34\n",
      "start_window = 2018-07-03 08:30:00\n",
      "end_window = 2018-07-03 08:45:00\n",
      "Inside while loop with timeint = 35\n",
      "start_window = 2018-07-03 08:45:00\n",
      "end_window = 2018-07-03 09:00:00\n",
      "Inside while loop with timeint = 36\n",
      "start_window = 2018-07-03 09:00:00\n",
      "end_window = 2018-07-03 09:15:00\n",
      "Inside while loop with timeint = 37\n",
      "start_window = 2018-07-03 09:15:00\n",
      "end_window = 2018-07-03 09:30:00\n",
      "Inside while loop with timeint = 38\n",
      "start_window = 2018-07-03 09:30:00\n",
      "end_window = 2018-07-03 09:45:00\n",
      "Inside while loop with timeint = 39\n",
      "start_window = 2018-07-03 09:45:00\n",
      "end_window = 2018-07-03 10:00:00\n",
      "Inside while loop with timeint = 40\n",
      "start_window = 2018-07-03 10:00:00\n",
      "end_window = 2018-07-03 10:15:00\n",
      "Inside while loop with timeint = 41\n",
      "start_window = 2018-07-03 10:15:00\n",
      "end_window = 2018-07-03 10:30:00\n",
      "Inside while loop with timeint = 42\n",
      "start_window = 2018-07-03 10:30:00\n",
      "end_window = 2018-07-03 10:45:00\n",
      "Inside while loop with timeint = 43\n",
      "start_window = 2018-07-03 10:45:00\n",
      "end_window = 2018-07-03 11:00:00\n",
      "Inside while loop with timeint = 44\n",
      "start_window = 2018-07-03 11:00:00\n",
      "end_window = 2018-07-03 11:15:00\n",
      "Inside while loop with timeint = 45\n",
      "start_window = 2018-07-03 11:15:00\n",
      "end_window = 2018-07-03 11:30:00\n",
      "Inside while loop with timeint = 46\n",
      "start_window = 2018-07-03 11:30:00\n",
      "end_window = 2018-07-03 11:45:00\n",
      "Inside while loop with timeint = 47\n",
      "start_window = 2018-07-03 11:45:00\n",
      "end_window = 2018-07-03 12:00:00\n",
      "Inside while loop with timeint = 48\n",
      "start_window = 2018-07-03 12:00:00\n",
      "end_window = 2018-07-03 12:15:00\n",
      "Inside while loop with timeint = 49\n",
      "start_window = 2018-07-03 12:15:00\n",
      "end_window = 2018-07-03 12:30:00\n",
      "Inside while loop with timeint = 50\n",
      "start_window = 2018-07-03 12:30:00\n",
      "end_window = 2018-07-03 12:45:00\n",
      "Inside while loop with timeint = 51\n",
      "start_window = 2018-07-03 12:45:00\n",
      "end_window = 2018-07-03 13:00:00\n",
      "Inside while loop with timeint = 52\n",
      "start_window = 2018-07-03 13:00:00\n",
      "end_window = 2018-07-03 13:15:00\n",
      "Inside while loop with timeint = 53\n",
      "start_window = 2018-07-03 13:15:00\n",
      "end_window = 2018-07-03 13:30:00\n",
      "Inside while loop with timeint = 54\n",
      "start_window = 2018-07-03 13:30:00\n",
      "end_window = 2018-07-03 13:45:00\n",
      "Out of the while loop with timeint = 55\n",
      "start_window = 2018-07-03 13:45:00\n",
      "end_window = 2018-07-03 14:00:00\n",
      "Inside while loop with timeint = 55\n",
      "start_window = 2018-07-03 13:45:00\n",
      "end_window = 2018-07-03 14:00:00\n",
      "Out of the while loop with timeint = 56\n",
      "start_window = 2018-07-03 14:00:00\n",
      "end_window = 2018-07-03 14:15:00\n",
      "Inside while loop with timeint = 56\n",
      "start_window = 2018-07-03 14:00:00\n",
      "end_window = 2018-07-03 14:15:00\n",
      "Out of the while loop with timeint = 57\n",
      "start_window = 2018-07-03 14:15:00\n",
      "end_window = 2018-07-03 14:30:00\n",
      "Inside while loop with timeint = 57\n",
      "start_window = 2018-07-03 14:15:00\n",
      "end_window = 2018-07-03 14:30:00\n",
      "Out of the while loop with timeint = 58\n",
      "start_window = 2018-07-03 14:30:00\n",
      "end_window = 2018-07-03 14:45:00\n",
      "Inside while loop with timeint = 58\n",
      "start_window = 2018-07-03 14:30:00\n",
      "end_window = 2018-07-03 14:45:00\n",
      "Out of the while loop with timeint = 59\n",
      "start_window = 2018-07-03 14:45:00\n",
      "end_window = 2018-07-03 15:00:00\n",
      "Inside while loop with timeint = 59\n",
      "start_window = 2018-07-03 14:45:00\n",
      "end_window = 2018-07-03 15:00:00\n",
      "Out of the while loop with timeint = 60\n",
      "start_window = 2018-07-03 15:00:00\n",
      "end_window = 2018-07-03 15:15:00\n"
     ]
    }
   ],
   "source": [
    "mae = []\n",
    "mse = []\n",
    "squares = []\n",
    "\n",
    "start_window = '2018-07-03 13:45:00'\n",
    "end_window = '2018-07-03 14:00:00'\n",
    "offset_timeint = 1\n",
    "number_of_windows = 6\n",
    "window = 15\n",
    "start_time = '2018-07-03 00:00:00'\n",
    "par_grid = functions.create_par()\n",
    "timeint_on_first_window = 0\n",
    "for i in range(1, number_of_windows+1):\n",
    "    end_time = start_window\n",
    "    timeint, par_grid = functions.train(all_static_data, mobile_sensor_data, start_time, end_time, par_grid, window, timeint_on_first_window, verbose = True)\n",
    "    to_test = functions.test_mobile(par_grid, timeint, mobile_sensor_data, start_window, end_window, i)\n",
    "    squares.append(to_test.shape[0])\n",
    "    mae.append(mean_absolute_error(to_test['PM2.5'], to_test['pred_PM2.5']))\n",
    "    mse.append(mean_squared_error(to_test['PM2.5'], to_test['pred_PM2.5']))\n",
    "    start_time = end_time\n",
    "    start_window = (datetime.strptime(start_window, '%Y-%m-%d %H:%M:%S') + timedelta(minutes=15)).strftime(\"%Y-%m-%d %H:%M:%S\")\n",
    "    end_window = (datetime.strptime(end_window, '%Y-%m-%d %H:%M:%S') + timedelta(minutes=15)).strftime(\"%Y-%m-%d %H:%M:%S\")\n",
    "    timeint_on_first_window = timeint+1\n",
    "    "
   ]
  },
  {
   "cell_type": "code",
   "execution_count": 6,
   "metadata": {},
   "outputs": [
    {
     "data": {
      "text/plain": [
       "[2.378931985811072,\n",
       " 7.372120951356723,\n",
       " 0.5128049078682898,\n",
       " 0.992379810646798,\n",
       " 0.5066701984215534,\n",
       " 2.7995319832931]"
      ]
     },
     "execution_count": 6,
     "metadata": {},
     "output_type": "execute_result"
    }
   ],
   "source": [
    "mae"
   ]
  },
  {
   "cell_type": "code",
   "execution_count": null,
   "metadata": {},
   "outputs": [],
   "source": []
  },
  {
   "cell_type": "code",
   "execution_count": null,
   "metadata": {},
   "outputs": [],
   "source": []
  },
  {
   "cell_type": "code",
   "execution_count": 7,
   "metadata": {},
   "outputs": [],
   "source": [
    "mae_no_online = []\n",
    "mse_no_online = []\n",
    "squares_no_online = []\n",
    "\n",
    "start_window = '2018-07-03 13:45:00'\n",
    "end_window = '2018-07-03 14:00:00'\n",
    "offset_timeint = 1\n",
    "number_of_windows = 6\n",
    "par_grid = functions.create_par()\n",
    "start_time = '2018-07-03 00:00:00'\n",
    "end_time = start_window\n",
    "timeint, par_grid = functions.train(all_static_data, mobile_sensor_data, start_time, end_time, par_grid, window)\n",
    "\n",
    "\n",
    "for i in range(1, number_of_windows+1):\n",
    "    to_test = functions.test_mobile(par_grid, timeint, mobile_sensor_data, start_window, end_window, i)\n",
    "    squares_no_online.append(to_test.shape[0])\n",
    "    mae_no_online.append(mean_absolute_error(to_test['PM2.5'], to_test['pred_PM2.5']))\n",
    "    mse_no_online.append(mean_squared_error(to_test['PM2.5'], to_test['pred_PM2.5']))\n",
    "    start_window = (datetime.strptime(start_window, '%Y-%m-%d %H:%M:%S') + timedelta(minutes=15)).strftime(\"%Y-%m-%d %H:%M:%S\")\n",
    "    end_window = (datetime.strptime(end_window, '%Y-%m-%d %H:%M:%S') + timedelta(minutes=15)).strftime(\"%Y-%m-%d %H:%M:%S\")"
   ]
  },
  {
   "cell_type": "code",
   "execution_count": 8,
   "metadata": {},
   "outputs": [
    {
     "data": {
      "text/plain": [
       "[2.378931985811072,\n",
       " 1.4743843975362683,\n",
       " 0.6358325967073964,\n",
       " 0.5191209202615743,\n",
       " 0.2781495208843021,\n",
       " 0.8354529830195766]"
      ]
     },
     "execution_count": 8,
     "metadata": {},
     "output_type": "execute_result"
    }
   ],
   "source": [
    "mae_no_online"
   ]
  },
  {
   "cell_type": "code",
   "execution_count": 9,
   "metadata": {},
   "outputs": [
    {
     "data": {
      "text/plain": [
       "[<matplotlib.lines.Line2D at 0x11e62ce48>]"
      ]
     },
     "execution_count": 9,
     "metadata": {},
     "output_type": "execute_result"
    },
    {
     "data": {
      "image/png": "[encoded data removed]",
      "text/plain": [
       "<Figure size 432x288 with 1 Axes>"
      ]
     },
     "metadata": {
      "needs_background": "light"
     },
     "output_type": "display_data"
    }
   ],
   "source": [
    "plt.plot(mae)\n",
    "plt.plot(mae_no_online)"
   ]
  },
  {
   "cell_type": "code",
   "execution_count": null,
   "metadata": {},
   "outputs": [],
   "source": []
  }
 ],
 "metadata": {
  "kernelspec": {
   "display_name": "Python 3",
   "language": "python",
   "name": "python3"
  },
  "language_info": {
   "codemirror_mode": {
    "name": "ipython",
    "version": 3
   },
   "file_extension": ".py",
   "mimetype": "text/x-python",
   "name": "python",
   "nbconvert_exporter": "python",
   "pygments_lexer": "ipython3",
   "version": "3.6.5"
  }
 },
 "nbformat": 4,
 "nbformat_minor": 2
}
