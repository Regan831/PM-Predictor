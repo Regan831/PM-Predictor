{
 "cells": [
  {
   "cell_type": "markdown",
   "metadata": {},
   "source": [
    "**Import statements**\n"
   ]
  },
  {
   "cell_type": "code",
   "execution_count": 1,
   "metadata": {},
   "outputs": [],
   "source": [
    "import pandas as pd\n",
    "from datetime import datetime\n",
    "from datetime import timedelta\n",
    "import numpy as np\n",
    "import pykrige.kriging_tools as kt\n",
    "from pykrige.ok import OrdinaryKriging\n",
    "import matplotlib.pyplot as plt\n",
    "import matplotlib.animation as animation\n",
    "from sklearn.linear_model import PassiveAggressiveRegressor, LinearRegression\n",
    "from sklearn.metrics import mean_squared_error, mean_absolute_error\n",
    "import pickle\n",
    "\n",
    "import constants\n",
    "import functions5 as functions\n",
    "\n",
    "%matplotlib inline"
   ]
  },
  {
   "cell_type": "markdown",
   "metadata": {},
   "source": [
    "**Load Data**"
   ]
  },
  {
   "cell_type": "code",
   "execution_count": 2,
   "metadata": {},
   "outputs": [],
   "source": [
    "all_static_data = functions.load_static_sensors_calibrated_2()\n",
    "all_static_data = functions.transform_to_grid_coordinates(all_static_data)\n",
    "mobile_sensor_data = functions.load_mobile_sensors_2()\n",
    "mobile_sensor_data = functions.transform_to_grid_coordinates(mobile_sensor_data)"
   ]
  },
  {
   "cell_type": "markdown",
   "metadata": {},
   "source": [
    "**Compute predictions for stationary sensors**"
   ]
  },
  {
   "cell_type": "code",
   "execution_count": 3,
   "metadata": {},
   "outputs": [],
   "source": [
    "def correct(pred_value, error_dict, time=None):\n",
    "    if len(error_dict) < 10:\n",
    "        return pred_value\n",
    "    if pred_value + np.mean([y for x,y in error_dict]) < 0:\n",
    "    #if pred_value + max(error_dict, key=lambda item:item[0])[1] < 0:\n",
    "        return 0.0\n",
    "    return pred_value + np.mean([y for x,y in error_dict])\n",
    "    #return pred_value + max(error_dict, key=lambda item:item[0])[1]"
   ]
  },
  {
   "cell_type": "code",
   "execution_count": 4,
   "metadata": {},
   "outputs": [],
   "source": [
    "# Fazer filtro de 1 hora ou assim\n",
    "def within_minutes(x, time, limite=60):\n",
    "    #return datetime.strptime(time, '%Y-%m-%d %H:%M:%S') - timedelta(minutes=limite) < datetime.strptime(x, '%Y-%m-%d %H:%M:%S')\n",
    "     return True\n",
    "\n",
    "# Correct with ML version\n",
    "def correct(pred_value, error_dict, time=None):\n",
    "    errors = [y for x,y in error_dict if within_minutes(x, time, limite=60)]\n",
    "    dates = [datetime.strptime(x, '%Y-%m-%d %H:%M:%S') for x,y in error_dict if within_minutes(x, time, limite=60)]\n",
    "    \n",
    "    if len(errors) < 3 :\n",
    "        return pred_value\n",
    "    \n",
    "    step_zero = min(dates)\n",
    "    int_dates= [int((x-step_zero).seconds/60/15) for x in dates]\n",
    "    int_time = int((datetime.strptime(time, '%Y-%m-%d %H:%M:%S')-step_zero).seconds/60/15) \n",
    "    \n",
    "    #regr = LinearRegression()\n",
    "    regr = PassiveAggressiveRegressor(max_iter=100, random_state=0, tol=1e-3)\n",
    "    regr.fit(np.array(int_dates).reshape(-1, 1),errors)\n",
    "    correction = regr.predict([[int_time]])\n",
    "    \n",
    "    new_value = pred_value + correction\n",
    "    # new_value = pred_value + max(error_dict, key=lambda item:item[0])[1]\n",
    "    return max(0.0, new_value)"
   ]
  },
  {
   "cell_type": "code",
   "execution_count": 5,
   "metadata": {},
   "outputs": [
    {
     "name": "stdout",
     "output_type": "stream",
     "text": [
      "hello\n",
      "hello\n",
      "hello\n",
      "hello\n",
      "hello\n",
      "hello\n",
      "54\n",
      "2018-07-23 13:45:00 2018-07-23 14:00:00\n",
      "                    Timestamp       PM1     PM2.5      PM10  temperature  \\\n",
      "0  2018-07-23 13:59:25.516000  0.528595  0.750815  2.633142         23.6   \n",
      "1  2018-07-23 13:59:35.885000  0.619950  0.771881  0.781830         23.6   \n",
      "2  2018-07-23 13:59:46.915000  0.551724  0.819529  4.493389         23.6   \n",
      "3  2018-07-23 13:59:56.024000  0.611184  0.854221  0.933319         23.6   \n",
      "\n",
      "    humidity        lat      long  lat_grid  long_grid  hour  \n",
      "0  60.900002  55.944708 -3.187169         4         12    13  \n",
      "1  60.900002  55.944708 -3.187169         4         12    13  \n",
      "2  60.900002  55.944702 -3.187170         4         12    13  \n",
      "3  60.900002  55.944702 -3.187170         4         12    13  \n",
      "55\n",
      "2018-07-23 14:00:00 2018-07-23 14:15:00\n",
      "                     Timestamp       PM1     PM2.5       PM10  temperature  \\\n",
      "88  2018-07-23 14:14:17.396000  1.179663  1.634953   6.059880         24.4   \n",
      "89  2018-07-23 14:14:33.615000  3.590372  4.300888   8.417338         24.5   \n",
      "90  2018-07-23 14:14:41.399000  1.721716  2.242190  13.626556         24.5   \n",
      "91  2018-07-23 14:14:49.213000  0.899807  1.513947  25.553156         24.5   \n",
      "92  2018-07-23 14:14:57.629000  1.036553  1.702989   6.185480         24.5   \n",
      "\n",
      "     humidity        lat      long  lat_grid  long_grid  hour  \n",
      "88  56.400002  55.939726 -3.187564        16         11    14  \n",
      "89  56.500000  55.939746 -3.186353        16         13    14  \n",
      "90  56.500000  55.939823 -3.185560        16         14    14  \n",
      "91  56.500000  55.939939 -3.184947        15         15    14  \n",
      "92  56.500000  55.940178 -3.184100        15         16    14  \n",
      "56\n",
      "2018-07-23 14:15:00 2018-07-23 14:30:00\n",
      "                      Timestamp       PM1     PM2.5       PM10  temperature  \\\n",
      "177  2018-07-23 14:29:08.131000  1.672895  3.693899  48.748569         24.5   \n",
      "178  2018-07-23 14:29:25.029000  1.380976  1.982987   2.849260         24.5   \n",
      "179  2018-07-23 14:29:34.114000  2.017537  2.780110  12.259715         24.5   \n",
      "180  2018-07-23 14:29:41.866000  1.715755  2.421136  15.800672         24.5   \n",
      "181  2018-07-23 14:29:51.597000  1.814227  2.745855   9.886819         24.5   \n",
      "\n",
      "      humidity        lat      long  lat_grid  long_grid  hour  \n",
      "177  56.900002  55.944414 -3.186064         5         13    14  \n",
      "178  56.900002  55.944643 -3.186383         5         13    14  \n",
      "179  56.900002  55.944674 -3.186665         5         12    14  \n",
      "180  56.900002  55.944624 -3.186830         5         12    14  \n",
      "181  56.900002  55.944587 -3.186959         5         12    14  \n",
      "57\n",
      "2018-07-23 14:30:00 2018-07-23 14:45:00\n",
      "                      Timestamp       PM1     PM2.5       PM10  temperature  \\\n",
      "190  2018-07-23 14:32:05.886000  0.856731  1.620804  12.749604    25.000000   \n",
      "191  2018-07-23 14:32:22.109000  0.852074  1.991443   6.278054    25.200001   \n",
      "192  2018-07-23 14:32:31.190000  1.242380  3.395884   8.812357    25.200001   \n",
      "193  2018-07-23 14:32:39.622000  0.714024  1.179614  11.851713    25.200001   \n",
      "194  2018-07-23 14:32:47.410000  0.606206  0.822756   0.922560    25.200001   \n",
      "\n",
      "      humidity        lat      long  lat_grid  long_grid  hour  \n",
      "190  56.400002  55.944708 -3.187267         4         12    14  \n",
      "191  57.100002  55.944752 -3.187275         4         12    14  \n",
      "192  57.100002  55.944729 -3.187230         4         12    14  \n",
      "193  57.100002  55.944717 -3.187195         4         12    14  \n",
      "194  57.100002  55.944716 -3.187192         4         12    14  \n",
      "58\n",
      "2018-07-23 14:45:00 2018-07-23 15:00:00\n",
      "Empty DataFrame\n",
      "Columns: [Timestamp, PM1, PM2.5, PM10, temperature, humidity, lat, long, lat_grid, long_grid, hour]\n",
      "Index: []\n"
     ]
    },
    {
     "ename": "KeyError",
     "evalue": "'pred_PM2.5'",
     "output_type": "error",
     "traceback": [
      "\u001b[0;31m---------------------------------------------------------------------------\u001b[0m",
      "\u001b[0;31mKeyError\u001b[0m                                  Traceback (most recent call last)",
      "\u001b[0;32m/anaconda3/lib/python3.6/site-packages/pandas/core/indexes/base.py\u001b[0m in \u001b[0;36mget_loc\u001b[0;34m(self, key, method, tolerance)\u001b[0m\n\u001b[1;32m   2655\u001b[0m             \u001b[0;32mtry\u001b[0m\u001b[0;34m:\u001b[0m\u001b[0;34m\u001b[0m\u001b[0;34m\u001b[0m\u001b[0m\n\u001b[0;32m-> 2656\u001b[0;31m                 \u001b[0;32mreturn\u001b[0m \u001b[0mself\u001b[0m\u001b[0;34m.\u001b[0m\u001b[0m_engine\u001b[0m\u001b[0;34m.\u001b[0m\u001b[0mget_loc\u001b[0m\u001b[0;34m(\u001b[0m\u001b[0mkey\u001b[0m\u001b[0;34m)\u001b[0m\u001b[0;34m\u001b[0m\u001b[0;34m\u001b[0m\u001b[0m\n\u001b[0m\u001b[1;32m   2657\u001b[0m             \u001b[0;32mexcept\u001b[0m \u001b[0mKeyError\u001b[0m\u001b[0;34m:\u001b[0m\u001b[0;34m\u001b[0m\u001b[0;34m\u001b[0m\u001b[0m\n",
      "\u001b[0;32mpandas/_libs/index.pyx\u001b[0m in \u001b[0;36mpandas._libs.index.IndexEngine.get_loc\u001b[0;34m()\u001b[0m\n",
      "\u001b[0;32mpandas/_libs/index.pyx\u001b[0m in \u001b[0;36mpandas._libs.index.IndexEngine.get_loc\u001b[0;34m()\u001b[0m\n",
      "\u001b[0;32mpandas/_libs/hashtable_class_helper.pxi\u001b[0m in \u001b[0;36mpandas._libs.hashtable.PyObjectHashTable.get_item\u001b[0;34m()\u001b[0m\n",
      "\u001b[0;32mpandas/_libs/hashtable_class_helper.pxi\u001b[0m in \u001b[0;36mpandas._libs.hashtable.PyObjectHashTable.get_item\u001b[0;34m()\u001b[0m\n",
      "\u001b[0;31mKeyError\u001b[0m: 'pred_PM2.5'",
      "\nDuring handling of the above exception, another exception occurred:\n",
      "\u001b[0;31mKeyError\u001b[0m                                  Traceback (most recent call last)",
      "\u001b[0;32m<ipython-input-5-2a707f4d78be>\u001b[0m in \u001b[0;36m<module>\u001b[0;34m\u001b[0m\n\u001b[1;32m     31\u001b[0m \u001b[0;34m\u001b[0m\u001b[0m\n\u001b[1;32m     32\u001b[0m     \u001b[0;31m# Calcular o erro numa das colunas do to_test\u001b[0m\u001b[0;34m\u001b[0m\u001b[0;34m\u001b[0m\u001b[0;34m\u001b[0m\u001b[0m\n\u001b[0;32m---> 33\u001b[0;31m     \u001b[0mto_test\u001b[0m\u001b[0;34m[\u001b[0m\u001b[0;34m'error_PM2.5'\u001b[0m\u001b[0;34m]\u001b[0m \u001b[0;34m=\u001b[0m \u001b[0mto_test\u001b[0m\u001b[0;34m[\u001b[0m\u001b[0;34m'PM2.5'\u001b[0m\u001b[0;34m]\u001b[0m \u001b[0;34m-\u001b[0m \u001b[0mto_test\u001b[0m\u001b[0;34m[\u001b[0m\u001b[0;34m'pred_PM2.5'\u001b[0m\u001b[0;34m]\u001b[0m\u001b[0;34m\u001b[0m\u001b[0;34m\u001b[0m\u001b[0m\n\u001b[0m\u001b[1;32m     34\u001b[0m     \u001b[0mto_test\u001b[0m\u001b[0;34m[\u001b[0m\u001b[0;34m'start_window'\u001b[0m\u001b[0;34m]\u001b[0m \u001b[0;34m=\u001b[0m \u001b[0mstart_window\u001b[0m\u001b[0;34m\u001b[0m\u001b[0;34m\u001b[0m\u001b[0m\n\u001b[1;32m     35\u001b[0m \u001b[0;34m\u001b[0m\u001b[0m\n",
      "\u001b[0;32m/anaconda3/lib/python3.6/site-packages/pandas/core/frame.py\u001b[0m in \u001b[0;36m__getitem__\u001b[0;34m(self, key)\u001b[0m\n\u001b[1;32m   2925\u001b[0m             \u001b[0;32mif\u001b[0m \u001b[0mself\u001b[0m\u001b[0;34m.\u001b[0m\u001b[0mcolumns\u001b[0m\u001b[0;34m.\u001b[0m\u001b[0mnlevels\u001b[0m \u001b[0;34m>\u001b[0m \u001b[0;36m1\u001b[0m\u001b[0;34m:\u001b[0m\u001b[0;34m\u001b[0m\u001b[0;34m\u001b[0m\u001b[0m\n\u001b[1;32m   2926\u001b[0m                 \u001b[0;32mreturn\u001b[0m \u001b[0mself\u001b[0m\u001b[0;34m.\u001b[0m\u001b[0m_getitem_multilevel\u001b[0m\u001b[0;34m(\u001b[0m\u001b[0mkey\u001b[0m\u001b[0;34m)\u001b[0m\u001b[0;34m\u001b[0m\u001b[0;34m\u001b[0m\u001b[0m\n\u001b[0;32m-> 2927\u001b[0;31m             \u001b[0mindexer\u001b[0m \u001b[0;34m=\u001b[0m \u001b[0mself\u001b[0m\u001b[0;34m.\u001b[0m\u001b[0mcolumns\u001b[0m\u001b[0;34m.\u001b[0m\u001b[0mget_loc\u001b[0m\u001b[0;34m(\u001b[0m\u001b[0mkey\u001b[0m\u001b[0;34m)\u001b[0m\u001b[0;34m\u001b[0m\u001b[0;34m\u001b[0m\u001b[0m\n\u001b[0m\u001b[1;32m   2928\u001b[0m             \u001b[0;32mif\u001b[0m \u001b[0mis_integer\u001b[0m\u001b[0;34m(\u001b[0m\u001b[0mindexer\u001b[0m\u001b[0;34m)\u001b[0m\u001b[0;34m:\u001b[0m\u001b[0;34m\u001b[0m\u001b[0;34m\u001b[0m\u001b[0m\n\u001b[1;32m   2929\u001b[0m                 \u001b[0mindexer\u001b[0m \u001b[0;34m=\u001b[0m \u001b[0;34m[\u001b[0m\u001b[0mindexer\u001b[0m\u001b[0;34m]\u001b[0m\u001b[0;34m\u001b[0m\u001b[0;34m\u001b[0m\u001b[0m\n",
      "\u001b[0;32m/anaconda3/lib/python3.6/site-packages/pandas/core/indexes/base.py\u001b[0m in \u001b[0;36mget_loc\u001b[0;34m(self, key, method, tolerance)\u001b[0m\n\u001b[1;32m   2656\u001b[0m                 \u001b[0;32mreturn\u001b[0m \u001b[0mself\u001b[0m\u001b[0;34m.\u001b[0m\u001b[0m_engine\u001b[0m\u001b[0;34m.\u001b[0m\u001b[0mget_loc\u001b[0m\u001b[0;34m(\u001b[0m\u001b[0mkey\u001b[0m\u001b[0;34m)\u001b[0m\u001b[0;34m\u001b[0m\u001b[0;34m\u001b[0m\u001b[0m\n\u001b[1;32m   2657\u001b[0m             \u001b[0;32mexcept\u001b[0m \u001b[0mKeyError\u001b[0m\u001b[0;34m:\u001b[0m\u001b[0;34m\u001b[0m\u001b[0;34m\u001b[0m\u001b[0m\n\u001b[0;32m-> 2658\u001b[0;31m                 \u001b[0;32mreturn\u001b[0m \u001b[0mself\u001b[0m\u001b[0;34m.\u001b[0m\u001b[0m_engine\u001b[0m\u001b[0;34m.\u001b[0m\u001b[0mget_loc\u001b[0m\u001b[0;34m(\u001b[0m\u001b[0mself\u001b[0m\u001b[0;34m.\u001b[0m\u001b[0m_maybe_cast_indexer\u001b[0m\u001b[0;34m(\u001b[0m\u001b[0mkey\u001b[0m\u001b[0;34m)\u001b[0m\u001b[0;34m)\u001b[0m\u001b[0;34m\u001b[0m\u001b[0;34m\u001b[0m\u001b[0m\n\u001b[0m\u001b[1;32m   2659\u001b[0m         \u001b[0mindexer\u001b[0m \u001b[0;34m=\u001b[0m \u001b[0mself\u001b[0m\u001b[0;34m.\u001b[0m\u001b[0mget_indexer\u001b[0m\u001b[0;34m(\u001b[0m\u001b[0;34m[\u001b[0m\u001b[0mkey\u001b[0m\u001b[0;34m]\u001b[0m\u001b[0;34m,\u001b[0m \u001b[0mmethod\u001b[0m\u001b[0;34m=\u001b[0m\u001b[0mmethod\u001b[0m\u001b[0;34m,\u001b[0m \u001b[0mtolerance\u001b[0m\u001b[0;34m=\u001b[0m\u001b[0mtolerance\u001b[0m\u001b[0;34m)\u001b[0m\u001b[0;34m\u001b[0m\u001b[0;34m\u001b[0m\u001b[0m\n\u001b[1;32m   2660\u001b[0m         \u001b[0;32mif\u001b[0m \u001b[0mindexer\u001b[0m\u001b[0;34m.\u001b[0m\u001b[0mndim\u001b[0m \u001b[0;34m>\u001b[0m \u001b[0;36m1\u001b[0m \u001b[0;32mor\u001b[0m \u001b[0mindexer\u001b[0m\u001b[0;34m.\u001b[0m\u001b[0msize\u001b[0m \u001b[0;34m>\u001b[0m \u001b[0;36m1\u001b[0m\u001b[0;34m:\u001b[0m\u001b[0;34m\u001b[0m\u001b[0;34m\u001b[0m\u001b[0m\n",
      "\u001b[0;32mpandas/_libs/index.pyx\u001b[0m in \u001b[0;36mpandas._libs.index.IndexEngine.get_loc\u001b[0;34m()\u001b[0m\n",
      "\u001b[0;32mpandas/_libs/index.pyx\u001b[0m in \u001b[0;36mpandas._libs.index.IndexEngine.get_loc\u001b[0;34m()\u001b[0m\n",
      "\u001b[0;32mpandas/_libs/hashtable_class_helper.pxi\u001b[0m in \u001b[0;36mpandas._libs.hashtable.PyObjectHashTable.get_item\u001b[0;34m()\u001b[0m\n",
      "\u001b[0;32mpandas/_libs/hashtable_class_helper.pxi\u001b[0m in \u001b[0;36mpandas._libs.hashtable.PyObjectHashTable.get_item\u001b[0;34m()\u001b[0m\n",
      "\u001b[0;31mKeyError\u001b[0m: 'pred_PM2.5'"
     ]
    }
   ],
   "source": [
    "mae = []\n",
    "mse = []\n",
    "squares = []\n",
    "\n",
    "start_time = '2018-07-23 00:00:00'\n",
    "start_window = '2018-07-23 13:45:00'\n",
    "end_window = '2018-07-23 14:00:00'\n",
    "\n",
    "number_of_windows = 5\n",
    "window = 15\n",
    "par_grid = functions.create_par(c=0.00002, epsilon=0.001)\n",
    "\n",
    "# Load the 1st dataset pickle file\n",
    "# grid_of_errors = pickle.load( open( \"tmp_error_grid/grid_of_errors.p\", \"rb\" ) )\n",
    "# Empty error grid\n",
    "grid_of_errors = [[[] for x in range(20)] for y in range(20)]\n",
    "\n",
    "timeint_on_first_window = 0\n",
    "tmp_to_test_filename = 'tmp_to_test/with_mobile_data_{}_{}.csv'.format(start_window, number_of_windows)\n",
    "\n",
    "for i in range(1, number_of_windows+1):\n",
    "    end_time = start_window\n",
    "    # treinar sem dados moveis\n",
    "    # testar em dados fixos em vez de móveis\n",
    "    #print(start_window)\n",
    "    #print(end_window)\n",
    "    timeint, par_grid, grid_of_errors = functions.train(all_static_data, mobile_sensor_data, start_time, end_time, par_grid, window, grid_of_errors, timeint_on_first_window)\n",
    "    print(timeint)\n",
    "    to_test = functions.test_mobile(par_grid, timeint, mobile_sensor_data, start_window, end_window, 1)\n",
    "    #print(to_test)\n",
    "    \n",
    "    # Calcular o erro numa das colunas do to_test\n",
    "    to_test['error_PM2.5'] = to_test['PM2.5'] - to_test['pred_PM2.5']\n",
    "    to_test['start_window'] = start_window\n",
    "    \n",
    "    # Guardar os erros raw numa coluna pq depois vou descontar os bias na pred_PM2.5\n",
    "    to_test['pred_PM2.5_raw'] = to_test['pred_PM2.5']\n",
    "    \n",
    "    # Guardar o tempo em que aconteceu\n",
    "    to_test['Timestamp'] = start_window\n",
    "    \n",
    "    # Corrigir as previsões com os erros\n",
    "    for index, row in to_test.iterrows():\n",
    "        # aplicar a função correct que aplica a função mean\n",
    "        flatten = lambda l: [item for sublist in l for item in sublist]\n",
    "        all_errors = flatten([grid_of_errors[i][j] for i in range(20) for j in range(20)])\n",
    "        to_test.at[index, 'pred_PM2.5'] = correct(row['pred_PM2.5'], all_errors, time=start_window)\n",
    "        \n",
    "    # Meter os erros na grid\n",
    "    for index, row in to_test.iterrows():\n",
    "        #O uso de index deve ser mudado para o timestamp\n",
    "        grid_of_errors[int(row['lat_grid'])][int(row['long_grid'])].append((row['start_window'], row['error_PM2.5']))\n",
    "        #if len(grid_of_errors[int(row['lat_grid'])][int(row['long_grid'])]) > 10:\n",
    "        #    grid_of_errors[int(row['lat_grid'])][int(row['long_grid'])].pop(0)\n",
    "        \n",
    "    squares.append(to_test.shape[0])\n",
    "    mae.append(mean_absolute_error(to_test['PM2.5'], to_test['pred_PM2.5']))\n",
    "    mse.append(mean_squared_error(to_test['PM2.5'], to_test['pred_PM2.5']))\n",
    "\n",
    "    start_time = end_time\n",
    "    start_window = (datetime.strptime(start_window, '%Y-%m-%d %H:%M:%S') + timedelta(minutes=15)).strftime(\"%Y-%m-%d %H:%M:%S\")\n",
    "    end_window = (datetime.strptime(end_window, '%Y-%m-%d %H:%M:%S') + timedelta(minutes=15)).strftime(\"%Y-%m-%d %H:%M:%S\")\n",
    "    timeint_on_first_window = timeint+1\n",
    "    "
   ]
  },
  {
   "cell_type": "code",
   "execution_count": null,
   "metadata": {},
   "outputs": [],
   "source": [
    "#grid_of_errors[5][12]"
   ]
  },
  {
   "cell_type": "code",
   "execution_count": 6,
   "metadata": {},
   "outputs": [
    {
     "name": "stdout",
     "output_type": "stream",
     "text": [
      "[0.48126894363949957, 1.8492340262255085, 2.808192000408087, 0.6509645346538065]\n",
      "[1, 39, 45, 2]\n"
     ]
    }
   ],
   "source": [
    "print(mae)\n",
    "print(squares)"
   ]
  },
  {
   "cell_type": "code",
   "execution_count": null,
   "metadata": {},
   "outputs": [],
   "source": []
  },
  {
   "cell_type": "code",
   "execution_count": null,
   "metadata": {},
   "outputs": [],
   "source": []
  }
 ],
 "metadata": {
  "kernelspec": {
   "display_name": "Python 3",
   "language": "python",
   "name": "python3"
  },
  "language_info": {
   "codemirror_mode": {
    "name": "ipython",
    "version": 3
   },
   "file_extension": ".py",
   "mimetype": "text/x-python",
   "name": "python",
   "nbconvert_exporter": "python",
   "pygments_lexer": "ipython3",
   "version": "3.6.8"
  }
 },
 "nbformat": 4,
 "nbformat_minor": 2
}
