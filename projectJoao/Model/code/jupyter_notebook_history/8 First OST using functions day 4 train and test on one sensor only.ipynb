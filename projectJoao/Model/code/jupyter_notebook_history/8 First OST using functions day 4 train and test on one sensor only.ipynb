{
 "cells": [
  {
   "cell_type": "markdown",
   "metadata": {},
   "source": [
    "**Import statements**\n"
   ]
  },
  {
   "cell_type": "code",
   "execution_count": 1,
   "metadata": {},
   "outputs": [],
   "source": [
    "import pandas as pd\n",
    "from datetime import datetime\n",
    "from datetime import timedelta\n",
    "import numpy as np\n",
    "import pykrige.kriging_tools as kt\n",
    "from pykrige.ok import OrdinaryKriging\n",
    "import matplotlib.pyplot as plt\n",
    "import matplotlib.animation as animation\n",
    "from sklearn.linear_model import PassiveAggressiveRegressor\n",
    "from sklearn.metrics import mean_squared_error, mean_absolute_error\n",
    "\n",
    "import constants\n",
    "import functions\n",
    "\n",
    "%matplotlib inline"
   ]
  },
  {
   "cell_type": "markdown",
   "metadata": {},
   "source": [
    "**Load Data**"
   ]
  },
  {
   "cell_type": "code",
   "execution_count": 2,
   "metadata": {},
   "outputs": [],
   "source": [
    "all_static_data = functions.load_static_sensors()\n",
    "all_static_data = functions.transform_to_grid_coordinates(all_static_data)\n",
    "mobile_sensor_data = functions.load_mobile_sensors()\n",
    "mobile_sensor_data = functions.transform_to_grid_coordinates(mobile_sensor_data)"
   ]
  },
  {
   "cell_type": "markdown",
   "metadata": {},
   "source": [
    "**Compute predictions for stationary sensors**"
   ]
  },
  {
   "cell_type": "code",
   "execution_count": null,
   "metadata": {},
   "outputs": [],
   "source": []
  },
  {
   "cell_type": "code",
   "execution_count": 3,
   "metadata": {},
   "outputs": [],
   "source": [
    "mae = []\n",
    "mse = []\n",
    "squares = []\n",
    "pred=[]\n",
    "\n",
    "start_time = '2018-07-03 00:00:00'\n",
    "start_window = '2018-07-06 12:00:00'\n",
    "end_window = '2018-07-06 12:15:00'\n",
    "offset_timeint = 1\n",
    "\n",
    "# Fiz isto 6 +1 agora 20\n",
    "number_of_windows = 30\n",
    "window = 15\n",
    "par_grid = functions.create_par()\n",
    "timeint_on_first_window = 0\n",
    "\n",
    "for i in range(1, number_of_windows+1):\n",
    "    end_time = start_window\n",
    "    # treinar sem dados moveis\n",
    "    # testar em dados fixos em vez de móveis\n",
    "    timeint, par_grid = functions.train(all_static_data, None, start_time, end_time, par_grid, window, timeint_on_first_window)\n",
    "    # prever para t em vez de t+1\n",
    "    to_test = functions.test_mobile(par_grid, timeint, all_static_data, start_window, end_window, 1)\n",
    "    # if (i != 1):\n",
    "    squares.append(to_test.shape[0])\n",
    "    mae.append(mean_absolute_error(to_test['PM2.5'], to_test['pred_PM2.5']))\n",
    "    mse.append(mean_squared_error(to_test['PM2.5'], to_test['pred_PM2.5']))\n",
    "    pred.append(to_test['pred_PM2.5'].values[0])\n",
    "\n",
    "    start_time = end_time\n",
    "    start_window = (datetime.strptime(start_window, '%Y-%m-%d %H:%M:%S') + timedelta(minutes=15)).strftime(\"%Y-%m-%d %H:%M:%S\")\n",
    "    end_window = (datetime.strptime(end_window, '%Y-%m-%d %H:%M:%S') + timedelta(minutes=15)).strftime(\"%Y-%m-%d %H:%M:%S\")\n",
    "    timeint_on_first_window = timeint+1\n",
    "    "
   ]
  },
  {
   "cell_type": "code",
   "execution_count": 4,
   "metadata": {},
   "outputs": [
    {
     "data": {
      "text/plain": [
       "[0.2732553635308218,\n",
       " 0.10017092420597462,\n",
       " 0.011323836139349397,\n",
       " 0.13218113889427607,\n",
       " 0.001615308354510181,\n",
       " 0.09509824599228844,\n",
       " 0.024716933904420535,\n",
       " 0.878001539089114,\n",
       " 0.49985161089274777,\n",
       " 1.2306278816654928,\n",
       " 0.24671349529921216,\n",
       " 0.10359111874167393,\n",
       " 0.021949967164145212,\n",
       " 0.04320173972937125,\n",
       " 0.10523734559655462,\n",
       " 0.1325570489738867,\n",
       " 0.10737235065381356,\n",
       " 0.09036776405606928,\n",
       " 0.12800300543670012,\n",
       " 0.028083100020834362,\n",
       " 0.06301319672780314,\n",
       " 0.020481710054225943,\n",
       " 0.023872872614411622,\n",
       " 0.05236017233604923,\n",
       " 0.01481449614535335,\n",
       " 0.09272955363300894,\n",
       " 0.1546490190309619,\n",
       " 0.029037312235987822,\n",
       " 0.03594492368665586,\n",
       " 0.03451081543065726]"
      ]
     },
     "execution_count": 4,
     "metadata": {},
     "output_type": "execute_result"
    }
   ],
   "source": [
    "mae"
   ]
  },
  {
   "cell_type": "code",
   "execution_count": null,
   "metadata": {},
   "outputs": [],
   "source": []
  },
  {
   "cell_type": "code",
   "execution_count": null,
   "metadata": {},
   "outputs": [],
   "source": []
  },
  {
   "cell_type": "code",
   "execution_count": 5,
   "metadata": {},
   "outputs": [],
   "source": [
    "mae_no_online = []\n",
    "mse_no_online = []\n",
    "squares_no_online = []\n",
    "pred_no_online=[]\n",
    "values_read=[]\n",
    "\n",
    "\n",
    "window = 15\n",
    "start_window = '2018-07-06 12:00:00'\n",
    "end_window = '2018-07-06 12:15:00'\n",
    "offset_timeint = 1\n",
    "# windows 6\n",
    "number_of_windows = 30\n",
    "par_grid = functions.create_par()\n",
    "start_time = '2018-07-03 00:00:00'\n",
    "end_time = start_window\n",
    "timeint, par_grid = functions.train(all_static_data, None, start_time, end_time, par_grid, window)\n",
    "\n",
    "\n",
    "for i in range(1, number_of_windows+1):\n",
    "    to_test = functions.test_mobile(par_grid, timeint, all_static_data, start_window, end_window, i)\n",
    "    squares_no_online.append(to_test.shape[0])\n",
    "    mae_no_online.append(mean_absolute_error(to_test['PM2.5'], to_test['pred_PM2.5']))\n",
    "    mse_no_online.append(mean_squared_error(to_test['PM2.5'], to_test['pred_PM2.5']))\n",
    "    pred_no_online.append(to_test['pred_PM2.5'].values[0])\n",
    "    values_read.append(to_test['PM2.5'].values[0])\n",
    "    start_window = (datetime.strptime(start_window, '%Y-%m-%d %H:%M:%S') + timedelta(minutes=15)).strftime(\"%Y-%m-%d %H:%M:%S\")\n",
    "    end_window = (datetime.strptime(end_window, '%Y-%m-%d %H:%M:%S') + timedelta(minutes=15)).strftime(\"%Y-%m-%d %H:%M:%S\")"
   ]
  },
  {
   "cell_type": "code",
   "execution_count": 6,
   "metadata": {},
   "outputs": [
    {
     "data": {
      "text/plain": [
       "[0.2732553635308218,\n",
       " 0.27394346334540864,\n",
       " 0.18578344914616207,\n",
       " 0.042794622268915505,\n",
       " 0.14160025242916896,\n",
       " 0.2387350253190892,\n",
       " 0.16877493177434266,\n",
       " 0.7335223226760705,\n",
       " 1.1352275539911503,\n",
       " 0.19238758187043625,\n",
       " 0.3393783916620232,\n",
       " 0.3436625787729434,\n",
       " 0.2663147676631967,\n",
       " 0.2018652526714504,\n",
       " 0.14053183870603703,\n",
       " 0.3737760729832906,\n",
       " 0.3819286710792106,\n",
       " 0.19236189388413083,\n",
       " 0.4115335907373843,\n",
       " 0.2843307460713045,\n",
       " 0.3763070747155579,\n",
       " 0.29369219982914463,\n",
       " 0.3389268143933981,\n",
       " 0.36829414601065164,\n",
       " 0.3316285017155717,\n",
       " 0.2249644838328252,\n",
       " 0.47322308839241206,\n",
       " 0.4032918136929989,\n",
       " 0.41123042118025227,\n",
       " 0.4108273089608391]"
      ]
     },
     "execution_count": 6,
     "metadata": {},
     "output_type": "execute_result"
    }
   ],
   "source": [
    "mae_no_online"
   ]
  },
  {
   "cell_type": "code",
   "execution_count": null,
   "metadata": {},
   "outputs": [],
   "source": []
  },
  {
   "cell_type": "code",
   "execution_count": 7,
   "metadata": {},
   "outputs": [
    {
     "data": {
      "image/png": "[encoded data removed]",
      "text/plain": [
       "<Figure size 432x288 with 1 Axes>"
      ]
     },
     "metadata": {
      "needs_background": "light"
     },
     "output_type": "display_data"
    }
   ],
   "source": [
    "plt.plot(mae, label=\"mae\")\n",
    "plt.plot(mae_no_online, label=\"mae_no_online\")\n",
    "plt.legend(loc='best')\n",
    "plt.show()\n"
   ]
  },
  {
   "cell_type": "code",
   "execution_count": 8,
   "metadata": {},
   "outputs": [
    {
     "data": {
      "text/plain": [
       "0.15917779300787907"
      ]
     },
     "execution_count": 8,
     "metadata": {},
     "output_type": "execute_result"
    }
   ],
   "source": [
    "np.mean(mae)"
   ]
  },
  {
   "cell_type": "code",
   "execution_count": 9,
   "metadata": {},
   "outputs": [
    {
     "data": {
      "text/plain": [
       "0.33180314077687295"
      ]
     },
     "execution_count": 9,
     "metadata": {},
     "output_type": "execute_result"
    }
   ],
   "source": [
    "np.mean(mae_no_online)"
   ]
  },
  {
   "cell_type": "code",
   "execution_count": 25,
   "metadata": {},
   "outputs": [
    {
     "name": "stdout",
     "output_type": "stream",
     "text": [
      "[-0.00301974]\n",
      "[1.88586017]\n"
     ]
    }
   ],
   "source": [
    "pred_offline=[]\n",
    "par = PassiveAggressiveRegressor(max_iter=100, random_state=0,tol=1e-3)\n",
    "start_window = '2018-07-03 00:00:00'\n",
    "end_window = (datetime.strptime(start_time, '%Y-%m-%d %H:%M:%S') + timedelta(minutes=window)).strftime(\"%Y-%m-%d %H:%M:%S\")\n",
    "window = 15\n",
    "number_of_windows = 30\n",
    "list_ = []\n",
    "timeint = 0\n",
    "while end_window <= '2018-07-06 12:00:00':\n",
    "    that_sensor_data = all_static_data[(all_static_data['Timestamp'] > start_window) & (all_static_data['Timestamp'] < end_window) & (all_static_data['lat_grid'] == 4) & (all_static_data['long_grid'] == 6)]\n",
    "    start_window = (datetime.strptime(start_window, '%Y-%m-%d %H:%M:%S') + timedelta(minutes=window)).strftime(\"%Y-%m-%d %H:%M:%S\")\n",
    "    end_window = (datetime.strptime(end_window, '%Y-%m-%d %H:%M:%S') + timedelta(minutes=window)).strftime(\"%Y-%m-%d %H:%M:%S\")\n",
    "    that_sensor_data = that_sensor_data.groupby(['lat_grid','long_grid']).mean()\n",
    "    that_sensor_data.reset_index(level=that_sensor_data.index.names, inplace=True)\n",
    "    that_sensor_data['Timestamp'] = timeint\n",
    "    list_.append(that_sensor_data)\n",
    "    timeint += 1\n",
    "that_sensor_data = pd.concat(list_, axis = 0, ignore_index = False)\n",
    "par.fit(that_sensor_data['Timestamp'].values.reshape(-1,1), that_sensor_data['PM2.5'])\n",
    "print(par.coef_)\n",
    "print(par.intercept_)\n",
    "for i in range(number_of_windows):\n",
    "    pred_offline.append(par.predict([[timeint+i]])[0])"
   ]
  },
  {
   "cell_type": "code",
   "execution_count": 26,
   "metadata": {},
   "outputs": [
    {
     "data": {
      "text/plain": [
       "[0.8712278090541317,\n",
       " 0.8682080698746113,\n",
       " 0.8651883306950909,\n",
       " 0.8621685915155706,\n",
       " 0.8591488523360504,\n",
       " 0.8561291131565301,\n",
       " 0.8531093739770097,\n",
       " 0.8500896347974893,\n",
       " 0.8470698956179692,\n",
       " 0.8440501564384488,\n",
       " 0.8410304172589285,\n",
       " 0.8380106780794081,\n",
       " 0.8349909388998877,\n",
       " 0.8319711997203676,\n",
       " 0.8289514605408472,\n",
       " 0.8259317213613269,\n",
       " 0.8229119821818065,\n",
       " 0.8198922430022864,\n",
       " 0.816872503822766,\n",
       " 0.8138527646432456,\n",
       " 0.8108330254637253,\n",
       " 0.8078132862842049,\n",
       " 0.8047935471046848,\n",
       " 0.8017738079251644,\n",
       " 0.798754068745644,\n",
       " 0.7957343295661237,\n",
       " 0.7927145903866033,\n",
       " 0.7896948512070832,\n",
       " 0.7866751120275628,\n",
       " 0.7836553728480424]"
      ]
     },
     "execution_count": 26,
     "metadata": {},
     "output_type": "execute_result"
    }
   ],
   "source": [
    "pred_offline"
   ]
  },
  {
   "cell_type": "code",
   "execution_count": 27,
   "metadata": {},
   "outputs": [
    {
     "data": {
      "image/png": "[encoded data removed]",
      "text/plain": [
       "<Figure size 432x288 with 1 Axes>"
      ]
     },
     "metadata": {
      "needs_background": "light"
     },
     "output_type": "display_data"
    }
   ],
   "source": [
    "plt.plot(pred_no_online, label=\"pred_no_online\")\n",
    "plt.plot(pred, label=\"pred\")\n",
    "plt.plot(values_read, label=\"values_read\")\n",
    "plt.plot(pred_offline, label=\"pred_offline\")\n",
    "plt.legend(loc='best')\n",
    "plt.show()"
   ]
  },
  {
   "cell_type": "code",
   "execution_count": null,
   "metadata": {},
   "outputs": [],
   "source": []
  },
  {
   "cell_type": "code",
   "execution_count": 11,
   "metadata": {},
   "outputs": [
    {
     "data": {
      "text/plain": [
       "array([0.00057427])"
      ]
     },
     "execution_count": 11,
     "metadata": {},
     "output_type": "execute_result"
    }
   ],
   "source": [
    "par_grid[9][5].coef_"
   ]
  },
  {
   "cell_type": "code",
   "execution_count": 12,
   "metadata": {},
   "outputs": [
    {
     "data": {
      "text/plain": [
       "array([0.7544826])"
      ]
     },
     "execution_count": 12,
     "metadata": {},
     "output_type": "execute_result"
    }
   ],
   "source": [
    "par_grid[9][5].intercept_"
   ]
  },
  {
   "cell_type": "code",
   "execution_count": 13,
   "metadata": {},
   "outputs": [
    {
     "data": {
      "text/plain": [
       "0.15917779300787907"
      ]
     },
     "execution_count": 13,
     "metadata": {},
     "output_type": "execute_result"
    }
   ],
   "source": [
    "mean_absolute_error(values_read, pred)"
   ]
  },
  {
   "cell_type": "code",
   "execution_count": 14,
   "metadata": {},
   "outputs": [
    {
     "data": {
      "text/plain": [
       "[<matplotlib.lines.Line2D at 0x113814198>]"
      ]
     },
     "execution_count": 14,
     "metadata": {},
     "output_type": "execute_result"
    },
    {
     "data": {
      "image/png": "[encoded data removed]",
      "text/plain": [
       "<Figure size 432x288 with 1 Axes>"
      ]
     },
     "metadata": {
      "needs_background": "light"
     },
     "output_type": "display_data"
    }
   ],
   "source": [
    "plt.plot(np.abs(np.subtract(values_read, pred_no_online)))\n",
    "plt.plot(np.abs(np.subtract(values_read, pred)))"
   ]
  },
  {
   "cell_type": "code",
   "execution_count": 34,
   "metadata": {},
   "outputs": [
    {
     "data": {
      "text/plain": [
       "[<matplotlib.lines.Line2D at 0x114d78f60>]"
      ]
     },
     "execution_count": 34,
     "metadata": {},
     "output_type": "execute_result"
    },
    {
     "data": {
      "image/png": "[encoded data removed]",
      "text/plain": [
       "<Figure size 432x288 with 1 Axes>"
      ]
     },
     "metadata": {
      "needs_background": "light"
     },
     "output_type": "display_data"
    }
   ],
   "source": [
    "plt.plot(all_static_data[(all_static_data['Timestamp'] > '2018-07-03 00:00:00') & (all_static_data['Timestamp'] < '2018-07-06 14:00:00') & (all_static_data['lat_grid'] == 4) & (all_static_data['long_grid'] == 6)]['PM2.5'].values)"
   ]
  },
  {
   "cell_type": "code",
   "execution_count": null,
   "metadata": {},
   "outputs": [],
   "source": []
  }
 ],
 "metadata": {
  "kernelspec": {
   "display_name": "Python 3",
   "language": "python",
   "name": "python3"
  },
  "language_info": {
   "codemirror_mode": {
    "name": "ipython",
    "version": 3
   },
   "file_extension": ".py",
   "mimetype": "text/x-python",
   "name": "python",
   "nbconvert_exporter": "python",
   "pygments_lexer": "ipython3",
   "version": "3.6.5"
  }
 },
 "nbformat": 4,
 "nbformat_minor": 2
}
