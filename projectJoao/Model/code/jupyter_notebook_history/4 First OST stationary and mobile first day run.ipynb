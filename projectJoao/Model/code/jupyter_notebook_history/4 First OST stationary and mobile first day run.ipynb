{
 "cells": [
  {
   "cell_type": "markdown",
   "metadata": {},
   "source": [
    "**Import statements**\n"
   ]
  },
  {
   "cell_type": "code",
   "execution_count": 29,
   "metadata": {},
   "outputs": [],
   "source": [
    "import pandas as pd\n",
    "from datetime import datetime\n",
    "from datetime import timedelta\n",
    "import numpy as np\n",
    "import pykrige.kriging_tools as kt\n",
    "from pykrige.ok import OrdinaryKriging\n",
    "import matplotlib.pyplot as plt\n",
    "import matplotlib.animation as animation\n",
    "from sklearn.linear_model import PassiveAggressiveRegressor\n",
    "from sklearn.metrics import mean_squared_error, mean_absolute_error\n",
    "\n",
    "%matplotlib inline"
   ]
  },
  {
   "cell_type": "markdown",
   "metadata": {},
   "source": [
    "**Constants**"
   ]
  },
  {
   "cell_type": "code",
   "execution_count": 63,
   "metadata": {},
   "outputs": [],
   "source": [
    "dates = [\"20180703-20180704\",\n",
    "         \"20180704-20180705\", \n",
    "         \"20180705-20180706\", \n",
    "         \"20180706-20180707\"]\n",
    "\n",
    "sensors = [\"02E5F77764B873DA\", \n",
    "           \"200A7CED9D597407\", \n",
    "           \"AA0E63CF5118F98F\", \n",
    "           \"B61241EF668DBC2C\", \n",
    "           \"E5FD8C55EAA37555\", \n",
    "           \"E786F1568F65C296\"]\n",
    "\n",
    "finalStaticCoords = { \"E5FD8C55EAA37555\" : [55.9454333, -3.1913917],  # Lauriston\n",
    "                      \"02E5F77764B873DA\" : [55.9397722,-3.1915444],   # Melville\n",
    "                      \"200A7CED9D597407\" : [55.9430028,-3.1921472],   # Library \n",
    "                      \"AA0E63CF5118F98F\" : [55.940953, -3.186092],    # Tennis court\n",
    "                      \"B61241EF668DBC2C\" : [55.945302, -3.188279],    # Bristo Square\n",
    "                      \"E786F1568F65C296\" : [55.943014, -3.185994]}    # Buccleuch Place\n",
    "\n",
    "gridStaticCoords = { \"E5FD8C55EAA37555\" : [4, 6],   # Lauriston\n",
    "                     \"02E5F77764B873DA\" : [17, 6],  # Melville\n",
    "                     \"200A7CED9D597407\" : [9, 5],   # Library \n",
    "                     \"AA0E63CF5118F98F\" : [14, 13], # Tennis court\n",
    "                     \"B61241EF668DBC2C\" : [4, 10],  # Bristo Square\n",
    "                     \"E786F1568F65C296\" : [9, 13]}  # Buccleuch Place\n",
    "\n",
    "columns_needed = ['Timestamp','PM1', 'PM2.5', 'PM10', 'temperature', 'humidity', 'lat', 'long']\n",
    "\n",
    "corners = np.array([[55.94686, -3.19665], #NW\n",
    "                    [55.94686, -3.18123], #NE\n",
    "                    [55.93814, -3.18123], #SE\n",
    "                    [55.93814, -3.19665]]) #SW\n",
    "    \n",
    "gridSize = 20\n"
   ]
  },
  {
   "cell_type": "markdown",
   "metadata": {},
   "source": [
    "**Load Data**"
   ]
  },
  {
   "cell_type": "code",
   "execution_count": 4,
   "metadata": {},
   "outputs": [],
   "source": [
    "static_sensor_data=[]\n",
    "for sensor in sensors:\n",
    "    list_ = []\n",
    "    for date in dates:\n",
    "        filename = \"data/raw/static/{}/{}.csv\".format(date, sensor)\n",
    "        df = pd.read_csv(filename,index_col=None)\n",
    "        df['lat'] = finalStaticCoords[sensor][0]\n",
    "        df['long'] = finalStaticCoords[sensor][1]\n",
    "        list_.append(df)\n",
    "    static_sensor_data.append(pd.concat(list_, axis = 0, ignore_index = False))   "
   ]
  },
  {
   "cell_type": "code",
   "execution_count": 5,
   "metadata": {},
   "outputs": [],
   "source": [
    "all_static_data = pd.concat(static_sensor_data, axis = 0, ignore_index = False)\n",
    "# Select columns\n",
    "all_static_data = all_static_data[columns_needed]"
   ]
  },
  {
   "cell_type": "code",
   "execution_count": 6,
   "metadata": {},
   "outputs": [],
   "source": [
    "list_ = []\n",
    "for date in dates:\n",
    "    filename = \"data/raw/personal/{}/XXM007_{}.csv\".format(date, date.split(\"-\")[0])\n",
    "    df = pd.read_csv(filename,index_col=None)\n",
    "    list_.append(df)\n",
    "mobile_sensor_data = (pd.concat(list_, axis = 0, ignore_index = False))\n",
    "mobile_sensor_data['lat'] = mobile_sensor_data['latitude']\n",
    "mobile_sensor_data['long'] = mobile_sensor_data['longitude']\n",
    "mobile_sensor_data = mobile_sensor_data[columns_needed]"
   ]
  },
  {
   "cell_type": "code",
   "execution_count": 7,
   "metadata": {},
   "outputs": [],
   "source": [
    "#Transform to grid coordinates\n",
    "\n",
    "def grid_lat_coord(lat):\n",
    "    if lat < 55.93814 or lat > 55.94686:\n",
    "        return -1\n",
    "    i = 0\n",
    "    for lat_check in np.linspace(55.93814,55.94686,gridSize+1)[1:]:\n",
    "        if lat < lat_check:\n",
    "            return 20-i\n",
    "        i+=1\n",
    "        \n",
    "def grid_long_coord(long):\n",
    "    if long < -3.19665 or long > -3.18123:\n",
    "        return -1\n",
    "    i = 0\n",
    "    for long_check in np.linspace(-3.19665,-3.18123,gridSize+1)[1:]:\n",
    "        if long < long_check:\n",
    "            return i\n",
    "        i+=1\n",
    "all_static_data['lat_grid'] = all_static_data['lat'].apply(grid_lat_coord)\n",
    "all_static_data['long_grid'] = all_static_data['long'].apply(grid_long_coord)\n",
    "mobile_sensor_data['lat_grid'] = mobile_sensor_data['lat'].apply(grid_lat_coord)\n",
    "mobile_sensor_data['long_grid'] = mobile_sensor_data['long'].apply(grid_long_coord)"
   ]
  },
  {
   "cell_type": "code",
   "execution_count": 8,
   "metadata": {},
   "outputs": [
    {
     "name": "stdout",
     "output_type": "stream",
     "text": [
      "Before:\n",
      "(6907, 10)\n",
      "(976, 10)\n",
      "After:\n",
      "(6907, 10)\n",
      "(966, 10)\n"
     ]
    }
   ],
   "source": [
    "# Take out whats outside the grid and outside the time window\n",
    "print(\"Before:\")\n",
    "print(all_static_data.shape)\n",
    "print(mobile_sensor_data.shape)\n",
    "all_static_data = all_static_data[all_static_data['lat_grid'] >= 0]\n",
    "all_static_data = all_static_data[all_static_data['long_grid'] >= 0]\n",
    "mobile_sensor_data = mobile_sensor_data[mobile_sensor_data['lat_grid'] >= 0]\n",
    "mobile_sensor_data = mobile_sensor_data[mobile_sensor_data['long_grid'] >= 0]\n",
    "print(\"After:\")\n",
    "print(all_static_data.shape)\n",
    "print(mobile_sensor_data.shape)\n"
   ]
  },
  {
   "cell_type": "markdown",
   "metadata": {},
   "source": [
    "**--------------------------------------**"
   ]
  },
  {
   "cell_type": "markdown",
   "metadata": {},
   "source": [
    "**Separate into 15 min chuncks and test O.K.**"
   ]
  },
  {
   "cell_type": "code",
   "execution_count": 55,
   "metadata": {},
   "outputs": [],
   "source": [
    "start_time = '2018-07-03 13:45:00'\n",
    "end_time = '2018-07-03 14:00:00'\n",
    "\n",
    "to_insert = all_static_data[(all_static_data['Timestamp'] > start_time) & (all_static_data['Timestamp'] < end_time)]\n",
    "to_insert = to_insert.append( mobile_sensor_data[(mobile_sensor_data['Timestamp'] > start_time) & (mobile_sensor_data['Timestamp'] < end_time)])\n",
    "to_insert = to_insert.groupby(['lat_grid','long_grid']).mean()\n",
    "to_insert.reset_index(level=to_insert.index.names, inplace=True)"
   ]
  },
  {
   "cell_type": "code",
   "execution_count": 56,
   "metadata": {},
   "outputs": [
    {
     "name": "stdout",
     "output_type": "stream",
     "text": [
      "Adjusting data for anisotropy...\n",
      "Initializing variogram model...\n",
      "Coordinates type: 'euclidean' \n",
      "\n",
      "Using 'gaussian' Variogram Model\n",
      "Partial Sill: 6.554778955958469\n",
      "Full Sill: 6.554778955958469\n",
      "Range: 4.490282737324452\n",
      "Nugget: 1.859156837425814e-20 \n",
      "\n",
      "Calculating statistics on variogram model fit...\n",
      "Executing Ordinary Kriging...\n",
      "\n"
     ]
    },
    {
     "data": {
      "text/plain": [
       "4.170431493847335"
      ]
     },
     "execution_count": 56,
     "metadata": {},
     "output_type": "execute_result"
    },
    {
     "data": {
      "image/png": "[encoded data removed]",
      "text/plain": [
       "<Figure size 432x288 with 2 Axes>"
      ]
     },
     "metadata": {
      "needs_background": "light"
     },
     "output_type": "display_data"
    }
   ],
   "source": [
    "# Test\n",
    "ok = OrdinaryKriging(to_insert['long_grid'], to_insert['lat_grid'], to_insert['PM2.5'], variogram_model='gaussian', verbose=True, enable_plotting=False)\n",
    "gridx = np.arange(0.0, 20, 1)\n",
    "gridy = np.arange(0.0, 20, 1)\n",
    "z, ss = ok.execute('grid', gridx, gridy)\n",
    "plt.imshow(z)\n",
    "plt.colorbar()\n",
    "plt.scatter(x=to_insert['long_grid'], y=to_insert['lat_grid'], c='r')\n",
    "\n",
    "z[2][0]"
   ]
  },
  {
   "cell_type": "code",
   "execution_count": 11,
   "metadata": {},
   "outputs": [],
   "source": [
    "def insert_into_par(par_grid, timeint, z):\n",
    "    for i in range(20):\n",
    "        for j in range(20):\n",
    "            par_grid[i][j].partial_fit([[timeint]], [z[i][j]])"
   ]
  },
  {
   "cell_type": "code",
   "execution_count": 12,
   "metadata": {},
   "outputs": [],
   "source": [
    "par_grid = [[] for i in range(20)]\n",
    "for line in par_grid:\n",
    "    for j in range(20):\n",
    "        line.append(PassiveAggressiveRegressor(max_iter=100, random_state=0,tol=1e-3))\n"
   ]
  },
  {
   "cell_type": "markdown",
   "metadata": {},
   "source": [
    "**Compute predictions for stationary sensors**"
   ]
  },
  {
   "cell_type": "code",
   "execution_count": 81,
   "metadata": {},
   "outputs": [
    {
     "name": "stdout",
     "output_type": "stream",
     "text": [
      "60\n"
     ]
    }
   ],
   "source": [
    "start_time = '2018-07-03 00:00:00'\n",
    "end_time = '2018-07-03 00:15:00'\n",
    "timeint = 0\n",
    "\n",
    "while end_time <= '2018-07-03 15:00:00':\n",
    "    to_insert = all_static_data[(all_static_data['Timestamp'] > start_time) & (all_static_data['Timestamp'] < end_time)]\n",
    "    to_insert = to_insert.append( mobile_sensor_data[(mobile_sensor_data['Timestamp'] > start_time) & (mobile_sensor_data['Timestamp'] < end_time)])\n",
    "    to_insert = to_insert.groupby(['lat_grid','long_grid']).mean()\n",
    "    to_insert.reset_index(level=to_insert.index.names, inplace=True)\n",
    "    z = [[0 for j in range(20)] for i in range(20)]\n",
    "    \n",
    "    ok = OrdinaryKriging(to_insert['long_grid'], to_insert['lat_grid'], to_insert['PM2.5'], variogram_model='gaussian', verbose=False, enable_plotting=False)\n",
    "    gridx = np.arange(0.0, 20, 1)\n",
    "    gridy = np.arange(0.0, 20, 1)\n",
    "    z, ss = ok.execute('grid', gridx, gridy)\n",
    "    insert_into_par(par_grid, timeint, z)\n",
    "    \n",
    "    start_time = (datetime.strptime(start_time, '%Y-%m-%d %H:%M:%S') + timedelta(minutes=15)).strftime(\"%Y-%m-%d %H:%M:%S\")\n",
    "    end_time = (datetime.strptime(start_time, '%Y-%m-%d %H:%M:%S') + timedelta(minutes=15)).strftime(\"%Y-%m-%d %H:%M:%S\")\n",
    "    timeint += 1\n",
    "print (timeint)"
   ]
  },
  {
   "cell_type": "code",
   "execution_count": 82,
   "metadata": {},
   "outputs": [
    {
     "name": "stdout",
     "output_type": "stream",
     "text": [
      "How many squares were evaluated:\n",
      "12\n",
      "Mean Squared Error:\n",
      "9.556830196720185\n",
      "Mean Absolute Error:\n",
      "2.454951627175443\n"
     ]
    }
   ],
   "source": [
    "to_test = mobile_sensor_data[(mobile_sensor_data['Timestamp'] > start_time) & (mobile_sensor_data['Timestamp'] < end_time)]\n",
    "to_test = to_test.groupby(['lat_grid','long_grid']).mean()\n",
    "to_test.reset_index(level=to_test.index.names, inplace=True)\n",
    "for index, row in to_test.iterrows():\n",
    "    to_test.loc[index, 'pred_PM2.5'] = par_grid[int(row['lat_grid'])][int(row['long_grid'])].predict([[56]])[0]\n",
    "to_test\n",
    "\n",
    "print (\"How many squares were evaluated:\")\n",
    "print(to_test.shape[0])\n",
    "\n",
    "print(\"Mean Squared Error:\")\n",
    "print(mean_squared_error(to_test['PM2.5'], to_test['pred_PM2.5']))\n",
    "print(\"Mean Absolute Error:\")\n",
    "print(mean_absolute_error(to_test['PM2.5'], to_test['pred_PM2.5']))\n",
    "\n"
   ]
  },
  {
   "cell_type": "code",
   "execution_count": null,
   "metadata": {},
   "outputs": [],
   "source": []
  },
  {
   "cell_type": "code",
   "execution_count": 14,
   "metadata": {},
   "outputs": [
    {
     "name": "stdout",
     "output_type": "stream",
     "text": [
      "1.6788888596267622\n"
     ]
    }
   ],
   "source": [
    "prediction_grid = [[0 for j in range(20)] for i in range(20)]\n",
    "for i in range(20):\n",
    "    for j in range(20):\n",
    "        prediction_grid[i][j] = par_grid[i][j].predict([[56]])[0]\n",
    "print(prediction_grid[3][6])\n"
   ]
  },
  {
   "cell_type": "code",
   "execution_count": 14,
   "metadata": {},
   "outputs": [
    {
     "data": {
      "text/plain": [
       "<matplotlib.collections.PathCollection at 0x11b828470>"
      ]
     },
     "execution_count": 14,
     "metadata": {},
     "output_type": "execute_result"
    },
    {
     "data": {
      "image/png": "[encoded data removed]",
      "text/plain": [
       "<Figure size 432x288 with 2 Axes>"
      ]
     },
     "metadata": {
      "needs_background": "light"
     },
     "output_type": "display_data"
    }
   ],
   "source": [
    "plt.imshow(prediction_grid)\n",
    "plt.colorbar()\n",
    "plt.scatter(x=[item[1] for item in gridStaticCoords.values()], y=[item[0] for item in gridStaticCoords.values()], c='r')"
   ]
  },
  {
   "cell_type": "markdown",
   "metadata": {},
   "source": [
    "**Drafts**"
   ]
  },
  {
   "cell_type": "code",
   "execution_count": 195,
   "metadata": {},
   "outputs": [],
   "source": [
    "prediction_grid = [[0 for j in range(20)] for i in range(20)]\n",
    "for i in range(20):\n",
    "    for j in range(20):\n",
    "        prediction_grid[i][j] = par_grid[i][j].predict([[193]])[0]"
   ]
  },
  {
   "cell_type": "code",
   "execution_count": 196,
   "metadata": {},
   "outputs": [
    {
     "data": {
      "text/plain": [
       "<matplotlib.collections.PathCollection at 0x121286ac8>"
      ]
     },
     "execution_count": 196,
     "metadata": {},
     "output_type": "execute_result"
    },
    {
     "data": {
      "image/png": "[encoded data removed]",
      "text/plain": [
       "<Figure size 432x288 with 2 Axes>"
      ]
     },
     "metadata": {
      "needs_background": "light"
     },
     "output_type": "display_data"
    }
   ],
   "source": [
    "plt.imshow(prediction_grid)\n",
    "plt.colorbar()\n",
    "plt.scatter(x=[item[1] for item in gridStaticCoords.values()], y=[item[0] for item in gridStaticCoords.values()], c='r')\n"
   ]
  },
  {
   "cell_type": "code",
   "execution_count": 197,
   "metadata": {},
   "outputs": [
    {
     "data": {
      "text/plain": [
       "<matplotlib.colorbar.Colorbar at 0x121123c88>"
      ]
     },
     "execution_count": 197,
     "metadata": {},
     "output_type": "execute_result"
    },
    {
     "data": {
      "image/png": "[encoded data removed]",
      "text/plain": [
       "<Figure size 432x288 with 2 Axes>"
      ]
     },
     "metadata": {
      "needs_background": "light"
     },
     "output_type": "display_data"
    }
   ],
   "source": [
    "plt.imshow(z)\n",
    "plt.colorbar()"
   ]
  },
  {
   "cell_type": "code",
   "execution_count": null,
   "metadata": {},
   "outputs": [],
   "source": []
  },
  {
   "cell_type": "markdown",
   "metadata": {},
   "source": []
  }
 ],
 "metadata": {
  "kernelspec": {
   "display_name": "Python 3",
   "language": "python",
   "name": "python3"
  },
  "language_info": {
   "codemirror_mode": {
    "name": "ipython",
    "version": 3
   },
   "file_extension": ".py",
   "mimetype": "text/x-python",
   "name": "python",
   "nbconvert_exporter": "python",
   "pygments_lexer": "ipython3",
   "version": "3.6.5"
  }
 },
 "nbformat": 4,
 "nbformat_minor": 2
}
