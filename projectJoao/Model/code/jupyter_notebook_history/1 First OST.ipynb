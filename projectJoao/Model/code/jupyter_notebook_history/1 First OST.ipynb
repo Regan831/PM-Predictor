{
 "cells": [
  {
   "cell_type": "markdown",
   "metadata": {},
   "source": [
    "**Import statements**\n"
   ]
  },
  {
   "cell_type": "code",
   "execution_count": 2,
   "metadata": {},
   "outputs": [],
   "source": [
    "import pandas as pd\n",
    "from datetime import datetime\n",
    "from datetime import timedelta\n",
    "import numpy as np\n",
    "import pykrige.kriging_tools as kt\n",
    "from pykrige.ok import OrdinaryKriging\n",
    "import matplotlib.pyplot as plt\n",
    "import matplotlib.animation as animation\n",
    "from sklearn.linear_model import PassiveAggressiveRegressor\n",
    "\n",
    "%matplotlib inline"
   ]
  },
  {
   "cell_type": "markdown",
   "metadata": {},
   "source": [
    "**Constants**"
   ]
  },
  {
   "cell_type": "code",
   "execution_count": 3,
   "metadata": {},
   "outputs": [],
   "source": [
    "dates = [\"20180703-20180704\",\n",
    "         \"20180704-20180705\", \n",
    "         \"20180705-20180706\", \n",
    "         \"20180706-20180707\"]\n",
    "\n",
    "sensors = [\"02E5F77764B873DA\", \n",
    "           \"200A7CED9D597407\", \n",
    "           \"AA0E63CF5118F98F\", \n",
    "           \"B61241EF668DBC2C\", \n",
    "           \"E5FD8C55EAA37555\", \n",
    "           \"E786F1568F65C296\"]\n",
    "\n",
    "finalStaticCoords = { \"E5FD8C55EAA37555\" : [55.9454333, -3.1913917],  # Lauriston\n",
    "                      \"02E5F77764B873DA\" : [55.9397722,-3.1915444],   # Melville\n",
    "                      \"200A7CED9D597407\" : [55.9430028,-3.1921472],   # Library \n",
    "                      \"AA0E63CF5118F98F\" : [55.940953, -3.186092],    # Tennis court\n",
    "                      \"B61241EF668DBC2C\" : [55.945302, -3.188279],    # Bristo Square\n",
    "                      \"E786F1568F65C296\" : [55.943014, -3.185994]}    # Buccleuch Place\n",
    "\n",
    "gridStaticCoords = { \"E5FD8C55EAA37555\" : [4, 6],   # Lauriston\n",
    "                     \"02E5F77764B873DA\" : [17, 6],  # Melville\n",
    "                     \"200A7CED9D597407\" : [9, 5],   # Library \n",
    "                     \"AA0E63CF5118F98F\" : [14, 13], # Tennis court\n",
    "                     \"B61241EF668DBC2C\" : [4, 10],  # Bristo Square\n",
    "                     \"E786F1568F65C296\" : [9, 13]}  # Buccleuch Place\n",
    "\n",
    "columns_needed = ['Timestamp','PM1', 'PM2.5', 'PM10', 'temperature', 'humidity', 'lat', 'long']\n"
   ]
  },
  {
   "cell_type": "markdown",
   "metadata": {},
   "source": [
    "**Load Data**"
   ]
  },
  {
   "cell_type": "code",
   "execution_count": 4,
   "metadata": {},
   "outputs": [],
   "source": [
    "static_sensor_data=[]\n",
    "for sensor in sensors:\n",
    "    list_ = []\n",
    "    for date in dates:\n",
    "        filename = \"data/raw/static/{}/{}.csv\".format(date, sensor)\n",
    "        df = pd.read_csv(filename,index_col=None)\n",
    "        df['lat'] = finalStaticCoords[sensor][0]\n",
    "        df['long'] = finalStaticCoords[sensor][1]\n",
    "        list_.append(df)\n",
    "    static_sensor_data.append(pd.concat(list_, axis = 0, ignore_index = False))   "
   ]
  },
  {
   "cell_type": "code",
   "execution_count": 5,
   "metadata": {},
   "outputs": [],
   "source": [
    "all_static_data = pd.concat(static_sensor_data, axis = 0, ignore_index = False)"
   ]
  },
  {
   "cell_type": "code",
   "execution_count": 6,
   "metadata": {},
   "outputs": [],
   "source": [
    "# Select columns\n",
    "all_static_data = all_static_data[columns_needed]"
   ]
  },
  {
   "cell_type": "code",
   "execution_count": 7,
   "metadata": {},
   "outputs": [],
   "source": [
    "#Transform to grid coordinates\n",
    "\n",
    "corners = np.array([[55.94686, -3.19665], #NW\n",
    "                    [55.94686, -3.18123], #NE\n",
    "                    [55.93814, -3.18123], #SE\n",
    "                    [55.93814, -3.19665]]) #SW\n",
    "    \n",
    "gridSize = 20\n",
    "\n",
    "def grid_lat_coord(lat):\n",
    "    if lat < 55.93814 or lat > 55.94686:\n",
    "        return -1\n",
    "    i = 0\n",
    "    for lat_check in np.linspace(55.93814,55.94686,gridSize+1)[1:]:\n",
    "        if lat < lat_check:\n",
    "            return 20-i\n",
    "        i+=1\n",
    "        \n",
    "def grid_long_coord(long):\n",
    "    if long < -3.19665 or long > -3.18123:\n",
    "        return -1\n",
    "    i = 0\n",
    "    for long_check in np.linspace(-3.19665,-3.18123,gridSize+1)[1:]:\n",
    "        if long < long_check:\n",
    "            return i\n",
    "        i+=1\n",
    "all_static_data['lat_grid'] = all_static_data['lat'].apply(grid_lat_coord)\n",
    "all_static_data['long_grid'] = all_static_data['long'].apply(grid_long_coord)"
   ]
  },
  {
   "cell_type": "code",
   "execution_count": 8,
   "metadata": {},
   "outputs": [
    {
     "name": "stdout",
     "output_type": "stream",
     "text": [
      "Before:\n",
      "(6907, 10)\n",
      "After:\n",
      "(6907, 10)\n"
     ]
    }
   ],
   "source": [
    "# Take out whats outside the grid and outside the time window\n",
    "print(\"Before:\")\n",
    "print(all_static_data.shape)\n",
    "all_static_data = all_static_data[all_static_data['lat_grid'] >= 0]\n",
    "all_static_data = all_static_data[all_static_data['long_grid'] >= 0]\n",
    "print(\"After:\")\n",
    "print(all_static_data.shape)\n"
   ]
  },
  {
   "cell_type": "markdown",
   "metadata": {},
   "source": [
    "**Separate into 15 min chuncks**"
   ]
  },
  {
   "cell_type": "code",
   "execution_count": 9,
   "metadata": {},
   "outputs": [
    {
     "data": {
      "text/html": [
       "<div>\n",
       "<style scoped>\n",
       "    .dataframe tbody tr th:only-of-type {\n",
       "        vertical-align: middle;\n",
       "    }\n",
       "\n",
       "    .dataframe tbody tr th {\n",
       "        vertical-align: top;\n",
       "    }\n",
       "\n",
       "    .dataframe thead th {\n",
       "        text-align: right;\n",
       "    }\n",
       "</style>\n",
       "<table border=\"1\" class=\"dataframe\">\n",
       "  <thead>\n",
       "    <tr style=\"text-align: right;\">\n",
       "      <th></th>\n",
       "      <th>lat_grid</th>\n",
       "      <th>long_grid</th>\n",
       "      <th>PM1</th>\n",
       "      <th>PM2.5</th>\n",
       "      <th>PM10</th>\n",
       "      <th>temperature</th>\n",
       "      <th>humidity</th>\n",
       "      <th>lat</th>\n",
       "      <th>long</th>\n",
       "    </tr>\n",
       "  </thead>\n",
       "  <tbody>\n",
       "    <tr>\n",
       "      <th>0</th>\n",
       "      <td>4</td>\n",
       "      <td>6</td>\n",
       "      <td>1.225024</td>\n",
       "      <td>1.759861</td>\n",
       "      <td>2.438390</td>\n",
       "      <td>13.766667</td>\n",
       "      <td>81.300000</td>\n",
       "      <td>55.945433</td>\n",
       "      <td>-3.191392</td>\n",
       "    </tr>\n",
       "    <tr>\n",
       "      <th>1</th>\n",
       "      <td>4</td>\n",
       "      <td>10</td>\n",
       "      <td>2.741857</td>\n",
       "      <td>3.895493</td>\n",
       "      <td>6.390444</td>\n",
       "      <td>13.266667</td>\n",
       "      <td>83.066667</td>\n",
       "      <td>55.945302</td>\n",
       "      <td>-3.188279</td>\n",
       "    </tr>\n",
       "    <tr>\n",
       "      <th>2</th>\n",
       "      <td>9</td>\n",
       "      <td>5</td>\n",
       "      <td>2.162311</td>\n",
       "      <td>3.164690</td>\n",
       "      <td>4.933248</td>\n",
       "      <td>12.933333</td>\n",
       "      <td>87.466667</td>\n",
       "      <td>55.943003</td>\n",
       "      <td>-3.192147</td>\n",
       "    </tr>\n",
       "    <tr>\n",
       "      <th>3</th>\n",
       "      <td>9</td>\n",
       "      <td>13</td>\n",
       "      <td>5.762522</td>\n",
       "      <td>9.035024</td>\n",
       "      <td>15.281463</td>\n",
       "      <td>13.833333</td>\n",
       "      <td>80.733333</td>\n",
       "      <td>55.943014</td>\n",
       "      <td>-3.185994</td>\n",
       "    </tr>\n",
       "    <tr>\n",
       "      <th>4</th>\n",
       "      <td>14</td>\n",
       "      <td>13</td>\n",
       "      <td>3.727853</td>\n",
       "      <td>4.993460</td>\n",
       "      <td>8.046681</td>\n",
       "      <td>12.166667</td>\n",
       "      <td>89.200000</td>\n",
       "      <td>55.940953</td>\n",
       "      <td>-3.186092</td>\n",
       "    </tr>\n",
       "    <tr>\n",
       "      <th>5</th>\n",
       "      <td>17</td>\n",
       "      <td>6</td>\n",
       "      <td>1.537056</td>\n",
       "      <td>4.360904</td>\n",
       "      <td>13.220711</td>\n",
       "      <td>12.900000</td>\n",
       "      <td>86.233333</td>\n",
       "      <td>55.939772</td>\n",
       "      <td>-3.191544</td>\n",
       "    </tr>\n",
       "  </tbody>\n",
       "</table>\n",
       "</div>"
      ],
      "text/plain": [
       "   lat_grid  long_grid       PM1     PM2.5       PM10  temperature   humidity  \\\n",
       "0         4          6  1.225024  1.759861   2.438390    13.766667  81.300000   \n",
       "1         4         10  2.741857  3.895493   6.390444    13.266667  83.066667   \n",
       "2         9          5  2.162311  3.164690   4.933248    12.933333  87.466667   \n",
       "3         9         13  5.762522  9.035024  15.281463    13.833333  80.733333   \n",
       "4        14         13  3.727853  4.993460   8.046681    12.166667  89.200000   \n",
       "5        17          6  1.537056  4.360904  13.220711    12.900000  86.233333   \n",
       "\n",
       "         lat      long  \n",
       "0  55.945433 -3.191392  \n",
       "1  55.945302 -3.188279  \n",
       "2  55.943003 -3.192147  \n",
       "3  55.943014 -3.185994  \n",
       "4  55.940953 -3.186092  \n",
       "5  55.939772 -3.191544  "
      ]
     },
     "execution_count": 9,
     "metadata": {},
     "output_type": "execute_result"
    }
   ],
   "source": [
    "start_time = '2018-07-03 00:15:00'\n",
    "end_time = '2018-07-03 00:30:00'\n",
    "\n",
    "# Example of groupby\n",
    "to_insert = all_static_data[(all_static_data['Timestamp'] > start_time) & (all_static_data['Timestamp'] < end_time)].groupby(['lat_grid','long_grid']).mean()\n",
    "to_insert.reset_index(level=to_insert.index.names, inplace=True)\n",
    "to_insert"
   ]
  },
  {
   "cell_type": "code",
   "execution_count": 12,
   "metadata": {},
   "outputs": [
    {
     "name": "stdout",
     "output_type": "stream",
     "text": [
      "Adjusting data for anisotropy...\n",
      "Initializing variogram model...\n",
      "Coordinates type: 'euclidean' \n",
      "\n",
      "Using 'gaussian' Variogram Model\n",
      "Partial Sill: 5.269852431252145\n",
      "Full Sill: 5.269852773789814\n",
      "Range: 6.305294162965316\n",
      "Nugget: 3.4253766840427623e-07 \n",
      "\n",
      "Calculating statistics on variogram model fit...\n",
      "Executing Ordinary Kriging...\n",
      "\n"
     ]
    },
    {
     "data": {
      "text/plain": [
       "4.381240100025223"
      ]
     },
     "execution_count": 12,
     "metadata": {},
     "output_type": "execute_result"
    },
    {
     "data": {
      "image/png": "[encoded data removed]",
      "text/plain": [
       "<Figure size 432x288 with 2 Axes>"
      ]
     },
     "metadata": {
      "needs_background": "light"
     },
     "output_type": "display_data"
    }
   ],
   "source": [
    "ok = OrdinaryKriging(to_insert['lat_grid'], to_insert['long_grid'], to_insert['PM2.5'], variogram_model='gaussian', verbose=True, enable_plotting=False)\n",
    "gridx = np.arange(0.0, 20, 1)\n",
    "gridy = np.arange(0.0, 20, 1)\n",
    "z, ss = ok.execute('grid', gridx, gridy)\n",
    "plt.imshow(z)\n",
    "plt.colorbar()\n",
    "z[2][0]"
   ]
  },
  {
   "cell_type": "code",
   "execution_count": 13,
   "metadata": {},
   "outputs": [],
   "source": [
    "def insert_into_par(par_grid, timeint, z):\n",
    "    for i in range(20):\n",
    "        for j in range(20):\n",
    "            par_grid[i][j].partial_fit([[timeint]], [z[i][j]])"
   ]
  },
  {
   "cell_type": "code",
   "execution_count": 14,
   "metadata": {},
   "outputs": [],
   "source": [
    "par_grid = [[] for i in range(20)]\n",
    "for line in par_grid:\n",
    "    for j in range(20):\n",
    "        line.append(PassiveAggressiveRegressor(max_iter=100, random_state=0,tol=1e-3))\n"
   ]
  },
  {
   "cell_type": "markdown",
   "metadata": {},
   "source": [
    "**Every 15 mins**"
   ]
  },
  {
   "cell_type": "code",
   "execution_count": 19,
   "metadata": {},
   "outputs": [],
   "source": [
    "start_time = '2018-07-03 00:15:00'\n",
    "end_time = '2018-07-03 00:30:00'\n",
    "timeint = 0\n",
    "while end_time < '2018-07-06 23:59:00':\n",
    "    to_insert = all_static_data[(all_static_data['Timestamp'] > start_time) & (all_static_data['Timestamp'] < end_time)].groupby(['lat_grid','long_grid']).mean()\n",
    "    to_insert.reset_index(level=to_insert.index.names, inplace=True)\n",
    "    ok = OrdinaryKriging(to_insert['long_grid'], to_insert['lat_grid'], to_insert['PM2.5'], variogram_model='gaussian', verbose=False, enable_plotting=False)\n",
    "    gridx = np.arange(0.0, 20, 1)\n",
    "    gridy = np.arange(0.0, 20, 1)\n",
    "    z, ss = ok.execute('grid', gridx, gridy)\n",
    "    insert_into_par(par_grid, timeint, z)\n",
    "    \n",
    "    start_time = (datetime.strptime(start_time, '%Y-%m-%d %H:%M:%S') + timedelta(minutes=15)).strftime(\"%Y-%m-%d %H:%M:%S\")\n",
    "    end_time = (datetime.strptime(start_time, '%Y-%m-%d %H:%M:%S') + timedelta(minutes=15)).strftime(\"%Y-%m-%d %H:%M:%S\")\n",
    "    timeint += 1"
   ]
  },
  {
   "cell_type": "code",
   "execution_count": 20,
   "metadata": {},
   "outputs": [
    {
     "data": {
      "text/plain": [
       "382"
      ]
     },
     "execution_count": 20,
     "metadata": {},
     "output_type": "execute_result"
    }
   ],
   "source": [
    "timeint"
   ]
  },
  {
   "cell_type": "code",
   "execution_count": 21,
   "metadata": {},
   "outputs": [
    {
     "name": "stdout",
     "output_type": "stream",
     "text": [
      "0.6615669524989899\n"
     ]
    }
   ],
   "source": [
    "prediction_grid = [[0 for j in range(20)] for i in range(20)]\n",
    "for i in range(20):\n",
    "    for j in range(20):\n",
    "        prediction_grid[i][j] = par_grid[i][j].predict([[383]])[0]\n",
    "print(prediction_grid[3][6])"
   ]
  },
  {
   "cell_type": "code",
   "execution_count": null,
   "metadata": {},
   "outputs": [],
   "source": []
  },
  {
   "cell_type": "code",
   "execution_count": 22,
   "metadata": {},
   "outputs": [
    {
     "data": {
      "text/plain": [
       "<matplotlib.collections.PathCollection at 0x124c0c7b8>"
      ]
     },
     "execution_count": 22,
     "metadata": {},
     "output_type": "execute_result"
    },
    {
     "data": {
      "image/png": "[encoded data removed]",
      "text/plain": [
       "<Figure size 432x288 with 2 Axes>"
      ]
     },
     "metadata": {
      "needs_background": "light"
     },
     "output_type": "display_data"
    }
   ],
   "source": [
    "plt.imshow(prediction_grid)\n",
    "plt.colorbar()\n",
    "plt.scatter(x=[item[1] for item in gridStaticCoords.values()], y=[item[0] for item in gridStaticCoords.values()], c='r')\n"
   ]
  },
  {
   "cell_type": "code",
   "execution_count": 23,
   "metadata": {},
   "outputs": [
    {
     "data": {
      "text/plain": [
       "<matplotlib.colorbar.Colorbar at 0x124cf8e80>"
      ]
     },
     "execution_count": 23,
     "metadata": {},
     "output_type": "execute_result"
    },
    {
     "data": {
      "image/png": "[encoded data removed]",
      "text/plain": [
       "<Figure size 432x288 with 2 Axes>"
      ]
     },
     "metadata": {
      "needs_background": "light"
     },
     "output_type": "display_data"
    }
   ],
   "source": [
    "plt.imshow(z)\n",
    "plt.colorbar()"
   ]
  },
  {
   "cell_type": "code",
   "execution_count": null,
   "metadata": {},
   "outputs": [],
   "source": []
  },
  {
   "cell_type": "markdown",
   "metadata": {},
   "source": []
  }
 ],
 "metadata": {
  "kernelspec": {
   "display_name": "Python 3",
   "language": "python",
   "name": "python3"
  },
  "language_info": {
   "codemirror_mode": {
    "name": "ipython",
    "version": 3
   },
   "file_extension": ".py",
   "mimetype": "text/x-python",
   "name": "python",
   "nbconvert_exporter": "python",
   "pygments_lexer": "ipython3",
   "version": "3.6.5"
  }
 },
 "nbformat": 4,
 "nbformat_minor": 2
}
