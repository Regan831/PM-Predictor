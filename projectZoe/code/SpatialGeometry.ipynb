{
 "cells": [
  {
   "cell_type": "markdown",
   "metadata": {},
   "source": [
    "## This notebook reads OSM data and creates a grid of cells tagged by their primary land use or road type label."
   ]
  },
  {
   "cell_type": "code",
   "execution_count": 15,
   "metadata": {},
   "outputs": [],
   "source": [
    "import numpy as np\n",
    "import csv\n",
    "import pandas as pd\n",
    "\n",
    "from shapely.geometry import Point, MultiPolygon, Polygon, mapping\n",
    "import shapely\n",
    "import folium\n",
    "import json\n",
    "\n",
    "from constants import Constants\n",
    "from osm_reader import OSMReader\n",
    "from grid_definition import GridDefinition\n",
    "\n",
    "grid_definition = GridDefinition()\n",
    "grid_definition.init()\n",
    "constants = Constants()\n",
    "GRID_SIZE = constants.getGridSize()\n",
    "\n",
    "osm_reader = OSMReader()\n",
    "osm_reader.init()\n",
    "constants = Constants()"
   ]
  },
  {
   "cell_type": "markdown",
   "metadata": {},
   "source": [
    "## Retrieve road and land use classes and map them as lines and polygons, respectively"
   ]
  },
  {
   "cell_type": "code",
   "execution_count": 16,
   "metadata": {},
   "outputs": [
    {
     "name": "stdout",
     "output_type": "stream",
     "text": [
      "0 [{'type': 'Feature', 'properties': {'osm_id': '2956332', 'name': 'Nicolson Street', 'highway': 'primary', 'z_order': 7, 'other_tags': '\"lit\"=>\"yes\",\"maxspeed\"=>\"20 mph\",\"ref\"=>\"A7\",\"surface\"=>\"asphalt\"'}, 'geometry': {'type': 'LineString', 'coordinates': [[-3.1835257, 55.9438013], [-3.1835704, 55.9439324], [-3.183719, 55.9443146], [-3.183749, 55.9443964], [-3.183762, 55.9444287], [-3.1838277, 55.9446149], [-3.1838542, 55.9447084], [-3.1838953, 55.9448028], [-3.1839742, 55.9448891], [-3.1840428, 55.9449648], [-3.1842037, 55.9451214]]}}, {'type': 'Feature', 'properties': {'osm_id': '2970983', 'name': 'Melville Drive', 'highway': 'primary', 'z_order': 7, 'other_tags': '\"lanes\"=>\"2\",\"lit\"=>\"yes\",\"maxspeed\"=>\"20 mph\",\"ref\"=>\"A700\",\"surface\"=>\"asphalt\"'}, 'geometry': {'type': 'LineString', 'coordinates': [[-3.1827389, 55.9404775], [-3.1828929, 55.9404559], [-3.1830342, 55.9404304], [-3.1833632, 55.9403495], [-3.1836608, 55.9402703], [-3.1839537, 55.9401869], [-3.1843756, 55.9400697], [-3.1847675, 55.939959], [-3.1851224, 55.9398821], [-3.1856307, 55.9398027], [-3.1863473, 55.9397307], [-3.187122, 55.9396721], [-3.1877678, 55.9396398], [-3.1883018, 55.9396249], [-3.1888453, 55.9396311], [-3.1893329, 55.9396542], [-3.1898055, 55.9396925]]}}, {'type': 'Feature', 'properties': {'osm_id': '3818214', 'name': 'West Preston Street', 'highway': 'primary', 'z_order': 7, 'other_tags': '\"maxspeed\"=>\"20 mph\",\"ref\"=>\"A700\",\"surface\"=>\"asphalt\"'}, 'geometry': {'type': 'LineString', 'coordinates': [[-3.1818975, 55.9389717], [-3.18056, 55.9390554], [-3.1795088, 55.9391212]]}}, {'type': 'Feature', 'properties': {'osm_id': '3819004', 'name': 'Summerhall', 'highway': 'primary', 'z_order': 7, 'other_tags': '\"comment\"=>\"reinstate prev not:name tag\",\"cycleway\"=>\"lane\",\"maxspeed\"=>\"20 mph\",\"not:name\"=>\"Summerhall Crescent\",\"ref\"=>\"A700\",\"surface\"=>\"asphalt\"'}, 'geometry': {'type': 'LineString', 'coordinates': [[-3.1827389, 55.9404775], [-3.1827319, 55.9403004], [-3.1827047, 55.9400661], [-3.1826951, 55.9400271], [-3.1826857, 55.9399892]]}}, {'type': 'Feature', 'properties': {'osm_id': '3819007', 'name': 'Summerhall Place', 'highway': 'primary', 'z_order': 7, 'other_tags': '\"cycleway\"=>\"lane\",\"lanes\"=>\"3\",\"lanes:forward\"=>\"2\",\"lit\"=>\"yes\",\"maxspeed\"=>\"20 mph\",\"name:right\"=>\"Lord Russell Place\",\"ref\"=>\"A700\",\"sidewalk\"=>\"both\",\"surface\"=>\"asphalt\"'}, 'geometry': {'type': 'LineString', 'coordinates': [[-3.1822516, 55.9394221], [-3.1822439, 55.9394124], [-3.1819681, 55.9390644], [-3.1818975, 55.9389717]]}}, {'type': 'Feature', 'properties': {'osm_id': '4349299', 'name': 'Clerk Street', 'highway': 'primary', 'z_order': 7, 'other_tags': '\"lit\"=>\"yes\",\"maxspeed\"=>\"20 mph\",\"ref\"=>\"A7\",\"sidewalk\"=>\"both\",\"surface\"=>\"asphalt\"'}, 'geometry': {'type': 'LineString', 'coordinates': [[-3.1816316, 55.9416411], [-3.1820131, 55.9420053], [-3.1822161, 55.9422004]]}}, {'type': 'Feature', 'properties': {'osm_id': '4349300', 'name': 'St Patrick Square', 'highway': 'primary', 'z_order': 7, 'other_tags': '\"lit\"=>\"yes\",\"maxspeed\"=>\"20 mph\",\"ref\"=>\"A7\",\"surface\"=>\"asphalt\"'}, 'geometry': {'type': 'LineString', 'coordinates': [[-3.183053, 55.9430198], [-3.1833585, 55.9434059], [-3.1833734, 55.9434269], [-3.1833861, 55.9434471], [-3.1833981, 55.943469], [-3.1834079, 55.9434899]]}}, {'type': 'Feature', 'properties': {'osm_id': '5213574', 'name': 'St Patrick Street', 'highway': 'primary', 'z_order': 7, 'other_tags': '\"lit\"=>\"yes\",\"maxspeed\"=>\"20 mph\",\"ref\"=>\"A7\",\"surface\"=>\"asphalt\"'}, 'geometry': {'type': 'LineString', 'coordinates': [[-3.1834079, 55.9434899], [-3.1835257, 55.9438013]]}}, {'type': 'Feature', 'properties': {'osm_id': '22939459', 'name': 'Nicolson Street', 'highway': 'primary', 'z_order': 7, 'other_tags': '\"lit\"=>\"yes\",\"maxspeed\"=>\"20 mph\",\"ref\"=>\"A7\",\"sidewalk\"=>\"both\",\"surface\"=>\"asphalt\"'}, 'geometry': {'type': 'LineString', 'coordinates': [[-3.186056, 55.9471886], [-3.1859804, 55.9470451], [-3.1858816, 55.9468918], [-3.1858263, 55.9468087], [-3.1857629, 55.9467254], [-3.1856454, 55.946586], [-3.1854927, 55.9464305], [-3.1853337, 55.9462687], [-3.1852827, 55.9462196]]}}, {'type': 'Feature', 'properties': {'osm_id': '37846819', 'name': 'Melville Drive', 'highway': 'primary', 'z_order': 7, 'other_tags': '\"cycleway\"=>\"lane\",\"lanes\"=>\"2\",\"lit\"=>\"yes\",\"maxspeed\"=>\"20 mph\",\"ref\"=>\"A700\"'}, 'geometry': {'type': 'LineString', 'coordinates': [[-3.1898055, 55.9396925], [-3.1903497, 55.9397423], [-3.1909924, 55.9398205], [-3.1914693, 55.9398804]]}}, {'type': 'Feature', 'properties': {'osm_id': '40884885', 'name': 'Nicolson Street', 'highway': 'primary', 'z_order': 7, 'other_tags': '\"lit\"=>\"yes\",\"maxspeed\"=>\"20 mph\",\"ref\"=>\"A7\",\"sidewalk\"=>\"both\",\"surface\"=>\"asphalt\"'}, 'geometry': {'type': 'LineString', 'coordinates': [[-3.1850327, 55.9459473], [-3.184637, 55.9455373], [-3.1843431, 55.9452476], [-3.1842037, 55.9451214]]}}, {'type': 'Feature', 'properties': {'osm_id': '42148639', 'name': 'Nicolson Street', 'highway': 'primary', 'z_order': 7, 'other_tags': '\"lit\"=>\"yes\",\"maxspeed\"=>\"20 mph\",\"ref\"=>\"A7\",\"sidewalk\"=>\"both\",\"surface\"=>\"asphalt\"'}, 'geometry': {'type': 'LineString', 'coordinates': [[-3.1852827, 55.9462196], [-3.1851841, 55.9461093], [-3.1851048, 55.9460216]]}}, {'type': 'Feature', 'properties': {'osm_id': '75089989', 'name': 'Summerhall', 'highway': 'primary', 'z_order': 7, 'other_tags': '\"comment\"=>\"reinstate prev not:name tag\",\"cycleway\"=>\"lane\",\"maxspeed\"=>\"20 mph\",\"not:name\"=>\"Summerhall Place\",\"ref\"=>\"A700\",\"surface\"=>\"asphalt\"'}, 'geometry': {'type': 'LineString', 'coordinates': [[-3.1826495, 55.939897], [-3.1825925, 55.9398068], [-3.1825481, 55.939754], [-3.1822516, 55.9394221]]}}, {'type': 'Feature', 'properties': {'osm_id': '132858610', 'name': 'Melville Drive', 'highway': 'primary', 'z_order': 7, 'other_tags': '\"cycleway\"=>\"lane\",\"lanes\"=>\"2\",\"lit\"=>\"yes\",\"maxspeed\"=>\"20 mph\",\"ref\"=>\"A700\"'}, 'geometry': {'type': 'LineString', 'coordinates': [[-3.1953018, 55.94043], [-3.1957056, 55.9404845], [-3.1964615, 55.9405942], [-3.197171, 55.9407003], [-3.1977074, 55.9407863], [-3.1981244, 55.9408621], [-3.1983835, 55.9409207], [-3.1985839, 55.9409752], [-3.1989611, 55.9411022], [-3.1989833, 55.9411116], [-3.1993016, 55.9412462], [-3.1993944, 55.9412909], [-3.1996535, 55.9414243], [-3.1997656, 55.9414885], [-3.1998469, 55.941542], [-3.2000225, 55.9416599], [-3.2003397, 55.9419055]]}}, {'type': 'Feature', 'properties': {'osm_id': '220045363', 'name': 'Clerk Street', 'highway': 'primary', 'z_order': 7, 'other_tags': '\"lit\"=>\"yes\",\"maxspeed\"=>\"20 mph\",\"ref\"=>\"A7\",\"sidewalk\"=>\"both\",\"surface\"=>\"asphalt\"'}, 'geometry': {'type': 'LineString', 'coordinates': [[-3.1822499, 55.9422329], [-3.1829693, 55.9429204], [-3.1829916, 55.9429454], [-3.1830128, 55.9429701], [-3.1830334, 55.9429951], [-3.183053, 55.9430198]]}}, {'type': 'Feature', 'properties': {'osm_id': '220045368', 'name': 'Clerk Street', 'highway': 'primary', 'z_order': 7, 'other_tags': '\"maxspeed\"=>\"20 mph\",\"ref\"=>\"A7\",\"sidewalk\"=>\"both\",\"surface\"=>\"asphalt\"'}, 'geometry': {'type': 'LineString', 'coordinates': [[-3.1822161, 55.9422004], [-3.1822499, 55.9422329]]}}, {'type': 'Feature', 'properties': {'osm_id': '227749740', 'name': 'Melville Drive', 'highway': 'primary', 'z_order': 7, 'other_tags': '\"cycleway\"=>\"lane\",\"foot\"=>\"yes\",\"lanes\"=>\"2\",\"lit\"=>\"yes\",\"maxspeed\"=>\"20 mph\",\"ref\"=>\"A700\",\"sidewalk\"=>\"both\",\"surface\"=>\"asphalt\"'}, 'geometry': {'type': 'LineString', 'coordinates': [[-3.1914693, 55.9398804], [-3.1915928, 55.9398972], [-3.1918253, 55.9399281], [-3.1925159, 55.9400248], [-3.1933777, 55.9401508], [-3.1942266, 55.9402772], [-3.1945467, 55.9403233], [-3.1947513, 55.9403516], [-3.1953018, 55.94043]]}}, {'type': 'Feature', 'properties': {'osm_id': '267210814', 'name': 'Summerhall', 'highway': 'primary', 'z_order': 7, 'other_tags': '\"comment\"=>\"reinstate prev not:name tag\",\"cycleway\"=>\"lane\",\"maxspeed\"=>\"20 mph\",\"not:name\"=>\"Summerhall Crescent\",\"ref\"=>\"A700\",\"surface\"=>\"asphalt\"'}, 'geometry': {'type': 'LineString', 'coordinates': [[-3.1826857, 55.9399892], [-3.1826741, 55.9399533], [-3.1826495, 55.939897]]}}, {'type': 'Feature', 'properties': {'osm_id': '291486028', 'name': 'Nicolson Street', 'highway': 'primary', 'z_order': 7, 'other_tags': '\"lit\"=>\"yes\",\"maxspeed\"=>\"20 mph\",\"ref\"=>\"A7\",\"sidewalk\"=>\"both\",\"surface\"=>\"asphalt\"'}, 'geometry': {'type': 'LineString', 'coordinates': [[-3.1851048, 55.9460216], [-3.1850327, 55.9459473]]}}, {'type': 'Feature', 'properties': {'osm_id': '332744391', 'name': 'South Clerk Street', 'highway': 'primary', 'z_order': 7, 'other_tags': '\"lit\"=>\"yes\",\"maxspeed\"=>\"20 mph\",\"ref\"=>\"A7\",\"sidewalk\"=>\"both\",\"surface\"=>\"asphalt\"'}, 'geometry': {'type': 'LineString', 'coordinates': [[-3.1809499, 55.9408721], [-3.1813785, 55.9413923]]}}, {'type': 'Feature', 'properties': {'osm_id': '434920474', 'name': 'South Clerk Street', 'highway': 'primary', 'z_order': 7, 'other_tags': '\"lit\"=>\"yes\",\"maxspeed\"=>\"20 mph\",\"ref\"=>\"A7\",\"sidewalk\"=>\"both\",\"surface\"=>\"asphalt\"'}, 'geometry': {'type': 'LineString', 'coordinates': [[-3.1813785, 55.9413923], [-3.1816316, 55.9416411]]}}]\n",
      "laksjdfla {'type': 'FeatureCollection', 'features': [{'type': 'Feature', 'properties': {'osm_id': '2956332', 'name': 'Nicolson Street', 'highway': 'primary', 'z_order': 7, 'other_tags': '\"lit\"=>\"yes\",\"maxspeed\"=>\"20 mph\",\"ref\"=>\"A7\",\"surface\"=>\"asphalt\"'}, 'geometry': {'type': 'LineString', 'coordinates': [[-3.1835257, 55.9438013], [-3.1835704, 55.9439324], [-3.183719, 55.9443146], [-3.183749, 55.9443964], [-3.183762, 55.9444287], [-3.1838277, 55.9446149], [-3.1838542, 55.9447084], [-3.1838953, 55.9448028], [-3.1839742, 55.9448891], [-3.1840428, 55.9449648], [-3.1842037, 55.9451214]]}}, {'type': 'Feature', 'properties': {'osm_id': '2970983', 'name': 'Melville Drive', 'highway': 'primary', 'z_order': 7, 'other_tags': '\"lanes\"=>\"2\",\"lit\"=>\"yes\",\"maxspeed\"=>\"20 mph\",\"ref\"=>\"A700\",\"surface\"=>\"asphalt\"'}, 'geometry': {'type': 'LineString', 'coordinates': [[-3.1827389, 55.9404775], [-3.1828929, 55.9404559], [-3.1830342, 55.9404304], [-3.1833632, 55.9403495], [-3.1836608, 55.9402703], [-3.1839537, 55.9401869], [-3.1843756, 55.9400697], [-3.1847675, 55.939959], [-3.1851224, 55.9398821], [-3.1856307, 55.9398027], [-3.1863473, 55.9397307], [-3.187122, 55.9396721], [-3.1877678, 55.9396398], [-3.1883018, 55.9396249], [-3.1888453, 55.9396311], [-3.1893329, 55.9396542], [-3.1898055, 55.9396925]]}}, {'type': 'Feature', 'properties': {'osm_id': '3818214', 'name': 'West Preston Street', 'highway': 'primary', 'z_order': 7, 'other_tags': '\"maxspeed\"=>\"20 mph\",\"ref\"=>\"A700\",\"surface\"=>\"asphalt\"'}, 'geometry': {'type': 'LineString', 'coordinates': [[-3.1818975, 55.9389717], [-3.18056, 55.9390554], [-3.1795088, 55.9391212]]}}, {'type': 'Feature', 'properties': {'osm_id': '3819004', 'name': 'Summerhall', 'highway': 'primary', 'z_order': 7, 'other_tags': '\"comment\"=>\"reinstate prev not:name tag\",\"cycleway\"=>\"lane\",\"maxspeed\"=>\"20 mph\",\"not:name\"=>\"Summerhall Crescent\",\"ref\"=>\"A700\",\"surface\"=>\"asphalt\"'}, 'geometry': {'type': 'LineString', 'coordinates': [[-3.1827389, 55.9404775], [-3.1827319, 55.9403004], [-3.1827047, 55.9400661], [-3.1826951, 55.9400271], [-3.1826857, 55.9399892]]}}, {'type': 'Feature', 'properties': {'osm_id': '3819007', 'name': 'Summerhall Place', 'highway': 'primary', 'z_order': 7, 'other_tags': '\"cycleway\"=>\"lane\",\"lanes\"=>\"3\",\"lanes:forward\"=>\"2\",\"lit\"=>\"yes\",\"maxspeed\"=>\"20 mph\",\"name:right\"=>\"Lord Russell Place\",\"ref\"=>\"A700\",\"sidewalk\"=>\"both\",\"surface\"=>\"asphalt\"'}, 'geometry': {'type': 'LineString', 'coordinates': [[-3.1822516, 55.9394221], [-3.1822439, 55.9394124], [-3.1819681, 55.9390644], [-3.1818975, 55.9389717]]}}, {'type': 'Feature', 'properties': {'osm_id': '4349299', 'name': 'Clerk Street', 'highway': 'primary', 'z_order': 7, 'other_tags': '\"lit\"=>\"yes\",\"maxspeed\"=>\"20 mph\",\"ref\"=>\"A7\",\"sidewalk\"=>\"both\",\"surface\"=>\"asphalt\"'}, 'geometry': {'type': 'LineString', 'coordinates': [[-3.1816316, 55.9416411], [-3.1820131, 55.9420053], [-3.1822161, 55.9422004]]}}, {'type': 'Feature', 'properties': {'osm_id': '4349300', 'name': 'St Patrick Square', 'highway': 'primary', 'z_order': 7, 'other_tags': '\"lit\"=>\"yes\",\"maxspeed\"=>\"20 mph\",\"ref\"=>\"A7\",\"surface\"=>\"asphalt\"'}, 'geometry': {'type': 'LineString', 'coordinates': [[-3.183053, 55.9430198], [-3.1833585, 55.9434059], [-3.1833734, 55.9434269], [-3.1833861, 55.9434471], [-3.1833981, 55.943469], [-3.1834079, 55.9434899]]}}, {'type': 'Feature', 'properties': {'osm_id': '5213574', 'name': 'St Patrick Street', 'highway': 'primary', 'z_order': 7, 'other_tags': '\"lit\"=>\"yes\",\"maxspeed\"=>\"20 mph\",\"ref\"=>\"A7\",\"surface\"=>\"asphalt\"'}, 'geometry': {'type': 'LineString', 'coordinates': [[-3.1834079, 55.9434899], [-3.1835257, 55.9438013]]}}, {'type': 'Feature', 'properties': {'osm_id': '22939459', 'name': 'Nicolson Street', 'highway': 'primary', 'z_order': 7, 'other_tags': '\"lit\"=>\"yes\",\"maxspeed\"=>\"20 mph\",\"ref\"=>\"A7\",\"sidewalk\"=>\"both\",\"surface\"=>\"asphalt\"'}, 'geometry': {'type': 'LineString', 'coordinates': [[-3.186056, 55.9471886], [-3.1859804, 55.9470451], [-3.1858816, 55.9468918], [-3.1858263, 55.9468087], [-3.1857629, 55.9467254], [-3.1856454, 55.946586], [-3.1854927, 55.9464305], [-3.1853337, 55.9462687], [-3.1852827, 55.9462196]]}}, {'type': 'Feature', 'properties': {'osm_id': '37846819', 'name': 'Melville Drive', 'highway': 'primary', 'z_order': 7, 'other_tags': '\"cycleway\"=>\"lane\",\"lanes\"=>\"2\",\"lit\"=>\"yes\",\"maxspeed\"=>\"20 mph\",\"ref\"=>\"A700\"'}, 'geometry': {'type': 'LineString', 'coordinates': [[-3.1898055, 55.9396925], [-3.1903497, 55.9397423], [-3.1909924, 55.9398205], [-3.1914693, 55.9398804]]}}, {'type': 'Feature', 'properties': {'osm_id': '40884885', 'name': 'Nicolson Street', 'highway': 'primary', 'z_order': 7, 'other_tags': '\"lit\"=>\"yes\",\"maxspeed\"=>\"20 mph\",\"ref\"=>\"A7\",\"sidewalk\"=>\"both\",\"surface\"=>\"asphalt\"'}, 'geometry': {'type': 'LineString', 'coordinates': [[-3.1850327, 55.9459473], [-3.184637, 55.9455373], [-3.1843431, 55.9452476], [-3.1842037, 55.9451214]]}}, {'type': 'Feature', 'properties': {'osm_id': '42148639', 'name': 'Nicolson Street', 'highway': 'primary', 'z_order': 7, 'other_tags': '\"lit\"=>\"yes\",\"maxspeed\"=>\"20 mph\",\"ref\"=>\"A7\",\"sidewalk\"=>\"both\",\"surface\"=>\"asphalt\"'}, 'geometry': {'type': 'LineString', 'coordinates': [[-3.1852827, 55.9462196], [-3.1851841, 55.9461093], [-3.1851048, 55.9460216]]}}, {'type': 'Feature', 'properties': {'osm_id': '75089989', 'name': 'Summerhall', 'highway': 'primary', 'z_order': 7, 'other_tags': '\"comment\"=>\"reinstate prev not:name tag\",\"cycleway\"=>\"lane\",\"maxspeed\"=>\"20 mph\",\"not:name\"=>\"Summerhall Place\",\"ref\"=>\"A700\",\"surface\"=>\"asphalt\"'}, 'geometry': {'type': 'LineString', 'coordinates': [[-3.1826495, 55.939897], [-3.1825925, 55.9398068], [-3.1825481, 55.939754], [-3.1822516, 55.9394221]]}}, {'type': 'Feature', 'properties': {'osm_id': '132858610', 'name': 'Melville Drive', 'highway': 'primary', 'z_order': 7, 'other_tags': '\"cycleway\"=>\"lane\",\"lanes\"=>\"2\",\"lit\"=>\"yes\",\"maxspeed\"=>\"20 mph\",\"ref\"=>\"A700\"'}, 'geometry': {'type': 'LineString', 'coordinates': [[-3.1953018, 55.94043], [-3.1957056, 55.9404845], [-3.1964615, 55.9405942], [-3.197171, 55.9407003], [-3.1977074, 55.9407863], [-3.1981244, 55.9408621], [-3.1983835, 55.9409207], [-3.1985839, 55.9409752], [-3.1989611, 55.9411022], [-3.1989833, 55.9411116], [-3.1993016, 55.9412462], [-3.1993944, 55.9412909], [-3.1996535, 55.9414243], [-3.1997656, 55.9414885], [-3.1998469, 55.941542], [-3.2000225, 55.9416599], [-3.2003397, 55.9419055]]}}, {'type': 'Feature', 'properties': {'osm_id': '220045363', 'name': 'Clerk Street', 'highway': 'primary', 'z_order': 7, 'other_tags': '\"lit\"=>\"yes\",\"maxspeed\"=>\"20 mph\",\"ref\"=>\"A7\",\"sidewalk\"=>\"both\",\"surface\"=>\"asphalt\"'}, 'geometry': {'type': 'LineString', 'coordinates': [[-3.1822499, 55.9422329], [-3.1829693, 55.9429204], [-3.1829916, 55.9429454], [-3.1830128, 55.9429701], [-3.1830334, 55.9429951], [-3.183053, 55.9430198]]}}, {'type': 'Feature', 'properties': {'osm_id': '220045368', 'name': 'Clerk Street', 'highway': 'primary', 'z_order': 7, 'other_tags': '\"maxspeed\"=>\"20 mph\",\"ref\"=>\"A7\",\"sidewalk\"=>\"both\",\"surface\"=>\"asphalt\"'}, 'geometry': {'type': 'LineString', 'coordinates': [[-3.1822161, 55.9422004], [-3.1822499, 55.9422329]]}}, {'type': 'Feature', 'properties': {'osm_id': '227749740', 'name': 'Melville Drive', 'highway': 'primary', 'z_order': 7, 'other_tags': '\"cycleway\"=>\"lane\",\"foot\"=>\"yes\",\"lanes\"=>\"2\",\"lit\"=>\"yes\",\"maxspeed\"=>\"20 mph\",\"ref\"=>\"A700\",\"sidewalk\"=>\"both\",\"surface\"=>\"asphalt\"'}, 'geometry': {'type': 'LineString', 'coordinates': [[-3.1914693, 55.9398804], [-3.1915928, 55.9398972], [-3.1918253, 55.9399281], [-3.1925159, 55.9400248], [-3.1933777, 55.9401508], [-3.1942266, 55.9402772], [-3.1945467, 55.9403233], [-3.1947513, 55.9403516], [-3.1953018, 55.94043]]}}, {'type': 'Feature', 'properties': {'osm_id': '267210814', 'name': 'Summerhall', 'highway': 'primary', 'z_order': 7, 'other_tags': '\"comment\"=>\"reinstate prev not:name tag\",\"cycleway\"=>\"lane\",\"maxspeed\"=>\"20 mph\",\"not:name\"=>\"Summerhall Crescent\",\"ref\"=>\"A700\",\"surface\"=>\"asphalt\"'}, 'geometry': {'type': 'LineString', 'coordinates': [[-3.1826857, 55.9399892], [-3.1826741, 55.9399533], [-3.1826495, 55.939897]]}}, {'type': 'Feature', 'properties': {'osm_id': '291486028', 'name': 'Nicolson Street', 'highway': 'primary', 'z_order': 7, 'other_tags': '\"lit\"=>\"yes\",\"maxspeed\"=>\"20 mph\",\"ref\"=>\"A7\",\"sidewalk\"=>\"both\",\"surface\"=>\"asphalt\"'}, 'geometry': {'type': 'LineString', 'coordinates': [[-3.1851048, 55.9460216], [-3.1850327, 55.9459473]]}}, {'type': 'Feature', 'properties': {'osm_id': '332744391', 'name': 'South Clerk Street', 'highway': 'primary', 'z_order': 7, 'other_tags': '\"lit\"=>\"yes\",\"maxspeed\"=>\"20 mph\",\"ref\"=>\"A7\",\"sidewalk\"=>\"both\",\"surface\"=>\"asphalt\"'}, 'geometry': {'type': 'LineString', 'coordinates': [[-3.1809499, 55.9408721], [-3.1813785, 55.9413923]]}}, {'type': 'Feature', 'properties': {'osm_id': '434920474', 'name': 'South Clerk Street', 'highway': 'primary', 'z_order': 7, 'other_tags': '\"lit\"=>\"yes\",\"maxspeed\"=>\"20 mph\",\"ref\"=>\"A7\",\"sidewalk\"=>\"both\",\"surface\"=>\"asphalt\"'}, 'geometry': {'type': 'LineString', 'coordinates': [[-3.1813785, 55.9413923], [-3.1816316, 55.9416411]]}}]}\n",
      "1 []\n",
      "laksjdfla {'type': 'FeatureCollection', 'features': []}\n"
     ]
    },
    {
     "ename": "IndexError",
     "evalue": "list index out of range",
     "output_type": "error",
     "traceback": [
      "\u001b[0;31m---------------------------------------------------------------------------\u001b[0m",
      "\u001b[0;31mIndexError\u001b[0m                                Traceback (most recent call last)",
      "\u001b[0;32m<ipython-input-16-c030a0016d11>\u001b[0m in \u001b[0;36m<module>\u001b[0;34m\u001b[0m\n\u001b[1;32m      4\u001b[0m \u001b[0;32mfor\u001b[0m \u001b[0mnum\u001b[0m\u001b[0;34m,\u001b[0m \u001b[0mroadGeo\u001b[0m \u001b[0;32min\u001b[0m \u001b[0menumerate\u001b[0m\u001b[0;34m(\u001b[0m\u001b[0mroadGeos\u001b[0m\u001b[0;34m)\u001b[0m\u001b[0;34m:\u001b[0m\u001b[0;34m\u001b[0m\u001b[0;34m\u001b[0m\u001b[0m\n\u001b[1;32m      5\u001b[0m     \u001b[0mprint\u001b[0m\u001b[0;34m(\u001b[0m\u001b[0mnum\u001b[0m\u001b[0;34m,\u001b[0m \u001b[0mroadGeo\u001b[0m\u001b[0;34m[\u001b[0m\u001b[0;34m'features'\u001b[0m\u001b[0;34m]\u001b[0m\u001b[0;34m)\u001b[0m\u001b[0;34m\u001b[0m\u001b[0;34m\u001b[0m\u001b[0m\n\u001b[0;32m----> 6\u001b[0;31m     \u001b[0mosm_reader\u001b[0m\u001b[0;34m.\u001b[0m\u001b[0maddRoadType\u001b[0m\u001b[0;34m(\u001b[0m\u001b[0mroadType\u001b[0m\u001b[0;34m,\u001b[0m \u001b[0mroadGeo\u001b[0m\u001b[0;34m,\u001b[0m \u001b[0mnum\u001b[0m\u001b[0;34m)\u001b[0m\u001b[0;34m\u001b[0m\u001b[0;34m\u001b[0m\u001b[0m\n\u001b[0m\u001b[1;32m      7\u001b[0m \u001b[0mroadType\u001b[0m\u001b[0;34m.\u001b[0m\u001b[0msave\u001b[0m\u001b[0;34m(\u001b[0m\u001b[0;34m\"../images/maps/roadTypeStamenToner_wt3.html\"\u001b[0m\u001b[0;34m)\u001b[0m\u001b[0;34m\u001b[0m\u001b[0;34m\u001b[0m\u001b[0m\n\u001b[1;32m      8\u001b[0m \u001b[0;34m\u001b[0m\u001b[0m\n",
      "\u001b[0;32m~/Documents/diss/projectZoe/code/osm_reader.py\u001b[0m in \u001b[0;36maddRoadType\u001b[0;34m(self, mapObj, roadGeo, num)\u001b[0m\n\u001b[1;32m     42\u001b[0m         \u001b[0;32mif\u001b[0m\u001b[0;34m(\u001b[0m\u001b[0mlen\u001b[0m\u001b[0;34m(\u001b[0m\u001b[0mroadGeo\u001b[0m\u001b[0;34m)\u001b[0m \u001b[0;34m>\u001b[0m \u001b[0;36m0\u001b[0m\u001b[0;34m)\u001b[0m\u001b[0;34m:\u001b[0m\u001b[0;34m\u001b[0m\u001b[0;34m\u001b[0m\u001b[0m\n\u001b[1;32m     43\u001b[0m             folium.GeoJson(roadGeo, \n\u001b[0;32m---> 44\u001b[0;31m                   style_function=lambda x: {\n\u001b[0m\u001b[1;32m     45\u001b[0m                         \u001b[0;34m'color'\u001b[0m \u001b[0;34m:\u001b[0m \u001b[0mself\u001b[0m\u001b[0;34m.\u001b[0m\u001b[0mcolors\u001b[0m\u001b[0;34m[\u001b[0m\u001b[0mnum\u001b[0m\u001b[0;34m]\u001b[0m\u001b[0;34m,\u001b[0m\u001b[0;34m\u001b[0m\u001b[0;34m\u001b[0m\u001b[0m\n\u001b[1;32m     46\u001b[0m                         \u001b[0;34m'weight'\u001b[0m \u001b[0;34m:\u001b[0m \u001b[0;36m4.0\u001b[0m\u001b[0;34m\u001b[0m\u001b[0;34m\u001b[0m\u001b[0m\n",
      "\u001b[0;32m/anaconda3/lib/python3.6/site-packages/folium/features.py\u001b[0m in \u001b[0;36m__init__\u001b[0;34m(self, data, style_function, highlight_function, name, overlay, control, show, smooth_factor, tooltip, embed)\u001b[0m\n\u001b[1;32m    453\u001b[0m             \u001b[0mself\u001b[0m\u001b[0;34m.\u001b[0m\u001b[0mconvert_to_feature_collection\u001b[0m\u001b[0;34m(\u001b[0m\u001b[0;34m)\u001b[0m\u001b[0;34m\u001b[0m\u001b[0;34m\u001b[0m\u001b[0m\n\u001b[1;32m    454\u001b[0m             \u001b[0;32mif\u001b[0m \u001b[0mself\u001b[0m\u001b[0;34m.\u001b[0m\u001b[0mstyle\u001b[0m\u001b[0;34m:\u001b[0m\u001b[0;34m\u001b[0m\u001b[0;34m\u001b[0m\u001b[0m\n\u001b[0;32m--> 455\u001b[0;31m                 \u001b[0mself\u001b[0m\u001b[0;34m.\u001b[0m\u001b[0m_validate_function\u001b[0m\u001b[0;34m(\u001b[0m\u001b[0mstyle_function\u001b[0m\u001b[0;34m,\u001b[0m \u001b[0;34m'style_function'\u001b[0m\u001b[0;34m)\u001b[0m\u001b[0;34m\u001b[0m\u001b[0;34m\u001b[0m\u001b[0m\n\u001b[0m\u001b[1;32m    456\u001b[0m                 \u001b[0mself\u001b[0m\u001b[0;34m.\u001b[0m\u001b[0mstyle_function\u001b[0m \u001b[0;34m=\u001b[0m \u001b[0mstyle_function\u001b[0m\u001b[0;34m\u001b[0m\u001b[0;34m\u001b[0m\u001b[0m\n\u001b[1;32m    457\u001b[0m                 \u001b[0mself\u001b[0m\u001b[0;34m.\u001b[0m\u001b[0mstyle_map\u001b[0m \u001b[0;34m=\u001b[0m \u001b[0;34m{\u001b[0m\u001b[0;34m}\u001b[0m\u001b[0;34m\u001b[0m\u001b[0;34m\u001b[0m\u001b[0m\n",
      "\u001b[0;32m/anaconda3/lib/python3.6/site-packages/folium/features.py\u001b[0m in \u001b[0;36m_validate_function\u001b[0;34m(self, func, name)\u001b[0m\n\u001b[1;32m    515\u001b[0m         \u001b[0mthey\u001b[0m \u001b[0mare\u001b[0m \u001b[0mfunctions\u001b[0m \u001b[0mreturning\u001b[0m \u001b[0mdictionaries\u001b[0m\u001b[0;34m.\u001b[0m\u001b[0;34m\u001b[0m\u001b[0;34m\u001b[0m\u001b[0m\n\u001b[1;32m    516\u001b[0m         \"\"\"\n\u001b[0;32m--> 517\u001b[0;31m         \u001b[0mtest_feature\u001b[0m \u001b[0;34m=\u001b[0m \u001b[0mself\u001b[0m\u001b[0;34m.\u001b[0m\u001b[0mdata\u001b[0m\u001b[0;34m[\u001b[0m\u001b[0;34m'features'\u001b[0m\u001b[0;34m]\u001b[0m\u001b[0;34m[\u001b[0m\u001b[0;36m0\u001b[0m\u001b[0;34m]\u001b[0m\u001b[0;34m\u001b[0m\u001b[0;34m\u001b[0m\u001b[0m\n\u001b[0m\u001b[1;32m    518\u001b[0m         \u001b[0;32mif\u001b[0m \u001b[0;32mnot\u001b[0m \u001b[0mcallable\u001b[0m\u001b[0;34m(\u001b[0m\u001b[0mfunc\u001b[0m\u001b[0;34m)\u001b[0m \u001b[0;32mor\u001b[0m \u001b[0;32mnot\u001b[0m \u001b[0misinstance\u001b[0m\u001b[0;34m(\u001b[0m\u001b[0mfunc\u001b[0m\u001b[0;34m(\u001b[0m\u001b[0mtest_feature\u001b[0m\u001b[0;34m)\u001b[0m\u001b[0;34m,\u001b[0m \u001b[0mdict\u001b[0m\u001b[0;34m)\u001b[0m\u001b[0;34m:\u001b[0m\u001b[0;34m\u001b[0m\u001b[0;34m\u001b[0m\u001b[0m\n\u001b[1;32m    519\u001b[0m             raise ValueError('{} should be a function that accepts items from '\n",
      "\u001b[0;31mIndexError\u001b[0m: list index out of range"
     ]
    }
   ],
   "source": [
    "roadGeos = osm_reader.getRoadGeoClasses()\n",
    "roadType = folium.Map(location=[55.943, -3.19], zoom_start=15,tiles=\"Stamen Toner\")\n",
    "# print(len(roadGeos))\n",
    "for num, roadGeo in enumerate(roadGeos):\n",
    "    print(num, roadGeo['features'])\n",
    "    osm_reader.addRoadType(roadType, roadGeo, num)\n",
    "roadType.save(\"../images/maps/roadTypeStamenToner_wt3.html\")\n",
    "    \n",
    "areaGeos = osm_reader.getLandGeoClasses()\n",
    "landUse = folium.Map(location=[55.943, -3.19], zoom_start=15, tiles=\"Stamen Toner\")\n",
    "for num, areaGeo in enumerate(areaGeos):\n",
    "    osm_reader.addLandUse(landUse, areaGeo, num)        \n",
    "landUse.save(\"../images/maps/landUseTiles.html\")"
   ]
  },
  {
   "cell_type": "code",
   "execution_count": null,
   "metadata": {},
   "outputs": [],
   "source": [
    "roadType"
   ]
  },
  {
   "cell_type": "code",
   "execution_count": null,
   "metadata": {},
   "outputs": [],
   "source": [
    "landUse"
   ]
  },
  {
   "cell_type": "code",
   "execution_count": 17,
   "metadata": {
    "scrolled": true
   },
   "outputs": [],
   "source": [
    "corners = corners = constants.getCorners()\n",
    "\n",
    "topLat = corners[0][0]\n",
    "bottomLat = corners[2][0]\n",
    "\n",
    "leftLon = corners[0][1]\n",
    "rightLon = corners[1][1]\n",
    "\n",
    "height = topLat - bottomLat\n",
    "width = rightLon - leftLon\n",
    "heightInterval = height / GRID_SIZE\n",
    "widthInterval = width / GRID_SIZE"
   ]
  },
  {
   "cell_type": "code",
   "execution_count": 18,
   "metadata": {},
   "outputs": [],
   "source": [
    "cells = osm_reader.getGeoCells()"
   ]
  },
  {
   "cell_type": "markdown",
   "metadata": {},
   "source": [
    "## Map road type from csv"
   ]
  },
  {
   "cell_type": "code",
   "execution_count": 19,
   "metadata": {},
   "outputs": [
    {
     "ename": "FileNotFoundError",
     "evalue": "[Errno 2] File b'/Users/ryanegan/Documents/diss/projectZoe/data/osm/roadtype_grid50.csv' does not exist: b'/Users/ryanegan/Documents/diss/projectZoe/data/osm/roadtype_grid50.csv'",
     "output_type": "error",
     "traceback": [
      "\u001b[0;31m---------------------------------------------------------------------------\u001b[0m",
      "\u001b[0;31mFileNotFoundError\u001b[0m                         Traceback (most recent call last)",
      "\u001b[0;32m<ipython-input-19-c07d8994613a>\u001b[0m in \u001b[0;36m<module>\u001b[0;34m\u001b[0m\n\u001b[1;32m      3\u001b[0m \u001b[0;34m\u001b[0m\u001b[0m\n\u001b[1;32m      4\u001b[0m \u001b[0mroadPixels\u001b[0m \u001b[0;34m=\u001b[0m \u001b[0mfolium\u001b[0m\u001b[0;34m.\u001b[0m\u001b[0mMap\u001b[0m\u001b[0;34m(\u001b[0m\u001b[0mlocation\u001b[0m\u001b[0;34m=\u001b[0m\u001b[0;34m[\u001b[0m\u001b[0;36m55.943\u001b[0m\u001b[0;34m,\u001b[0m \u001b[0;34m-\u001b[0m\u001b[0;36m3.19\u001b[0m\u001b[0;34m]\u001b[0m\u001b[0;34m,\u001b[0m\u001b[0mtiles\u001b[0m\u001b[0;34m=\u001b[0m\u001b[0;34m\"Stamen Toner\"\u001b[0m\u001b[0;34m,\u001b[0m \u001b[0mzoom_start\u001b[0m\u001b[0;34m=\u001b[0m\u001b[0;36m15\u001b[0m\u001b[0;34m)\u001b[0m\u001b[0;34m\u001b[0m\u001b[0;34m\u001b[0m\u001b[0m\n\u001b[0;32m----> 5\u001b[0;31m \u001b[0mpd_df\u001b[0m\u001b[0;34m=\u001b[0m\u001b[0mpd\u001b[0m\u001b[0;34m.\u001b[0m\u001b[0mread_csv\u001b[0m\u001b[0;34m(\u001b[0m\u001b[0mfilename\u001b[0m\u001b[0;34m,\u001b[0m \u001b[0msep\u001b[0m\u001b[0;34m=\u001b[0m\u001b[0;34m','\u001b[0m\u001b[0;34m,\u001b[0m\u001b[0mheader\u001b[0m\u001b[0;34m=\u001b[0m\u001b[0;32mNone\u001b[0m\u001b[0;34m,\u001b[0m \u001b[0mskiprows\u001b[0m\u001b[0;34m=\u001b[0m\u001b[0;36m1\u001b[0m\u001b[0;34m)\u001b[0m\u001b[0;34m\u001b[0m\u001b[0;34m\u001b[0m\u001b[0m\n\u001b[0m\u001b[1;32m      6\u001b[0m \u001b[0mroad_types\u001b[0m \u001b[0;34m=\u001b[0m \u001b[0mpd_df\u001b[0m\u001b[0;34m.\u001b[0m\u001b[0mvalues\u001b[0m\u001b[0;34m\u001b[0m\u001b[0;34m\u001b[0m\u001b[0m\n\u001b[1;32m      7\u001b[0m \u001b[0;34m\u001b[0m\u001b[0m\n",
      "\u001b[0;32m/anaconda3/lib/python3.6/site-packages/pandas/io/parsers.py\u001b[0m in \u001b[0;36mparser_f\u001b[0;34m(filepath_or_buffer, sep, delimiter, header, names, index_col, usecols, squeeze, prefix, mangle_dupe_cols, dtype, engine, converters, true_values, false_values, skipinitialspace, skiprows, skipfooter, nrows, na_values, keep_default_na, na_filter, verbose, skip_blank_lines, parse_dates, infer_datetime_format, keep_date_col, date_parser, dayfirst, iterator, chunksize, compression, thousands, decimal, lineterminator, quotechar, quoting, doublequote, escapechar, comment, encoding, dialect, tupleize_cols, error_bad_lines, warn_bad_lines, delim_whitespace, low_memory, memory_map, float_precision)\u001b[0m\n\u001b[1;32m    700\u001b[0m                     skip_blank_lines=skip_blank_lines)\n\u001b[1;32m    701\u001b[0m \u001b[0;34m\u001b[0m\u001b[0m\n\u001b[0;32m--> 702\u001b[0;31m         \u001b[0;32mreturn\u001b[0m \u001b[0m_read\u001b[0m\u001b[0;34m(\u001b[0m\u001b[0mfilepath_or_buffer\u001b[0m\u001b[0;34m,\u001b[0m \u001b[0mkwds\u001b[0m\u001b[0;34m)\u001b[0m\u001b[0;34m\u001b[0m\u001b[0;34m\u001b[0m\u001b[0m\n\u001b[0m\u001b[1;32m    703\u001b[0m \u001b[0;34m\u001b[0m\u001b[0m\n\u001b[1;32m    704\u001b[0m     \u001b[0mparser_f\u001b[0m\u001b[0;34m.\u001b[0m\u001b[0m__name__\u001b[0m \u001b[0;34m=\u001b[0m \u001b[0mname\u001b[0m\u001b[0;34m\u001b[0m\u001b[0;34m\u001b[0m\u001b[0m\n",
      "\u001b[0;32m/anaconda3/lib/python3.6/site-packages/pandas/io/parsers.py\u001b[0m in \u001b[0;36m_read\u001b[0;34m(filepath_or_buffer, kwds)\u001b[0m\n\u001b[1;32m    427\u001b[0m \u001b[0;34m\u001b[0m\u001b[0m\n\u001b[1;32m    428\u001b[0m     \u001b[0;31m# Create the parser.\u001b[0m\u001b[0;34m\u001b[0m\u001b[0;34m\u001b[0m\u001b[0;34m\u001b[0m\u001b[0m\n\u001b[0;32m--> 429\u001b[0;31m     \u001b[0mparser\u001b[0m \u001b[0;34m=\u001b[0m \u001b[0mTextFileReader\u001b[0m\u001b[0;34m(\u001b[0m\u001b[0mfilepath_or_buffer\u001b[0m\u001b[0;34m,\u001b[0m \u001b[0;34m**\u001b[0m\u001b[0mkwds\u001b[0m\u001b[0;34m)\u001b[0m\u001b[0;34m\u001b[0m\u001b[0;34m\u001b[0m\u001b[0m\n\u001b[0m\u001b[1;32m    430\u001b[0m \u001b[0;34m\u001b[0m\u001b[0m\n\u001b[1;32m    431\u001b[0m     \u001b[0;32mif\u001b[0m \u001b[0mchunksize\u001b[0m \u001b[0;32mor\u001b[0m \u001b[0miterator\u001b[0m\u001b[0;34m:\u001b[0m\u001b[0;34m\u001b[0m\u001b[0;34m\u001b[0m\u001b[0m\n",
      "\u001b[0;32m/anaconda3/lib/python3.6/site-packages/pandas/io/parsers.py\u001b[0m in \u001b[0;36m__init__\u001b[0;34m(self, f, engine, **kwds)\u001b[0m\n\u001b[1;32m    893\u001b[0m             \u001b[0mself\u001b[0m\u001b[0;34m.\u001b[0m\u001b[0moptions\u001b[0m\u001b[0;34m[\u001b[0m\u001b[0;34m'has_index_names'\u001b[0m\u001b[0;34m]\u001b[0m \u001b[0;34m=\u001b[0m \u001b[0mkwds\u001b[0m\u001b[0;34m[\u001b[0m\u001b[0;34m'has_index_names'\u001b[0m\u001b[0;34m]\u001b[0m\u001b[0;34m\u001b[0m\u001b[0;34m\u001b[0m\u001b[0m\n\u001b[1;32m    894\u001b[0m \u001b[0;34m\u001b[0m\u001b[0m\n\u001b[0;32m--> 895\u001b[0;31m         \u001b[0mself\u001b[0m\u001b[0;34m.\u001b[0m\u001b[0m_make_engine\u001b[0m\u001b[0;34m(\u001b[0m\u001b[0mself\u001b[0m\u001b[0;34m.\u001b[0m\u001b[0mengine\u001b[0m\u001b[0;34m)\u001b[0m\u001b[0;34m\u001b[0m\u001b[0;34m\u001b[0m\u001b[0m\n\u001b[0m\u001b[1;32m    896\u001b[0m \u001b[0;34m\u001b[0m\u001b[0m\n\u001b[1;32m    897\u001b[0m     \u001b[0;32mdef\u001b[0m \u001b[0mclose\u001b[0m\u001b[0;34m(\u001b[0m\u001b[0mself\u001b[0m\u001b[0;34m)\u001b[0m\u001b[0;34m:\u001b[0m\u001b[0;34m\u001b[0m\u001b[0;34m\u001b[0m\u001b[0m\n",
      "\u001b[0;32m/anaconda3/lib/python3.6/site-packages/pandas/io/parsers.py\u001b[0m in \u001b[0;36m_make_engine\u001b[0;34m(self, engine)\u001b[0m\n\u001b[1;32m   1120\u001b[0m     \u001b[0;32mdef\u001b[0m \u001b[0m_make_engine\u001b[0m\u001b[0;34m(\u001b[0m\u001b[0mself\u001b[0m\u001b[0;34m,\u001b[0m \u001b[0mengine\u001b[0m\u001b[0;34m=\u001b[0m\u001b[0;34m'c'\u001b[0m\u001b[0;34m)\u001b[0m\u001b[0;34m:\u001b[0m\u001b[0;34m\u001b[0m\u001b[0;34m\u001b[0m\u001b[0m\n\u001b[1;32m   1121\u001b[0m         \u001b[0;32mif\u001b[0m \u001b[0mengine\u001b[0m \u001b[0;34m==\u001b[0m \u001b[0;34m'c'\u001b[0m\u001b[0;34m:\u001b[0m\u001b[0;34m\u001b[0m\u001b[0;34m\u001b[0m\u001b[0m\n\u001b[0;32m-> 1122\u001b[0;31m             \u001b[0mself\u001b[0m\u001b[0;34m.\u001b[0m\u001b[0m_engine\u001b[0m \u001b[0;34m=\u001b[0m \u001b[0mCParserWrapper\u001b[0m\u001b[0;34m(\u001b[0m\u001b[0mself\u001b[0m\u001b[0;34m.\u001b[0m\u001b[0mf\u001b[0m\u001b[0;34m,\u001b[0m \u001b[0;34m**\u001b[0m\u001b[0mself\u001b[0m\u001b[0;34m.\u001b[0m\u001b[0moptions\u001b[0m\u001b[0;34m)\u001b[0m\u001b[0;34m\u001b[0m\u001b[0;34m\u001b[0m\u001b[0m\n\u001b[0m\u001b[1;32m   1123\u001b[0m         \u001b[0;32melse\u001b[0m\u001b[0;34m:\u001b[0m\u001b[0;34m\u001b[0m\u001b[0;34m\u001b[0m\u001b[0m\n\u001b[1;32m   1124\u001b[0m             \u001b[0;32mif\u001b[0m \u001b[0mengine\u001b[0m \u001b[0;34m==\u001b[0m \u001b[0;34m'python'\u001b[0m\u001b[0;34m:\u001b[0m\u001b[0;34m\u001b[0m\u001b[0;34m\u001b[0m\u001b[0m\n",
      "\u001b[0;32m/anaconda3/lib/python3.6/site-packages/pandas/io/parsers.py\u001b[0m in \u001b[0;36m__init__\u001b[0;34m(self, src, **kwds)\u001b[0m\n\u001b[1;32m   1851\u001b[0m         \u001b[0mkwds\u001b[0m\u001b[0;34m[\u001b[0m\u001b[0;34m'usecols'\u001b[0m\u001b[0;34m]\u001b[0m \u001b[0;34m=\u001b[0m \u001b[0mself\u001b[0m\u001b[0;34m.\u001b[0m\u001b[0musecols\u001b[0m\u001b[0;34m\u001b[0m\u001b[0;34m\u001b[0m\u001b[0m\n\u001b[1;32m   1852\u001b[0m \u001b[0;34m\u001b[0m\u001b[0m\n\u001b[0;32m-> 1853\u001b[0;31m         \u001b[0mself\u001b[0m\u001b[0;34m.\u001b[0m\u001b[0m_reader\u001b[0m \u001b[0;34m=\u001b[0m \u001b[0mparsers\u001b[0m\u001b[0;34m.\u001b[0m\u001b[0mTextReader\u001b[0m\u001b[0;34m(\u001b[0m\u001b[0msrc\u001b[0m\u001b[0;34m,\u001b[0m \u001b[0;34m**\u001b[0m\u001b[0mkwds\u001b[0m\u001b[0;34m)\u001b[0m\u001b[0;34m\u001b[0m\u001b[0;34m\u001b[0m\u001b[0m\n\u001b[0m\u001b[1;32m   1854\u001b[0m         \u001b[0mself\u001b[0m\u001b[0;34m.\u001b[0m\u001b[0munnamed_cols\u001b[0m \u001b[0;34m=\u001b[0m \u001b[0mself\u001b[0m\u001b[0;34m.\u001b[0m\u001b[0m_reader\u001b[0m\u001b[0;34m.\u001b[0m\u001b[0munnamed_cols\u001b[0m\u001b[0;34m\u001b[0m\u001b[0;34m\u001b[0m\u001b[0m\n\u001b[1;32m   1855\u001b[0m \u001b[0;34m\u001b[0m\u001b[0m\n",
      "\u001b[0;32mpandas/_libs/parsers.pyx\u001b[0m in \u001b[0;36mpandas._libs.parsers.TextReader.__cinit__\u001b[0;34m()\u001b[0m\n",
      "\u001b[0;32mpandas/_libs/parsers.pyx\u001b[0m in \u001b[0;36mpandas._libs.parsers.TextReader._setup_parser_source\u001b[0;34m()\u001b[0m\n",
      "\u001b[0;31mFileNotFoundError\u001b[0m: [Errno 2] File b'/Users/ryanegan/Documents/diss/projectZoe/data/osm/roadtype_grid50.csv' does not exist: b'/Users/ryanegan/Documents/diss/projectZoe/data/osm/roadtype_grid50.csv'"
     ]
    }
   ],
   "source": [
    "osm_dir = \"/Users/ryanegan/Documents/diss/projectZoe/data/osm/\"\n",
    "filename = osm_dir + \"roadtype_grid\" + str(GRID_SIZE) + \".csv\"\n",
    "      \n",
    "roadPixels = folium.Map(location=[55.943, -3.19],tiles=\"Stamen Toner\", zoom_start=15)\n",
    "pd_df=pd.read_csv(filename, sep=',',header=None, skiprows=1)\n",
    "road_types = pd_df.values\n",
    "\n",
    "for cell_num, cell in enumerate(cells):\n",
    "    cell_multi = cell[0][\"geometry\"]\n",
    "    cell_shape = shapely.geometry.asShape(cell_multi)\n",
    "    row = int(cell_num / GRID_SIZE)\n",
    "    col = int(cell_num % GRID_SIZE)\n",
    "    osm_reader.addLandUse(roadPixels, cell_multi, int(road_types[row][col]))\n",
    "\n",
    "#roadPixels.save(\"../images/maps/roadType.html\")\n",
    "roadPixels  "
   ]
  },
  {
   "cell_type": "markdown",
   "metadata": {},
   "source": [
    "## Map Land Use from CSV"
   ]
  },
  {
   "cell_type": "code",
   "execution_count": null,
   "metadata": {},
   "outputs": [],
   "source": [
    "osm_dir = \"/Users/zoepetard/Google Drive/Edinburgh/MscProj/FillingTheGaps/data/osm/\"\n",
    "filename = osm_dir + \"landuse_grid\" + str(GRID_SIZE) + \".csv\"\n",
    "        \n",
    "landPixels = folium.Map(location=[55.943, -3.19],tiles=\"Stamen Toner\", zoom_start=15)\n",
    "pd_df=pd.read_csv(filename, sep=',',header=None, skiprows=1)\n",
    "land_use = pd_df.values\n",
    "\n",
    "for cell_num, cell in enumerate(cells):\n",
    "    cell_multi = cell[0][\"geometry\"]\n",
    "    cell_shape = shapely.geometry.asShape(cell_multi)\n",
    "    row = int(cell_num / GRID_SIZE)\n",
    "    col = int(cell_num % GRID_SIZE)\n",
    "    index = int(land_use[row][col])\n",
    "    osm_reader.addLandUse(landPixels, cell_multi, index)\n",
    "\n",
    "#landPixels.save(\"../images/maps/landUse.html\")\n",
    "landPixels"
   ]
  },
  {
   "cell_type": "markdown",
   "metadata": {},
   "source": [
    "## Make file with just green land use"
   ]
  },
  {
   "cell_type": "code",
   "execution_count": 10,
   "metadata": {},
   "outputs": [
    {
     "ename": "FileNotFoundError",
     "evalue": "[Errno 2] File b'/Users/zoepetard/Google Drive/Edinburgh/MscProj/FillingTheGaps/data/osm/landuse_grid50.csv' does not exist: b'/Users/zoepetard/Google Drive/Edinburgh/MscProj/FillingTheGaps/data/osm/landuse_grid50.csv'",
     "output_type": "error",
     "traceback": [
      "\u001b[0;31m---------------------------------------------------------------------------\u001b[0m",
      "\u001b[0;31mFileNotFoundError\u001b[0m                         Traceback (most recent call last)",
      "\u001b[0;32m<ipython-input-10-6a8693c4c8b5>\u001b[0m in \u001b[0;36m<module>\u001b[0;34m\u001b[0m\n\u001b[1;32m      2\u001b[0m \u001b[0mfilename\u001b[0m \u001b[0;34m=\u001b[0m \u001b[0mosm_dir\u001b[0m \u001b[0;34m+\u001b[0m \u001b[0;34m\"landuse_grid\"\u001b[0m \u001b[0;34m+\u001b[0m \u001b[0mstr\u001b[0m\u001b[0;34m(\u001b[0m\u001b[0mGRID_SIZE\u001b[0m\u001b[0;34m)\u001b[0m \u001b[0;34m+\u001b[0m \u001b[0;34m\".csv\"\u001b[0m\u001b[0;34m\u001b[0m\u001b[0;34m\u001b[0m\u001b[0m\n\u001b[1;32m      3\u001b[0m \u001b[0;34m\u001b[0m\u001b[0m\n\u001b[0;32m----> 4\u001b[0;31m \u001b[0mpd_df\u001b[0m\u001b[0;34m=\u001b[0m\u001b[0mpd\u001b[0m\u001b[0;34m.\u001b[0m\u001b[0mread_csv\u001b[0m\u001b[0;34m(\u001b[0m\u001b[0mfilename\u001b[0m\u001b[0;34m,\u001b[0m \u001b[0msep\u001b[0m\u001b[0;34m=\u001b[0m\u001b[0;34m','\u001b[0m\u001b[0;34m,\u001b[0m\u001b[0mheader\u001b[0m\u001b[0;34m=\u001b[0m\u001b[0;32mNone\u001b[0m\u001b[0;34m,\u001b[0m \u001b[0mskiprows\u001b[0m\u001b[0;34m=\u001b[0m\u001b[0;36m1\u001b[0m\u001b[0;34m)\u001b[0m\u001b[0;34m\u001b[0m\u001b[0;34m\u001b[0m\u001b[0m\n\u001b[0m\u001b[1;32m      5\u001b[0m \u001b[0;34m\u001b[0m\u001b[0m\n\u001b[1;32m      6\u001b[0m \u001b[0mland_use\u001b[0m \u001b[0;34m=\u001b[0m \u001b[0mpd_df\u001b[0m\u001b[0;34m.\u001b[0m\u001b[0mvalues\u001b[0m\u001b[0;34m\u001b[0m\u001b[0;34m\u001b[0m\u001b[0m\n",
      "\u001b[0;32m/anaconda3/lib/python3.6/site-packages/pandas/io/parsers.py\u001b[0m in \u001b[0;36mparser_f\u001b[0;34m(filepath_or_buffer, sep, delimiter, header, names, index_col, usecols, squeeze, prefix, mangle_dupe_cols, dtype, engine, converters, true_values, false_values, skipinitialspace, skiprows, skipfooter, nrows, na_values, keep_default_na, na_filter, verbose, skip_blank_lines, parse_dates, infer_datetime_format, keep_date_col, date_parser, dayfirst, iterator, chunksize, compression, thousands, decimal, lineterminator, quotechar, quoting, doublequote, escapechar, comment, encoding, dialect, tupleize_cols, error_bad_lines, warn_bad_lines, delim_whitespace, low_memory, memory_map, float_precision)\u001b[0m\n\u001b[1;32m    700\u001b[0m                     skip_blank_lines=skip_blank_lines)\n\u001b[1;32m    701\u001b[0m \u001b[0;34m\u001b[0m\u001b[0m\n\u001b[0;32m--> 702\u001b[0;31m         \u001b[0;32mreturn\u001b[0m \u001b[0m_read\u001b[0m\u001b[0;34m(\u001b[0m\u001b[0mfilepath_or_buffer\u001b[0m\u001b[0;34m,\u001b[0m \u001b[0mkwds\u001b[0m\u001b[0;34m)\u001b[0m\u001b[0;34m\u001b[0m\u001b[0;34m\u001b[0m\u001b[0m\n\u001b[0m\u001b[1;32m    703\u001b[0m \u001b[0;34m\u001b[0m\u001b[0m\n\u001b[1;32m    704\u001b[0m     \u001b[0mparser_f\u001b[0m\u001b[0;34m.\u001b[0m\u001b[0m__name__\u001b[0m \u001b[0;34m=\u001b[0m \u001b[0mname\u001b[0m\u001b[0;34m\u001b[0m\u001b[0;34m\u001b[0m\u001b[0m\n",
      "\u001b[0;32m/anaconda3/lib/python3.6/site-packages/pandas/io/parsers.py\u001b[0m in \u001b[0;36m_read\u001b[0;34m(filepath_or_buffer, kwds)\u001b[0m\n\u001b[1;32m    427\u001b[0m \u001b[0;34m\u001b[0m\u001b[0m\n\u001b[1;32m    428\u001b[0m     \u001b[0;31m# Create the parser.\u001b[0m\u001b[0;34m\u001b[0m\u001b[0;34m\u001b[0m\u001b[0;34m\u001b[0m\u001b[0m\n\u001b[0;32m--> 429\u001b[0;31m     \u001b[0mparser\u001b[0m \u001b[0;34m=\u001b[0m \u001b[0mTextFileReader\u001b[0m\u001b[0;34m(\u001b[0m\u001b[0mfilepath_or_buffer\u001b[0m\u001b[0;34m,\u001b[0m \u001b[0;34m**\u001b[0m\u001b[0mkwds\u001b[0m\u001b[0;34m)\u001b[0m\u001b[0;34m\u001b[0m\u001b[0;34m\u001b[0m\u001b[0m\n\u001b[0m\u001b[1;32m    430\u001b[0m \u001b[0;34m\u001b[0m\u001b[0m\n\u001b[1;32m    431\u001b[0m     \u001b[0;32mif\u001b[0m \u001b[0mchunksize\u001b[0m \u001b[0;32mor\u001b[0m \u001b[0miterator\u001b[0m\u001b[0;34m:\u001b[0m\u001b[0;34m\u001b[0m\u001b[0;34m\u001b[0m\u001b[0m\n",
      "\u001b[0;32m/anaconda3/lib/python3.6/site-packages/pandas/io/parsers.py\u001b[0m in \u001b[0;36m__init__\u001b[0;34m(self, f, engine, **kwds)\u001b[0m\n\u001b[1;32m    893\u001b[0m             \u001b[0mself\u001b[0m\u001b[0;34m.\u001b[0m\u001b[0moptions\u001b[0m\u001b[0;34m[\u001b[0m\u001b[0;34m'has_index_names'\u001b[0m\u001b[0;34m]\u001b[0m \u001b[0;34m=\u001b[0m \u001b[0mkwds\u001b[0m\u001b[0;34m[\u001b[0m\u001b[0;34m'has_index_names'\u001b[0m\u001b[0;34m]\u001b[0m\u001b[0;34m\u001b[0m\u001b[0;34m\u001b[0m\u001b[0m\n\u001b[1;32m    894\u001b[0m \u001b[0;34m\u001b[0m\u001b[0m\n\u001b[0;32m--> 895\u001b[0;31m         \u001b[0mself\u001b[0m\u001b[0;34m.\u001b[0m\u001b[0m_make_engine\u001b[0m\u001b[0;34m(\u001b[0m\u001b[0mself\u001b[0m\u001b[0;34m.\u001b[0m\u001b[0mengine\u001b[0m\u001b[0;34m)\u001b[0m\u001b[0;34m\u001b[0m\u001b[0;34m\u001b[0m\u001b[0m\n\u001b[0m\u001b[1;32m    896\u001b[0m \u001b[0;34m\u001b[0m\u001b[0m\n\u001b[1;32m    897\u001b[0m     \u001b[0;32mdef\u001b[0m \u001b[0mclose\u001b[0m\u001b[0;34m(\u001b[0m\u001b[0mself\u001b[0m\u001b[0;34m)\u001b[0m\u001b[0;34m:\u001b[0m\u001b[0;34m\u001b[0m\u001b[0;34m\u001b[0m\u001b[0m\n",
      "\u001b[0;32m/anaconda3/lib/python3.6/site-packages/pandas/io/parsers.py\u001b[0m in \u001b[0;36m_make_engine\u001b[0;34m(self, engine)\u001b[0m\n\u001b[1;32m   1120\u001b[0m     \u001b[0;32mdef\u001b[0m \u001b[0m_make_engine\u001b[0m\u001b[0;34m(\u001b[0m\u001b[0mself\u001b[0m\u001b[0;34m,\u001b[0m \u001b[0mengine\u001b[0m\u001b[0;34m=\u001b[0m\u001b[0;34m'c'\u001b[0m\u001b[0;34m)\u001b[0m\u001b[0;34m:\u001b[0m\u001b[0;34m\u001b[0m\u001b[0;34m\u001b[0m\u001b[0m\n\u001b[1;32m   1121\u001b[0m         \u001b[0;32mif\u001b[0m \u001b[0mengine\u001b[0m \u001b[0;34m==\u001b[0m \u001b[0;34m'c'\u001b[0m\u001b[0;34m:\u001b[0m\u001b[0;34m\u001b[0m\u001b[0;34m\u001b[0m\u001b[0m\n\u001b[0;32m-> 1122\u001b[0;31m             \u001b[0mself\u001b[0m\u001b[0;34m.\u001b[0m\u001b[0m_engine\u001b[0m \u001b[0;34m=\u001b[0m \u001b[0mCParserWrapper\u001b[0m\u001b[0;34m(\u001b[0m\u001b[0mself\u001b[0m\u001b[0;34m.\u001b[0m\u001b[0mf\u001b[0m\u001b[0;34m,\u001b[0m \u001b[0;34m**\u001b[0m\u001b[0mself\u001b[0m\u001b[0;34m.\u001b[0m\u001b[0moptions\u001b[0m\u001b[0;34m)\u001b[0m\u001b[0;34m\u001b[0m\u001b[0;34m\u001b[0m\u001b[0m\n\u001b[0m\u001b[1;32m   1123\u001b[0m         \u001b[0;32melse\u001b[0m\u001b[0;34m:\u001b[0m\u001b[0;34m\u001b[0m\u001b[0;34m\u001b[0m\u001b[0m\n\u001b[1;32m   1124\u001b[0m             \u001b[0;32mif\u001b[0m \u001b[0mengine\u001b[0m \u001b[0;34m==\u001b[0m \u001b[0;34m'python'\u001b[0m\u001b[0;34m:\u001b[0m\u001b[0;34m\u001b[0m\u001b[0;34m\u001b[0m\u001b[0m\n",
      "\u001b[0;32m/anaconda3/lib/python3.6/site-packages/pandas/io/parsers.py\u001b[0m in \u001b[0;36m__init__\u001b[0;34m(self, src, **kwds)\u001b[0m\n\u001b[1;32m   1851\u001b[0m         \u001b[0mkwds\u001b[0m\u001b[0;34m[\u001b[0m\u001b[0;34m'usecols'\u001b[0m\u001b[0;34m]\u001b[0m \u001b[0;34m=\u001b[0m \u001b[0mself\u001b[0m\u001b[0;34m.\u001b[0m\u001b[0musecols\u001b[0m\u001b[0;34m\u001b[0m\u001b[0;34m\u001b[0m\u001b[0m\n\u001b[1;32m   1852\u001b[0m \u001b[0;34m\u001b[0m\u001b[0m\n\u001b[0;32m-> 1853\u001b[0;31m         \u001b[0mself\u001b[0m\u001b[0;34m.\u001b[0m\u001b[0m_reader\u001b[0m \u001b[0;34m=\u001b[0m \u001b[0mparsers\u001b[0m\u001b[0;34m.\u001b[0m\u001b[0mTextReader\u001b[0m\u001b[0;34m(\u001b[0m\u001b[0msrc\u001b[0m\u001b[0;34m,\u001b[0m \u001b[0;34m**\u001b[0m\u001b[0mkwds\u001b[0m\u001b[0;34m)\u001b[0m\u001b[0;34m\u001b[0m\u001b[0;34m\u001b[0m\u001b[0m\n\u001b[0m\u001b[1;32m   1854\u001b[0m         \u001b[0mself\u001b[0m\u001b[0;34m.\u001b[0m\u001b[0munnamed_cols\u001b[0m \u001b[0;34m=\u001b[0m \u001b[0mself\u001b[0m\u001b[0;34m.\u001b[0m\u001b[0m_reader\u001b[0m\u001b[0;34m.\u001b[0m\u001b[0munnamed_cols\u001b[0m\u001b[0;34m\u001b[0m\u001b[0;34m\u001b[0m\u001b[0m\n\u001b[1;32m   1855\u001b[0m \u001b[0;34m\u001b[0m\u001b[0m\n",
      "\u001b[0;32mpandas/_libs/parsers.pyx\u001b[0m in \u001b[0;36mpandas._libs.parsers.TextReader.__cinit__\u001b[0;34m()\u001b[0m\n",
      "\u001b[0;32mpandas/_libs/parsers.pyx\u001b[0m in \u001b[0;36mpandas._libs.parsers.TextReader._setup_parser_source\u001b[0;34m()\u001b[0m\n",
      "\u001b[0;31mFileNotFoundError\u001b[0m: [Errno 2] File b'/Users/zoepetard/Google Drive/Edinburgh/MscProj/FillingTheGaps/data/osm/landuse_grid50.csv' does not exist: b'/Users/zoepetard/Google Drive/Edinburgh/MscProj/FillingTheGaps/data/osm/landuse_grid50.csv'"
     ]
    }
   ],
   "source": [
    "osm_dir = \"/Users/zoepetard/Google Drive/Edinburgh/MscProj/FillingTheGaps/data/osm/\"\n",
    "filename = osm_dir + \"landuse_grid\" + str(GRID_SIZE) + \".csv\"\n",
    "\n",
    "pd_df=pd.read_csv(filename, sep=',',header=None, skiprows=1)\n",
    "\n",
    "land_use = pd_df.values\n",
    "\n",
    "cells = osm_reader.getGeoCells()\n",
    "\n",
    "\n",
    "for cell_num, cell in enumerate(cells):\n",
    "    cell_multi = cell[0][\"geometry\"]\n",
    "    cell_shape = shapely.geometry.asShape(cell_multi)\n",
    "    row = int(cell_num / GRID_SIZE)\n",
    "    col = int(cell_num % GRID_SIZE)\n",
    "    index = int(land_use[row][col])\n",
    "    if (index ==3):\n",
    "        land_use[row][col] = 1\n",
    "    else:\n",
    "        land_use[row][col] = 0\n",
    "        \n",
    "osm_dir = \"/Users/zoepetard/Google Drive/Edinburgh/MscProj/FillingTheGaps/data/osm/\"\n",
    "filename = osm_dir + \"landuse_green_grid\" + str(GRID_SIZE) + \".csv\"\n",
    "with open(filename, 'w') as csvfile:\n",
    "    csvfile.write(\"0=not green, 1=green \\n\")\n",
    "    writer = csv.writer(csvfile, lineterminator='\\n')\n",
    "    writer.writerows(land_use)        \n"
   ]
  },
  {
   "cell_type": "markdown",
   "metadata": {},
   "source": [
    "## Label cell geometry objects with major land use"
   ]
  },
  {
   "cell_type": "code",
   "execution_count": 4,
   "metadata": {},
   "outputs": [
    {
     "ename": "NameError",
     "evalue": "name 'cells' is not defined",
     "output_type": "error",
     "traceback": [
      "\u001b[0;31m---------------------------------------------------------------------------\u001b[0m",
      "\u001b[0;31mNameError\u001b[0m                                 Traceback (most recent call last)",
      "\u001b[0;32m<ipython-input-4-85ca7943221f>\u001b[0m in \u001b[0;36m<module>\u001b[0;34m\u001b[0m\n\u001b[1;32m      1\u001b[0m \u001b[0;31m## Only needs to be done once per test area\u001b[0m\u001b[0;34m\u001b[0m\u001b[0;34m\u001b[0m\u001b[0;34m\u001b[0m\u001b[0m\n\u001b[0;32m----> 2\u001b[0;31m \u001b[0;32mfor\u001b[0m \u001b[0mcell_num\u001b[0m\u001b[0;34m,\u001b[0m \u001b[0mcell\u001b[0m \u001b[0;32min\u001b[0m \u001b[0menumerate\u001b[0m\u001b[0;34m(\u001b[0m\u001b[0mcells\u001b[0m\u001b[0;34m)\u001b[0m\u001b[0;34m:\u001b[0m\u001b[0;34m\u001b[0m\u001b[0;34m\u001b[0m\u001b[0m\n\u001b[0m\u001b[1;32m      3\u001b[0m     \u001b[0mcell_multi\u001b[0m \u001b[0;34m=\u001b[0m \u001b[0mcell\u001b[0m\u001b[0;34m[\u001b[0m\u001b[0;36m0\u001b[0m\u001b[0;34m]\u001b[0m\u001b[0;34m[\u001b[0m\u001b[0;34m\"geometry\"\u001b[0m\u001b[0;34m]\u001b[0m\u001b[0;34m\u001b[0m\u001b[0;34m\u001b[0m\u001b[0m\n\u001b[1;32m      4\u001b[0m     \u001b[0mcell_shape\u001b[0m \u001b[0;34m=\u001b[0m \u001b[0mshapely\u001b[0m\u001b[0;34m.\u001b[0m\u001b[0mgeometry\u001b[0m\u001b[0;34m.\u001b[0m\u001b[0masShape\u001b[0m\u001b[0;34m(\u001b[0m\u001b[0mcell_multi\u001b[0m\u001b[0;34m)\u001b[0m\u001b[0;34m\u001b[0m\u001b[0;34m\u001b[0m\u001b[0m\n\u001b[1;32m      5\u001b[0m \u001b[0;34m\u001b[0m\u001b[0m\n",
      "\u001b[0;31mNameError\u001b[0m: name 'cells' is not defined"
     ]
    }
   ],
   "source": [
    "## Only needs to be done once per test area\n",
    "for cell_num, cell in enumerate(cells):\n",
    "    cell_multi = cell[0][\"geometry\"]\n",
    "    cell_shape = shapely.geometry.asShape(cell_multi)\n",
    "    \n",
    "    LU_areas = []\n",
    "    major_LU = 0\n",
    "    major_LU_index = 0\n",
    "\n",
    "    for LU_level, areaGeo in enumerate(areaGeos):\n",
    "        features = areaGeo[\"features\"]\n",
    "        #print(len(features))\n",
    "        area = 0\n",
    "        for feat in range(len(features)):\n",
    "            landuse_multi = areaGeo[\"features\"][feat][\"geometry\"] \n",
    "            landuse_shape = shapely.geometry.asShape(landuse_multi)\n",
    "            intersection = cell_shape.intersection(landuse_shape)\n",
    "            area += intersection.area\n",
    "        LU_areas.append(area)\n",
    "        if (area > major_LU):\n",
    "            major_LU = area\n",
    "            major_LU_index = LU_level\n",
    "    if (major_LU_index == 0): #if there are no landuses in the cell, make it the middle land use category\n",
    "        major_LU_index = 2\n",
    "    #osm_reader.addLandUse(pixelMap, cell_multi, major_LU_index)\n",
    "    cells[cell_num][0][\"properties\"][\"major_LU\"] = major_LU_index\n",
    "    \n",
    "#iterate over first 0/1 to go through diff landuse collections (levels 1 to 6)\n",
    "#iterate over second 0/1 to go through diff landuse items (items within a level)\n"
   ]
  },
  {
   "cell_type": "markdown",
   "metadata": {},
   "source": [
    "## Write cell major land use grid to csv for future retrieval"
   ]
  },
  {
   "cell_type": "code",
   "execution_count": 3,
   "metadata": {},
   "outputs": [],
   "source": [
    "## Only needs to be done once per test area\n",
    "cells = osm_reader.getCellsWithMajorLU()\n",
    "cells_majorLU = np.zeros((GRID_SIZE, GRID_SIZE))\n",
    "\n",
    "for cell_num, cell in enumerate(cells):\n",
    "    #cell_multi = cell[0][\"geometry\"]\n",
    "    major_LU = cell[0][\"properties\"][\"major_LU\"] #= major_LU_index\n",
    "    row = int(cell_num / GRID_SIZE)\n",
    "    col = int(cell_num % GRID_SIZE)\n",
    "    cells_majorLU[row][col] = major_LU\n",
    "\n",
    "osm_dir = \"/Users/ryanegan/Documents/diss/projectZoe/data/osm/\"\n",
    "filename = osm_dir + \"landuse_grid\" + str(GRID_SIZE) + \".csv\"\n",
    "with open(filename, 'w') as csvfile:\n",
    "    csvfile.write(\"1=commercial, 2=residential, 3=green\" + \"\\n\")\n",
    "    writer = csv.writer(csvfile, lineterminator='\\n')\n",
    "    writer.writerows(cells_majorLU)"
   ]
  },
  {
   "cell_type": "markdown",
   "metadata": {},
   "source": [
    "## Label cell geometry objects with major road type."
   ]
  },
  {
   "cell_type": "code",
   "execution_count": 21,
   "metadata": {},
   "outputs": [],
   "source": [
    "## Only needs to be done once per test area\n",
    "for cell_num, cell in enumerate(cells):\n",
    "    cell_multi = cell[0][\"geometry\"]\n",
    "    cell_shape = shapely.geometry.asShape(cell_multi)\n",
    "    \n",
    "    for road_level, roadGeo in enumerate(roadGeos):\n",
    "        cells[cell_num][0][\"properties\"][\"major_road\"] = 5 #As a default, road level is lowest\n",
    "        intersection = False \n",
    "        features = roadGeo[\"features\"]\n",
    "        for feat in range(len(features)):\n",
    "            roadtype_multi = roadGeo[\"features\"][feat][\"geometry\"] \n",
    "            roadtype_shape = shapely.geometry.asShape(roadtype_multi)\n",
    "            intersection = cell_shape.intersects(roadtype_shape)\n",
    "            if (intersection):\n",
    "                cells[cell_num][0][\"properties\"][\"major_road\"] = road_level\n",
    "                break\n",
    "        if (intersection):\n",
    "            break"
   ]
  },
  {
   "cell_type": "markdown",
   "metadata": {},
   "source": [
    "## Write cell major road type grid to csv for future retrieval"
   ]
  },
  {
   "cell_type": "code",
   "execution_count": 22,
   "metadata": {},
   "outputs": [],
   "source": [
    "## Only needs to be done once per test area\n",
    "cells_major_road = np.zeros((GRID_SIZE, GRID_SIZE))\n",
    "\n",
    "for cell_num, cell in enumerate(cells):\n",
    "    major_road = cell[0][\"properties\"][\"major_road\"] \n",
    "    row = int(cell_num / GRID_SIZE)\n",
    "    col = int(cell_num % GRID_SIZE)\n",
    "    cells_major_road[row][col] = major_road\n",
    "\n",
    "osm_dir = \"/Users/ryanegan/Documents/diss/projectZoe/data/osm/\"\n",
    "filename = osm_dir + \"roadtype_grid\" + str(GRID_SIZE) + \".csv\"\n",
    "with open(filename, 'w') as csvfile:\n",
    "    csvfile.write(\"0=primary, 1=secondary, 2=tertiary, 3=unclassified, 4=residential/service, 5=pedestrian/cycle/noroad\" + \"\\n\")\n",
    "    writer = csv.writer(csvfile, lineterminator='\\n')\n",
    "    writer.writerows(cells_major_road)"
   ]
  },
  {
   "cell_type": "code",
   "execution_count": null,
   "metadata": {},
   "outputs": [],
   "source": []
  }
 ],
 "metadata": {
  "kernelspec": {
   "display_name": "Python 3",
   "language": "python",
   "name": "python3"
  },
  "language_info": {
   "codemirror_mode": {
    "name": "ipython",
    "version": 3
   },
   "file_extension": ".py",
   "mimetype": "text/x-python",
   "name": "python",
   "nbconvert_exporter": "python",
   "pygments_lexer": "ipython3",
   "version": "3.6.8"
  }
 },
 "nbformat": 4,
 "nbformat_minor": 2
}
