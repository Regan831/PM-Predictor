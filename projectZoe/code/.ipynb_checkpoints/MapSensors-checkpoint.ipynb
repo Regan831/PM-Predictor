{
 "cells": [
  {
   "cell_type": "markdown",
   "metadata": {},
   "source": [
    "## Map Stationary and Mobile Sensor Data"
   ]
  },
  {
   "cell_type": "code",
   "execution_count": null,
   "metadata": {},
   "outputs": [],
   "source": [
    "import folium\n",
    "import numpy as np\n",
    "from constants import Constants\n",
    "\n",
    "constants = Constants()\n",
    "#map_dir = <DIRECTORY_TO_SAVE_MAP_IMAGES>"
   ]
  },
  {
   "cell_type": "code",
   "execution_count": null,
   "metadata": {},
   "outputs": [],
   "source": [
    "##Map the stationary sensors\n",
    "stationary_map = folium.Map(location=[55.943, -3.19], zoom_start=15,tiles=\"Stamen Toner\")\n",
    "mapStationarySensors(stationary_map)\n",
    "\n",
    "#stationary_map.save(map_dir + \"stationarySensors.html\")"
   ]
  },
  {
   "cell_type": "code",
   "execution_count": null,
   "metadata": {},
   "outputs": [],
   "source": [
    "## Map a data pollution collection walk\n",
    "mobile_map = folium.Map(location=[55.943, -3.19], zoom_start=15,tiles=\"Stamen Toner\")\n",
    "sid = 'XXM008' #or 'XXM007'. ID of the pollution belt that data was collected with\n",
    "mapPollutionWalk(mobile_map, start_date, sid)\n",
    "\n",
    "#mobile_map.save(map_dir + str(start_date) + \"_\" + str(sid_plot) + \".html\")"
   ]
  },
  {
   "cell_type": "code",
   "execution_count": null,
   "metadata": {},
   "outputs": [],
   "source": [
    "def mapStationarySensors(map_obj):\n",
    "    staticCoords = constants.getStaticCoords()\n",
    "    for i in range(staticCoords.shape[0]):\n",
    "        folium.CircleMarker((staticCoords[i][0], staticCoords[i][1]),\n",
    "                   radius=8,\n",
    "                    color='#000000',\n",
    "                    weight=1.0,\n",
    "                    fill_color='#000000',\n",
    "                    fill=True,\n",
    "                    fill_opacity=1,\n",
    "                   ).add_to(map_obj)\n",
    "\n",
    "def mapPollutionWalk(mapObj, start_date, sid):\n",
    "    end_date = getEndDate(start_date)\n",
    "    data_dir = \"/Users/zoepetard/Google Drive/Edinburgh/MscProj/FillingTheGaps/data/raw/personal/\"+str(start_date)+\"-\"+str(end_date)+\"/\"\n",
    "    sids = ['XXM007', 'XXM008']\n",
    "    pdata = data_downloader.readAirSpeckPCSV(start_date, end_date, data_dir)\n",
    "    belt_index = sids.index(sid)\n",
    "    \n",
    "    maxPM = np.max(pdata[belt_index][\"PM2.5\"])\n",
    "    minPM = np.min(pdata[belt_index][\"PM2.5\"])\n",
    "            \n",
    "    ##Add validation walk\n",
    "    for j in range(len(pdata[belt_index])):\n",
    "        folium.CircleMarker((pdata[belt_index][\"latitude\"][j], pdata[belt_index][\"longitude\"][j]),\n",
    "                    radius=5,\n",
    "                    color='#000000',\n",
    "                    weight=1.0,\n",
    "                    fill_color=osm_reader.assignColor(pdata[belt_index][\"PM2.5\"][j], maxPM, minPM),\n",
    "                    fill=True,\n",
    "                    fill_opacity=1.0,\n",
    "                   ).add_to(mapObj)\n",
    "\n",
    "def getEndDate(start_date):\n",
    "    return start_date + 1"
   ]
  }
 ],
 "metadata": {
  "kernelspec": {
   "display_name": "Python 3",
   "language": "python",
   "name": "python3"
  },
  "language_info": {
   "codemirror_mode": {
    "name": "ipython",
    "version": 3
   },
   "file_extension": ".py",
   "mimetype": "text/x-python",
   "name": "python",
   "nbconvert_exporter": "python",
   "pygments_lexer": "ipython3",
   "version": "3.6.5"
  }
 },
 "nbformat": 4,
 "nbformat_minor": 2
}
